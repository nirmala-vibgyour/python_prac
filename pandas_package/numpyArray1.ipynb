{
 "cells": [
  {
   "cell_type": "markdown",
   "id": "9c44ebf5-575b-4e7b-8456-f8eb2eb6ed82",
   "metadata": {},
   "source": [
    "Numpy Array Object (ndarray)\n",
    "Two parts:\n",
    "1. raw data\n",
    "2. metadata"
   ]
  },
  {
   "cell_type": "code",
   "execution_count": 91,
   "id": "d363f62c-822f-44d0-a9dd-64973ce8f032",
   "metadata": {},
   "outputs": [
    {
     "name": "stdout",
     "output_type": "stream",
     "text": [
      "[0 1 2 3 4] (5,)\n",
      "[[0 1 2 3 4]\n",
      " [0 1 2 3 4]] (2, 5)\n",
      "[[0 1 2 3 4]\n",
      " [0 1 2 3 4]\n",
      " [0 1 2 3 4]] (3, 5)\n",
      "[1 3 5 7 9] (5,)\n"
     ]
    }
   ],
   "source": [
    "import numpy as np\n",
    "\n",
    "a = np.arange(5)    # 1-D array\n",
    "print(a, a.shape)\n",
    "\n",
    "m = np.array([np.arange(5), np.arange(5)])    # 2-D array\n",
    "print(m, m.shape)\n",
    "\n",
    "n = np.array([np.arange(5), np.arange(5), np.arange(5)])    # 3-D array\n",
    "print(n, n.shape)\n",
    "\n",
    "d = np.arange(start=1, stop = 10, step = 2)\n",
    "print(d, d.shape)"
   ]
  },
  {
   "cell_type": "code",
   "execution_count": 41,
   "id": "d1b396ff-7d45-4455-a3b2-4b56e320b2b6",
   "metadata": {},
   "outputs": [
    {
     "name": "stdout",
     "output_type": "stream",
     "text": [
      "[0. 1. 2. 3. 4. 5.] (6,)\n"
     ]
    }
   ],
   "source": [
    "# numpy numerical datatype: int(5), unit(4), float(3), bool, complex\n",
    "\n",
    "a = np.arange(6.0)    # 1-D array\n",
    "print(a, a.shape)"
   ]
  },
  {
   "cell_type": "code",
   "execution_count": 42,
   "id": "96749810-e4d9-4cfe-8d93-0c62f36732cf",
   "metadata": {},
   "outputs": [
    {
     "name": "stdout",
     "output_type": "stream",
     "text": [
      "[] (0,)\n"
     ]
    }
   ],
   "source": [
    "a = np.arange(-5)    # NOT PERMISSIBLE\n",
    "print(a, a.shape)"
   ]
  },
  {
   "cell_type": "code",
   "execution_count": 79,
   "id": "4c425f9c-cc5c-4adc-b377-783d742d2604",
   "metadata": {},
   "outputs": [
    {
     "name": "stdout",
     "output_type": "stream",
     "text": [
      "[0.+0.j 1.+0.j 2.+0.j 3.+0.j 4.+0.j 5.+0.j 6.+0.j]\n"
     ]
    }
   ],
   "source": [
    "b = np.arange(7, dtype=np.complex128)    # complex64\n",
    "print(b)"
   ]
  },
  {
   "cell_type": "code",
   "execution_count": 77,
   "id": "11046b7e-441a-4214-bbdc-133d505abbb5",
   "metadata": {},
   "outputs": [
    {
     "name": "stdout",
     "output_type": "stream",
     "text": [
      "['nirmala' 'jane']\n"
     ]
    }
   ],
   "source": [
    "import numpy as np\n",
    "names = np.array(['nirmala', 'jane'], dtype='U10')    # S10 and U100\n",
    "print(names)"
   ]
  },
  {
   "cell_type": "code",
   "execution_count": 78,
   "id": "99c4e854-361a-487a-9774-3cb0d7c76343",
   "metadata": {},
   "outputs": [
    {
     "name": "stdout",
     "output_type": "stream",
     "text": [
      "[False  True]\n"
     ]
    }
   ],
   "source": [
    "flag = np.arange(2, dtype=np.bool)    # ONLY TWO INPUTS\n",
    "print(flag)"
   ]
  },
  {
   "cell_type": "code",
   "execution_count": 80,
   "id": "78049c35-2ebd-4ae4-9a48-32efc7964933",
   "metadata": {},
   "outputs": [
    {
     "name": "stdout",
     "output_type": "stream",
     "text": [
      "[0 1 2 3 4 5 6]\n"
     ]
    }
   ],
   "source": [
    "integerNum = np.arange(7, dtype=np.uint16)    # 8, 32, 64\n",
    "print(integerNum)"
   ]
  },
  {
   "cell_type": "code",
   "execution_count": 82,
   "id": "0bbfeec0-36d2-475e-b88f-8c8fb049c434",
   "metadata": {},
   "outputs": [
    {
     "name": "stdout",
     "output_type": "stream",
     "text": [
      "[0 1 2 3 4 5 6]\n"
     ]
    }
   ],
   "source": [
    "integerPlatfrm = np.arange(7, dtype=np.intp)    # 32 or 64\n",
    "print(integerPlatfrm)"
   ]
  },
  {
   "cell_type": "code",
   "execution_count": 83,
   "id": "6961fee6-6f55-4377-8605-195d8802522c",
   "metadata": {},
   "outputs": [
    {
     "name": "stdout",
     "output_type": "stream",
     "text": [
      "[0. 1. 2. 3. 4. 5. 6.]\n"
     ]
    }
   ],
   "source": [
    "floatNum = np.arange(7, dtype=np.float16)    # 8, 16, 32, 64\n",
    "print(floatNum)"
   ]
  },
  {
   "cell_type": "code",
   "execution_count": 84,
   "id": "18908f97-721d-4c8e-afe1-377605bc6633",
   "metadata": {},
   "outputs": [],
   "source": [
    "# creating record type\n",
    "S"
   ]
  },
  {
   "cell_type": "code",
   "execution_count": 89,
   "id": "30fe603a-6a67-45a5-b420-a4b3c1888bc2",
   "metadata": {},
   "outputs": [
    {
     "name": "stdout",
     "output_type": "stream",
     "text": [
      "[('name', '<U40'), ('numitems', '<i4'), ('price', '<f4')]\n"
     ]
    }
   ],
   "source": [
    "import numpy as np\n",
    "t = np.dtype([('name', np.str_, 40), ('numitems', np.int32), ('price', np.float32)])\n",
    "print(t)"
   ]
  },
  {
   "cell_type": "code",
   "execution_count": 92,
   "id": "6a7c3c22-a7ae-4d6d-a683-2bae1c993957",
   "metadata": {},
   "outputs": [
    {
     "name": "stdout",
     "output_type": "stream",
     "text": [
      "6\n"
     ]
    }
   ],
   "source": [
    "df = np.array(6)\n",
    "print(df)"
   ]
  },
  {
   "cell_type": "code",
   "execution_count": null,
   "id": "c6245ae7-2fb4-48f9-bad7-42744541e5a1",
   "metadata": {},
   "outputs": [],
   "source": [
    "sliced_a = a[1:, :, :2]  # From the second block onward, all rows, first two columns"
   ]
  }
 ],
 "metadata": {
  "kernelspec": {
   "display_name": "pandas_venv",
   "language": "python",
   "name": "pandas_venv"
  },
  "language_info": {
   "codemirror_mode": {
    "name": "ipython",
    "version": 3
   },
   "file_extension": ".py",
   "mimetype": "text/x-python",
   "name": "python",
   "nbconvert_exporter": "python",
   "pygments_lexer": "ipython3",
   "version": "3.12.5"
  }
 },
 "nbformat": 4,
 "nbformat_minor": 5
}
