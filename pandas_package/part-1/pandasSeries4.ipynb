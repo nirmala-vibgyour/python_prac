{
 "cells": [
  {
   "cell_type": "markdown",
   "id": "04b34eb0-fa7b-405e-82bb-fbdbe8f5938e",
   "metadata": {},
   "source": [
    "## **Creating Pandas Series 1**"
   ]
  },
  {
   "cell_type": "code",
   "execution_count": 1,
   "id": "0499a069-fcab-44fd-a258-dd5b76ff4d8b",
   "metadata": {},
   "outputs": [],
   "source": [
    "import pandas as pd"
   ]
  },
  {
   "cell_type": "markdown",
   "id": "4227b1ef-1892-41a4-8071-319a70aaaf15",
   "metadata": {},
   "source": [
    "### **creating from scratch with pd.Series()**"
   ]
  },
  {
   "cell_type": "code",
   "execution_count": 3,
   "id": "263a03c7-1883-44fc-a098-b17458490a79",
   "metadata": {},
   "outputs": [
    {
     "data": {
      "text/plain": [
       "0    10\n",
       "1    25\n",
       "2     6\n",
       "3    36\n",
       "4     2\n",
       "dtype: int64"
      ]
     },
     "execution_count": 3,
     "metadata": {},
     "output_type": "execute_result"
    }
   ],
   "source": [
    "pd.Series([10, 25, 6, 36, 2])"
   ]
  },
  {
   "cell_type": "code",
   "execution_count": 4,
   "id": "b35ffa80-819f-4e1a-b9a4-07a3a9464853",
   "metadata": {},
   "outputs": [
    {
     "data": {
      "text/plain": [
       "Mon     10\n",
       "Tue     25\n",
       "Wed      6\n",
       "Thur    36\n",
       "Fri      2\n",
       "dtype: int64"
      ]
     },
     "execution_count": 4,
     "metadata": {},
     "output_type": "execute_result"
    }
   ],
   "source": [
    "pd.Series([10, 25, 6, 36, 2], index=['Mon', 'Tue', 'Wed', 'Thur', 'Fri']) "
   ]
  },
  {
   "cell_type": "code",
   "execution_count": 5,
   "id": "66908e22-a03f-404b-9245-fbed5ed39e45",
   "metadata": {},
   "outputs": [
    {
     "data": {
      "text/plain": [
       "Mon     10\n",
       "Tue     25\n",
       "Wed      6\n",
       "Thur    36\n",
       "Fri      2\n",
       "Name: Sales, dtype: int64"
      ]
     },
     "execution_count": 5,
     "metadata": {},
     "output_type": "execute_result"
    }
   ],
   "source": [
    "pd.Series([10, 25, 6, 36, 2], index=['Mon', 'Tue', 'Wed', 'Thur', 'Fri'], name='Sales') "
   ]
  },
  {
   "cell_type": "markdown",
   "id": "15a79bdd-d4a3-42c7-ad0e-7dba69abe851",
   "metadata": {},
   "source": [
    "## **Creating Pandas Series 2**"
   ]
  },
  {
   "cell_type": "code",
   "execution_count": 6,
   "id": "fe3b7a4a-d1a8-44eb-9a16-1ad19166bba8",
   "metadata": {},
   "outputs": [],
   "source": [
    "import numpy as np"
   ]
  },
  {
   "cell_type": "code",
   "execution_count": 8,
   "id": "cb27ca03-ede4-4dc4-bc73-330ff81ed278",
   "metadata": {},
   "outputs": [
    {
     "data": {
      "text/plain": [
       "array([10, 25,  6, 36,  2])"
      ]
     },
     "execution_count": 8,
     "metadata": {},
     "output_type": "execute_result"
    }
   ],
   "source": [
    "sales = np.array([10, 25, 6, 36, 2])\n",
    "sales"
   ]
  },
  {
   "cell_type": "code",
   "execution_count": 9,
   "id": "6bcc5357-9f4c-4874-b7ec-bda0bf2d0e58",
   "metadata": {},
   "outputs": [
    {
     "data": {
      "text/plain": [
       "0    10\n",
       "1    25\n",
       "2     6\n",
       "3    36\n",
       "4     2\n",
       "dtype: int64"
      ]
     },
     "execution_count": 9,
     "metadata": {},
     "output_type": "execute_result"
    }
   ],
   "source": [
    "sales = [10, 25, 6, 36, 2]\n",
    "pd.Series(sales)"
   ]
  },
  {
   "cell_type": "code",
   "execution_count": 10,
   "id": "35d2054a-e71e-4e00-b1c5-df68d42e7b87",
   "metadata": {},
   "outputs": [],
   "source": [
    "dic = {\"Mon\":10, \"Tue\":25, \"Wed\":6, \"Thu\":36, \"Fri\":2}"
   ]
  },
  {
   "cell_type": "code",
   "execution_count": 11,
   "id": "a0a380e8-4d1c-4111-b880-a6fdf276e5f3",
   "metadata": {},
   "outputs": [],
   "source": [
    "sales = pd.Series(dic)"
   ]
  },
  {
   "cell_type": "code",
   "execution_count": 12,
   "id": "105f3a21-7aa4-427a-8baa-6c7be6ad9b18",
   "metadata": {},
   "outputs": [
    {
     "data": {
      "text/plain": [
       "Mon    10\n",
       "Tue    25\n",
       "Wed     6\n",
       "Thu    36\n",
       "Fri     2\n",
       "dtype: int64"
      ]
     },
     "execution_count": 12,
     "metadata": {},
     "output_type": "execute_result"
    }
   ],
   "source": [
    "sales"
   ]
  },
  {
   "cell_type": "code",
   "execution_count": 13,
   "id": "5dfa00c9-27c9-463c-90a1-5541bde0f6e7",
   "metadata": {},
   "outputs": [
    {
     "data": {
      "text/plain": [
       "Fri     2.0\n",
       "Sat     NaN\n",
       "Sun     NaN\n",
       "Mon    10.0\n",
       "Tue    25.0\n",
       "Wed     6.0\n",
       "dtype: float64"
      ]
     },
     "execution_count": 13,
     "metadata": {},
     "output_type": "execute_result"
    }
   ],
   "source": [
    "pd.Series(dic, index = [\"Fri\", \"Sat\", \"Sun\", \"Mon\", \"Tue\", \"Wed\"])"
   ]
  },
  {
   "cell_type": "code",
   "execution_count": 14,
   "id": "f6cee080-e06f-4bf4-a60b-c74df4f2b8aa",
   "metadata": {},
   "outputs": [
    {
     "data": {
      "text/plain": [
       "1   NaN\n",
       "2   NaN\n",
       "3   NaN\n",
       "4   NaN\n",
       "5   NaN\n",
       "dtype: float64"
      ]
     },
     "execution_count": 14,
     "metadata": {},
     "output_type": "execute_result"
    }
   ],
   "source": [
    "pd.Series(dic, index = [1, 2, 3, 4, 5])"
   ]
  },
  {
   "cell_type": "markdown",
   "id": "fa286fa9-2346-47e6-a37e-1ed2d0527bca",
   "metadata": {},
   "source": [
    "## **Indexing and Slicing**"
   ]
  },
  {
   "cell_type": "code",
   "execution_count": 16,
   "id": "b277ba19-9791-43c4-a73f-ad098f04bcf2",
   "metadata": {},
   "outputs": [],
   "source": [
    "titanic = pd.read_csv(\"./Course_Materials_Part1/Video_Lecture_NBs/titanic.csv\")\n",
    "age = titanic[\"age\"]"
   ]
  },
  {
   "cell_type": "code",
   "execution_count": 17,
   "id": "e9a55958-6817-44cc-b5ef-543541f40409",
   "metadata": {},
   "outputs": [
    {
     "data": {
      "text/plain": [
       "0      22.0\n",
       "1      38.0\n",
       "2      26.0\n",
       "3      35.0\n",
       "4      35.0\n",
       "       ... \n",
       "886    27.0\n",
       "887    19.0\n",
       "888     NaN\n",
       "889    26.0\n",
       "890    32.0\n",
       "Name: age, Length: 891, dtype: float64"
      ]
     },
     "execution_count": 17,
     "metadata": {},
     "output_type": "execute_result"
    }
   ],
   "source": [
    "age"
   ]
  },
  {
   "cell_type": "code",
   "execution_count": 18,
   "id": "0e80fc56-bb46-4105-a6bb-14489f5740c9",
   "metadata": {},
   "outputs": [
    {
     "data": {
      "text/plain": [
       "22.0"
      ]
     },
     "execution_count": 18,
     "metadata": {},
     "output_type": "execute_result"
    }
   ],
   "source": [
    "age[0]"
   ]
  },
  {
   "cell_type": "code",
   "execution_count": 21,
   "id": "997eb6ff-f818-484e-beeb-c4969ce1f4e1",
   "metadata": {},
   "outputs": [
    {
     "data": {
      "text/plain": [
       "32.0"
      ]
     },
     "execution_count": 21,
     "metadata": {},
     "output_type": "execute_result"
    }
   ],
   "source": [
    "age.iloc[-1]"
   ]
  },
  {
   "cell_type": "code",
   "execution_count": 22,
   "id": "2e9b574f-593b-4560-89c8-96fb3851d10b",
   "metadata": {},
   "outputs": [
    {
     "data": {
      "text/plain": [
       "26.0"
      ]
     },
     "execution_count": 22,
     "metadata": {},
     "output_type": "execute_result"
    }
   ],
   "source": [
    "age.iloc[-2]"
   ]
  },
  {
   "cell_type": "code",
   "execution_count": 23,
   "id": "7518d35a-0a9c-442c-a3fd-a104f44cbc22",
   "metadata": {},
   "outputs": [
    {
     "data": {
      "text/plain": [
       "32.0"
      ]
     },
     "execution_count": 23,
     "metadata": {},
     "output_type": "execute_result"
    }
   ],
   "source": [
    "age[890]"
   ]
  },
  {
   "cell_type": "code",
   "execution_count": 24,
   "id": "c0a3a175-518f-45bb-94ec-023257c76f32",
   "metadata": {},
   "outputs": [
    {
     "data": {
      "text/plain": [
       "0    22.0\n",
       "1    38.0\n",
       "2    26.0\n",
       "3    35.0\n",
       "4    35.0\n",
       "Name: age, dtype: float64"
      ]
     },
     "execution_count": 24,
     "metadata": {},
     "output_type": "execute_result"
    }
   ],
   "source": [
    "age[:5]"
   ]
  },
  {
   "cell_type": "code",
   "execution_count": 27,
   "id": "b8f01eba-4537-413a-937b-86fc30e3f095",
   "metadata": {},
   "outputs": [
    {
     "data": {
      "text/plain": [
       "0    22.0\n",
       "1    38.0\n",
       "2    26.0\n",
       "3    35.0\n",
       "4    35.0\n",
       "5     NaN\n",
       "Name: age, dtype: float64"
      ]
     },
     "execution_count": 27,
     "metadata": {},
     "output_type": "execute_result"
    }
   ],
   "source": [
    "age.iloc[:6]"
   ]
  },
  {
   "cell_type": "code",
   "execution_count": 26,
   "id": "f55a841a-f0da-45b9-9f2d-ddf81c8458be",
   "metadata": {},
   "outputs": [
    {
     "data": {
      "text/plain": [
       "0    22.0\n",
       "1    38.0\n",
       "2    26.0\n",
       "3    35.0\n",
       "4    35.0\n",
       "5     NaN\n",
       "Name: age, dtype: float64"
      ]
     },
     "execution_count": 26,
     "metadata": {},
     "output_type": "execute_result"
    }
   ],
   "source": [
    "age.loc[:5]"
   ]
  },
  {
   "cell_type": "code",
   "execution_count": 34,
   "id": "fb93a346-9736-48fa-b7b7-1691d2d70213",
   "metadata": {},
   "outputs": [],
   "source": [
    "summer = pd.read_csv(\"./Course_Materials_Part1/Video_Lecture_NBs/summer.csv\", index_col = \"Athlete\")"
   ]
  },
  {
   "cell_type": "code",
   "execution_count": 35,
   "id": "eece8a84-1fc4-4e0c-a411-b92a7c1103b4",
   "metadata": {},
   "outputs": [],
   "source": [
    "event = summer.Event"
   ]
  },
  {
   "cell_type": "code",
   "execution_count": 36,
   "id": "64efc9ae-7a9c-4a55-9d54-ab165bb1325d",
   "metadata": {},
   "outputs": [
    {
     "data": {
      "text/plain": [
       "Athlete\n",
       "HAJOS, Alfred                     100M Freestyle\n",
       "HERSCHMANN, Otto                  100M Freestyle\n",
       "DRIVAS, Dimitrios     100M Freestyle For Sailors\n",
       "MALOKINIS, Ioannis    100M Freestyle For Sailors\n",
       "CHASAPIS, Spiridon    100M Freestyle For Sailors\n",
       "Name: Event, dtype: object"
      ]
     },
     "execution_count": 36,
     "metadata": {},
     "output_type": "execute_result"
    }
   ],
   "source": [
    "event.head()"
   ]
  },
  {
   "cell_type": "code",
   "execution_count": 37,
   "id": "cbbb3895-d18e-4837-b35e-90d126ddeaeb",
   "metadata": {},
   "outputs": [
    {
     "data": {
      "text/plain": [
       "Athlete\n",
       "JANIKOWSKI, Damian           Wg 84 KG\n",
       "REZAEI, Ghasem Gholamreza    Wg 96 KG\n",
       "TOTROV, Rustam               Wg 96 KG\n",
       "ALEKSANYAN, Artur            Wg 96 KG\n",
       "LIDBERG, Jimmy               Wg 96 KG\n",
       "Name: Event, dtype: object"
      ]
     },
     "execution_count": 37,
     "metadata": {},
     "output_type": "execute_result"
    }
   ],
   "source": [
    "event.tail()"
   ]
  },
  {
   "cell_type": "code",
   "execution_count": 43,
   "id": "435d60e8-3e90-4e4b-b3cf-c07aba35232c",
   "metadata": {},
   "outputs": [
    {
     "data": {
      "text/plain": [
       "Index(['HAJOS, Alfred', 'HERSCHMANN, Otto', 'DRIVAS, Dimitrios',\n",
       "       'MALOKINIS, Ioannis', 'CHASAPIS, Spiridon', 'CHOROPHAS, Efstathios',\n",
       "       'HAJOS, Alfred', 'ANDREOU, Joannis', 'CHOROPHAS, Efstathios',\n",
       "       'NEUMANN, Paul',\n",
       "       ...\n",
       "       'AHMADOV, Emin', 'KAZAKEVIC, Aleksandr', 'KHUGAEV, Alan',\n",
       "       'EBRAHIM, Karam Mohamed Gaber', 'GAJIYEV, Danyal', 'JANIKOWSKI, Damian',\n",
       "       'REZAEI, Ghasem Gholamreza', 'TOTROV, Rustam', 'ALEKSANYAN, Artur',\n",
       "       'LIDBERG, Jimmy'],\n",
       "      dtype='object', name='Athlete', length=31165)"
      ]
     },
     "execution_count": 43,
     "metadata": {},
     "output_type": "execute_result"
    }
   ],
   "source": [
    "event.index"
   ]
  },
  {
   "cell_type": "code",
   "execution_count": 44,
   "id": "f54d1d37-acf3-475e-a112-c16d9582b135",
   "metadata": {},
   "outputs": [
    {
     "name": "stderr",
     "output_type": "stream",
     "text": [
      "C:\\Users\\nirma\\AppData\\Local\\Temp\\ipykernel_19604\\2895929443.py:1: FutureWarning: Series.__getitem__ treating keys as positions is deprecated. In a future version, integer keys will always be treated as labels (consistent with DataFrame behavior). To access a value by position, use `ser.iloc[pos]`\n",
      "  event[0]\n"
     ]
    },
    {
     "data": {
      "text/plain": [
       "'100M Freestyle'"
      ]
     },
     "execution_count": 44,
     "metadata": {},
     "output_type": "execute_result"
    }
   ],
   "source": [
    "event[0]"
   ]
  },
  {
   "cell_type": "code",
   "execution_count": 45,
   "id": "00c3274d-1546-4772-b470-737d82ea4202",
   "metadata": {},
   "outputs": [
    {
     "name": "stderr",
     "output_type": "stream",
     "text": [
      "C:\\Users\\nirma\\AppData\\Local\\Temp\\ipykernel_19604\\1555793735.py:1: FutureWarning: Series.__getitem__ treating keys as positions is deprecated. In a future version, integer keys will always be treated as labels (consistent with DataFrame behavior). To access a value by position, use `ser.iloc[pos]`\n",
      "  event[-1]\n"
     ]
    },
    {
     "data": {
      "text/plain": [
       "'Wg 96 KG'"
      ]
     },
     "execution_count": 45,
     "metadata": {},
     "output_type": "execute_result"
    }
   ],
   "source": [
    "event[-1]"
   ]
  },
  {
   "cell_type": "code",
   "execution_count": 46,
   "id": "f30630fc-f180-41a7-bf74-7944a6496cab",
   "metadata": {},
   "outputs": [
    {
     "data": {
      "text/plain": [
       "'Wg 96 KG'"
      ]
     },
     "execution_count": 46,
     "metadata": {},
     "output_type": "execute_result"
    }
   ],
   "source": [
    "event.iloc[-1]"
   ]
  },
  {
   "cell_type": "code",
   "execution_count": 47,
   "id": "efc35eed-c086-4394-8357-a3f42ae9ed5a",
   "metadata": {},
   "outputs": [
    {
     "data": {
      "text/plain": [
       "'100M Freestyle For Sailors'"
      ]
     },
     "execution_count": 47,
     "metadata": {},
     "output_type": "execute_result"
    }
   ],
   "source": [
    "event[\"DRIVAS, Dimitrios\"]"
   ]
  },
  {
   "cell_type": "code",
   "execution_count": 48,
   "id": "38e8079e-6a8a-4822-a6e1-c752063ea3e9",
   "metadata": {},
   "outputs": [
    {
     "data": {
      "text/plain": [
       "Athlete\n",
       "PHELPS, Michael            100M Butterfly\n",
       "PHELPS, Michael            200M Butterfly\n",
       "PHELPS, Michael            200M Freestyle\n",
       "PHELPS, Michael    200M Individual Medley\n",
       "PHELPS, Michael    400M Individual Medley\n",
       "PHELPS, Michael    4X100M Freestyle Relay\n",
       "PHELPS, Michael       4X100M Medley Relay\n",
       "PHELPS, Michael    4X200M Freestyle Relay\n",
       "PHELPS, Michael            100M Butterfly\n",
       "PHELPS, Michael            200M Butterfly\n",
       "PHELPS, Michael            200M Freestyle\n",
       "PHELPS, Michael    200M Individual Medley\n",
       "PHELPS, Michael    400M Individual Medley\n",
       "PHELPS, Michael    4X100M Freestyle Relay\n",
       "PHELPS, Michael       4X100M Medley Relay\n",
       "PHELPS, Michael    4X200M Freestyle Relay\n",
       "PHELPS, Michael            100M Butterfly\n",
       "PHELPS, Michael            200M Butterfly\n",
       "PHELPS, Michael               200M Medley\n",
       "PHELPS, Michael          4X100M Freestyle\n",
       "PHELPS, Michael             4X100M Medley\n",
       "PHELPS, Michael          4X200M Freestyle\n",
       "Name: Event, dtype: object"
      ]
     },
     "execution_count": 48,
     "metadata": {},
     "output_type": "execute_result"
    }
   ],
   "source": [
    "event[\"PHELPS, Michael\"]"
   ]
  },
  {
   "cell_type": "code",
   "execution_count": 52,
   "id": "9a950282-af89-4d43-80e4-4635341aa43d",
   "metadata": {},
   "outputs": [
    {
     "data": {
      "text/plain": [
       "Athlete\n",
       "PHELPS, Michael            100M Butterfly\n",
       "PHELPS, Michael            200M Butterfly\n",
       "PHELPS, Michael            200M Freestyle\n",
       "PHELPS, Michael    200M Individual Medley\n",
       "PHELPS, Michael    400M Individual Medley\n",
       "PHELPS, Michael    4X100M Freestyle Relay\n",
       "PHELPS, Michael       4X100M Medley Relay\n",
       "PHELPS, Michael    4X200M Freestyle Relay\n",
       "PHELPS, Michael            100M Butterfly\n",
       "PHELPS, Michael            200M Butterfly\n",
       "PHELPS, Michael            200M Freestyle\n",
       "PHELPS, Michael    200M Individual Medley\n",
       "PHELPS, Michael    400M Individual Medley\n",
       "PHELPS, Michael    4X100M Freestyle Relay\n",
       "PHELPS, Michael       4X100M Medley Relay\n",
       "PHELPS, Michael    4X200M Freestyle Relay\n",
       "PHELPS, Michael            100M Butterfly\n",
       "PHELPS, Michael            200M Butterfly\n",
       "PHELPS, Michael               200M Medley\n",
       "PHELPS, Michael          4X100M Freestyle\n",
       "PHELPS, Michael             4X100M Medley\n",
       "PHELPS, Michael          4X200M Freestyle\n",
       "LEWIS, Carl                          100M\n",
       "LEWIS, Carl                          200M\n",
       "LEWIS, Carl                  4X100M Relay\n",
       "LEWIS, Carl                     Long Jump\n",
       "LEWIS, Carl                          100M\n",
       "LEWIS, Carl                          200M\n",
       "LEWIS, Carl                     Long Jump\n",
       "LEWIS, Carl                  4X100M Relay\n",
       "LEWIS, Carl                     Long Jump\n",
       "LEWIS, Carl                     Long Jump\n",
       "Name: Event, dtype: object"
      ]
     },
     "execution_count": 52,
     "metadata": {},
     "output_type": "execute_result"
    }
   ],
   "source": [
    "event.loc[[\"PHELPS, Michael\", \"LEWIS, Carl\"]]"
   ]
  },
  {
   "cell_type": "markdown",
   "id": "c2f2b508-0c21-479e-9ea3-9f09274df730",
   "metadata": {},
   "source": [
    "## **Sorting and introduction to the inplace-parameter**"
   ]
  },
  {
   "cell_type": "code",
   "execution_count": null,
   "id": "3ecd8a50-e7fe-4bd6-b9c0-c29cc1875c0e",
   "metadata": {},
   "outputs": [],
   "source": [
    "dic"
   ]
  }
 ],
 "metadata": {
  "kernelspec": {
   "display_name": "Python 3 (ipykernel)",
   "language": "python",
   "name": "python3"
  },
  "language_info": {
   "codemirror_mode": {
    "name": "ipython",
    "version": 3
   },
   "file_extension": ".py",
   "mimetype": "text/x-python",
   "name": "python",
   "nbconvert_exporter": "python",
   "pygments_lexer": "ipython3",
   "version": "3.12.4"
  }
 },
 "nbformat": 4,
 "nbformat_minor": 5
}
