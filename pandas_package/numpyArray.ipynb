{
 "cells": [
  {
   "cell_type": "code",
   "execution_count": 2,
   "id": "f445349c-c578-4528-85c2-57f89e2e10f7",
   "metadata": {},
   "outputs": [
    {
     "name": "stdout",
     "output_type": "stream",
     "text": [
      "The last 2 elements of the sum [0]\n",
      "PythonSum elapsed time in microseconds 17.824216 and 17.826562700000068\n",
      "The last 2 elements of the sum [1953764206006896636 1983764205306896640]\n",
      "NumPySum elapsed time in microseconds 2.693081 and 2.6969030999971437\n"
     ]
    }
   ],
   "source": [
    "\"\"\"\n",
    "This program demonstrates vector addition the Python way.\n",
    "Run from the command line as follows\n",
    "python vectorsum.py n\n",
    "where n is an integer that specifies the size of the vectors.\n",
    "The first vector to be added contains the squares of 0 up to n.\n",
    "The second vector contains the cubes of 0 up to n.\n",
    "The program prints the last 2 elements of the sum and the elapsed\n",
    "time.\n",
    "\"\"\"\n",
    "# microseconds only gives the microsecond part of the timedelta, not the total time. \n",
    "# This value is within the range [0, 999999], and it does not include any seconds or days.\n",
    "# NumPy arrays are specialized data structures for numerical data.\n",
    "import numpy as np\n",
    "import IPython, scipy\n",
    "from datetime import datetime\n",
    "from time import perf_counter\n",
    "# import sys\n",
    "\n",
    "def numpysum(n):\n",
    "    a = np.arange(n) ** 2\n",
    "    b = np.arange(n) ** 3\n",
    "    c = a + b\n",
    "    return c\n",
    "\n",
    "def pythonsum(n):\n",
    "    a = list(range(n))\n",
    "    b = list(range(n))\n",
    "    c = []\n",
    "    for i in range(len(a)):\n",
    "        a[i] = i ** 2\n",
    "        b[i] = i ** 3\n",
    "        c.append(a[i] + b[i])\n",
    "        return c\n",
    "# size = int(sys.argvs[1])\n",
    "size = 100000000\n",
    "start = datetime.now()\n",
    "t1_start = perf_counter() \n",
    "c = pythonsum(size)\n",
    "t1_stop = perf_counter()\n",
    "t1 = (t1_stop - t1_start)\n",
    "delta = datetime.now() - start\n",
    "print(\"The last 2 elements of the sum\", c[-2:])\n",
    "print(\"PythonSum elapsed time in microseconds\", delta.total_seconds(), \"and\", t1 )\n",
    "start = datetime.now()\n",
    "t2_start = perf_counter() \n",
    "c = numpysum(size)\n",
    "t2_stop = perf_counter()\n",
    "t2 = t2_stop - t2_start\n",
    "delta = datetime.now() - start\n",
    "print(\"The last 2 elements of the sum\", c[-2:])\n",
    "print(\"NumPySum elapsed time in microseconds\", delta.total_seconds(), \"and\", t2)"
   ]
  },
  {
   "cell_type": "code",
   "execution_count": null,
   "id": "13780636-d06a-42de-b531-10b2f4fa22be",
   "metadata": {},
   "outputs": [],
   "source": []
  }
 ],
 "metadata": {
  "kernelspec": {
   "display_name": "pandas_venv",
   "language": "python",
   "name": "pandas_venv"
  },
  "language_info": {
   "codemirror_mode": {
    "name": "ipython",
    "version": 3
   },
   "file_extension": ".py",
   "mimetype": "text/x-python",
   "name": "python",
   "nbconvert_exporter": "python",
   "pygments_lexer": "ipython3",
   "version": "3.12.5"
  }
 },
 "nbformat": 4,
 "nbformat_minor": 5
}
