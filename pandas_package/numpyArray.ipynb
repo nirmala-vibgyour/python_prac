{
 "cells": [
  {
   "cell_type": "code",
   "execution_count": 2,
   "id": "f445349c-c578-4528-85c2-57f89e2e10f7",
   "metadata": {},
   "outputs": [],
   "source": [
    "import numpy as np\n",
    "import IPython, scipy\n"
   ]
  }
 ],
 "metadata": {
  "kernelspec": {
   "display_name": "pandas_venv",
   "language": "python",
   "name": "pandas_venv"
  },
  "language_info": {
   "codemirror_mode": {
    "name": "ipython",
    "version": 3
   },
   "file_extension": ".py",
   "mimetype": "text/x-python",
   "name": "python",
   "nbconvert_exporter": "python",
   "pygments_lexer": "ipython3",
   "version": "3.12.5"
  }
 },
 "nbformat": 4,
 "nbformat_minor": 5
}
