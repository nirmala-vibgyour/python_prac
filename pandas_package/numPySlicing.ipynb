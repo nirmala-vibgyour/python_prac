{
 "cells": [
  {
   "cell_type": "code",
   "execution_count": 5,
   "id": "657ca70c-f0ff-40cb-b11f-a444dc8fef9c",
   "metadata": {},
   "outputs": [
    {
     "name": "stdout",
     "output_type": "stream",
     "text": [
      "[3 4 5 6]\n",
      "[0 2 4 6]\n",
      "[8 7 6 5 4 3 2 1 0]\n"
     ]
    }
   ],
   "source": [
    "import numpy as np\n",
    "a = np.arange(9)\n",
    "# slicing is done using [star:stop:step]\n",
    "print(a[3:7])\n",
    "print(a[:7:2])\n",
    "print(a[::-1])"
   ]
  },
  {
   "cell_type": "markdown",
   "id": "0fc2ad91-0ccf-4933-ba1f-2f633e112b08",
   "metadata": {},
   "source": [
    "ARRAY SHAPES"
   ]
  },
  {
   "cell_type": "code",
   "execution_count": 9,
   "id": "bb7c7fa3-4e74-47c0-a2bc-b2ec42d5666b",
   "metadata": {},
   "outputs": [
    {
     "name": "stdout",
     "output_type": "stream",
     "text": [
      "[1 2 3 4 5 6] \n",
      " [1 4 2 5 3 6] \n",
      " [1 2 3 4 5 6]\n"
     ]
    }
   ],
   "source": [
    "# Row-major Order ('C')\n",
    "# Column-major Order ('F')\n",
    "# Fortran-style Order ('A')\n",
    "\n",
    "e = np.array([[1, 2, 3], [4, 5, 6]])\n",
    "flattened1 = e.ravel(order='C')\n",
    "\n",
    "f = np.array([[1, 2, 3], [4, 5, 6]])\n",
    "flattened2 = f.ravel(order='F')\n",
    "\n",
    "g = np.array([[1, 2, 3], [4, 5, 6]])\n",
    "flattened3 = g.ravel(order='A')\n",
    "\n",
    "print(flattened1, \"\\n\", flattened2, \"\\n\", flattened3)"
   ]
  },
  {
   "cell_type": "code",
   "execution_count": null,
   "id": "5a688304-1561-412c-92bd-f9febff704fd",
   "metadata": {},
   "outputs": [],
   "source": []
  }
 ],
 "metadata": {
  "kernelspec": {
   "display_name": "pandas_venv",
   "language": "python",
   "name": "pandas_venv"
  },
  "language_info": {
   "codemirror_mode": {
    "name": "ipython",
    "version": 3
   },
   "file_extension": ".py",
   "mimetype": "text/x-python",
   "name": "python",
   "nbconvert_exporter": "python",
   "pygments_lexer": "ipython3",
   "version": "3.12.5"
  }
 },
 "nbformat": 4,
 "nbformat_minor": 5
}
