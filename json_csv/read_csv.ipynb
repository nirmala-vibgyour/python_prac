{
 "cells": [
  {
   "cell_type": "code",
   "execution_count": 130,
   "id": "c8a1bae3-fc24-4539-9ce2-025426d28c2a",
   "metadata": {},
   "outputs": [
    {
     "data": {
      "text/html": [
       "<div>\n",
       "<style scoped>\n",
       "    .dataframe tbody tr th:only-of-type {\n",
       "        vertical-align: middle;\n",
       "    }\n",
       "\n",
       "    .dataframe tbody tr th {\n",
       "        vertical-align: top;\n",
       "    }\n",
       "\n",
       "    .dataframe thead th {\n",
       "        text-align: right;\n",
       "    }\n",
       "</style>\n",
       "<table border=\"1\" class=\"dataframe\">\n",
       "  <thead>\n",
       "    <tr style=\"text-align: right;\">\n",
       "      <th></th>\n",
       "      <th>key</th>\n",
       "      <th>value</th>\n",
       "    </tr>\n",
       "  </thead>\n",
       "  <tbody>\n",
       "    <tr>\n",
       "      <th>0</th>\n",
       "      <td>ID</td>\n",
       "      <td>SGML</td>\n",
       "    </tr>\n",
       "    <tr>\n",
       "      <th>1</th>\n",
       "      <td>SortAs</td>\n",
       "      <td>SGML</td>\n",
       "    </tr>\n",
       "    <tr>\n",
       "      <th>2</th>\n",
       "      <td>GlossTerm</td>\n",
       "      <td>Standard Generalized Markup Language</td>\n",
       "    </tr>\n",
       "    <tr>\n",
       "      <th>3</th>\n",
       "      <td>Acronym</td>\n",
       "      <td>SGML</td>\n",
       "    </tr>\n",
       "    <tr>\n",
       "      <th>4</th>\n",
       "      <td>Abbrev</td>\n",
       "      <td>ISO 8879:1986</td>\n",
       "    </tr>\n",
       "    <tr>\n",
       "      <th>5</th>\n",
       "      <td>GlossDef</td>\n",
       "      <td>{'para': 'A meta-markup language, used to crea...</td>\n",
       "    </tr>\n",
       "    <tr>\n",
       "      <th>6</th>\n",
       "      <td>GlossSee</td>\n",
       "      <td>markup</td>\n",
       "    </tr>\n",
       "  </tbody>\n",
       "</table>\n",
       "</div>"
      ],
      "text/plain": [
       "         key                                              value\n",
       "0         ID                                               SGML\n",
       "1     SortAs                                               SGML\n",
       "2  GlossTerm               Standard Generalized Markup Language\n",
       "3    Acronym                                               SGML\n",
       "4     Abbrev                                      ISO 8879:1986\n",
       "5   GlossDef  {'para': 'A meta-markup language, used to crea...\n",
       "6   GlossSee                                             markup"
      ]
     },
     "execution_count": 130,
     "metadata": {},
     "output_type": "execute_result"
    }
   ],
   "source": [
    "import json\n",
    "import pandas as pd\n",
    "filename = \"sample.json\"\n",
    "df = pd.read_json(filename)\n",
    "df_1 = pd.DataFrame.from_dict(df.iloc[1, 0])\n",
    "# df_2 = pd.DataFrame.from_dict(df_1.iloc[0, 1])\n",
    "# df1 = pd.json_normalize(df.iloc[1,0]) this gives dataframe in format: confused\n",
    "# here, the items is nested list with tuples of two elements, for that two elements we need the two columns.\n",
    "df1 = pd.DataFrame(df_1.iloc[0, 1].items(), columns = ['key', 'value'] )\n",
    "df1"
   ]
  },
  {
   "cell_type": "code",
   "execution_count": 131,
   "id": "f5e34ae9-e05d-4ec9-9556-46f1a1246d2c",
   "metadata": {},
   "outputs": [
    {
     "data": {
      "text/html": [
       "<div>\n",
       "<style scoped>\n",
       "    .dataframe tbody tr th:only-of-type {\n",
       "        vertical-align: middle;\n",
       "    }\n",
       "\n",
       "    .dataframe tbody tr th {\n",
       "        vertical-align: top;\n",
       "    }\n",
       "\n",
       "    .dataframe thead th {\n",
       "        text-align: right;\n",
       "    }\n",
       "</style>\n",
       "<table border=\"1\" class=\"dataframe\">\n",
       "  <thead>\n",
       "    <tr style=\"text-align: right;\">\n",
       "      <th></th>\n",
       "      <th>glossary</th>\n",
       "    </tr>\n",
       "  </thead>\n",
       "  <tbody>\n",
       "    <tr>\n",
       "      <th>title</th>\n",
       "      <td>example glossary</td>\n",
       "    </tr>\n",
       "    <tr>\n",
       "      <th>GlossDiv</th>\n",
       "      <td>{'title': 'S', 'GlossList': {'GlossEntry': {'I...</td>\n",
       "    </tr>\n",
       "  </tbody>\n",
       "</table>\n",
       "</div>"
      ],
      "text/plain": [
       "                                                   glossary\n",
       "title                                      example glossary\n",
       "GlossDiv  {'title': 'S', 'GlossList': {'GlossEntry': {'I..."
      ]
     },
     "execution_count": 131,
     "metadata": {},
     "output_type": "execute_result"
    }
   ],
   "source": [
    "df"
   ]
  },
  {
   "cell_type": "code",
   "execution_count": 81,
   "id": "285d8d49-5ef3-446d-b92b-bc120a209f08",
   "metadata": {},
   "outputs": [
    {
     "data": {
      "text/html": [
       "<div>\n",
       "<style scoped>\n",
       "    .dataframe tbody tr th:only-of-type {\n",
       "        vertical-align: middle;\n",
       "    }\n",
       "\n",
       "    .dataframe tbody tr th {\n",
       "        vertical-align: top;\n",
       "    }\n",
       "\n",
       "    .dataframe thead th {\n",
       "        text-align: right;\n",
       "    }\n",
       "</style>\n",
       "<table border=\"1\" class=\"dataframe\">\n",
       "  <thead>\n",
       "    <tr style=\"text-align: right;\">\n",
       "      <th></th>\n",
       "      <th>title</th>\n",
       "      <th>GlossList</th>\n",
       "    </tr>\n",
       "  </thead>\n",
       "  <tbody>\n",
       "    <tr>\n",
       "      <th>GlossEntry</th>\n",
       "      <td>S</td>\n",
       "      <td>{'ID': 'SGML', 'SortAs': 'SGML', 'GlossTerm': ...</td>\n",
       "    </tr>\n",
       "  </tbody>\n",
       "</table>\n",
       "</div>"
      ],
      "text/plain": [
       "           title                                          GlossList\n",
       "GlossEntry     S  {'ID': 'SGML', 'SortAs': 'SGML', 'GlossTerm': ..."
      ]
     },
     "execution_count": 81,
     "metadata": {},
     "output_type": "execute_result"
    }
   ],
   "source": [
    "df_1"
   ]
  },
  {
   "cell_type": "code",
   "execution_count": 118,
   "id": "8d0e947b-5cfa-433f-9687-e6d0be3a7a87",
   "metadata": {},
   "outputs": [
    {
     "data": {
      "text/plain": [
       "dict_keys(['ID', 'SortAs', 'GlossTerm', 'Acronym', 'Abbrev', 'GlossDef', 'GlossSee'])"
      ]
     },
     "execution_count": 118,
     "metadata": {},
     "output_type": "execute_result"
    }
   ],
   "source": [
    "df_1.iloc[0, 1].keys()"
   ]
  },
  {
   "cell_type": "code",
   "execution_count": 110,
   "id": "e2f51356-feda-4f43-9dc0-84b06827b1e1",
   "metadata": {},
   "outputs": [
    {
     "data": {
      "text/plain": [
       "dict_items([('ID', 'SGML'), ('SortAs', 'SGML'), ('GlossTerm', 'Standard Generalized Markup Language'), ('Acronym', 'SGML'), ('Abbrev', 'ISO 8879:1986'), ('GlossDef', {'para': 'A meta-markup language, used to create markup languages such as DocBook.', 'GlossSeeAlso': ['GML', 'XML']}), ('GlossSee', 'markup')])"
      ]
     },
     "execution_count": 110,
     "metadata": {},
     "output_type": "execute_result"
    }
   ],
   "source": [
    "df_1.iloc[0, 1].items()"
   ]
  },
  {
   "cell_type": "code",
   "execution_count": 129,
   "id": "81adbaef-fe84-4004-9989-527099827fa1",
   "metadata": {},
   "outputs": [
    {
     "data": {
      "text/plain": [
       "dict_values(['SGML', 'SGML', 'Standard Generalized Markup Language', 'SGML', 'ISO 8879:1986', {'para': 'A meta-markup language, used to create markup languages such as DocBook.', 'GlossSeeAlso': ['GML', 'XML']}, 'markup'])"
      ]
     },
     "execution_count": 129,
     "metadata": {},
     "output_type": "execute_result"
    }
   ],
   "source": [
    "df_1.iloc[0, 1].values()"
   ]
  },
  {
   "cell_type": "code",
   "execution_count": 86,
   "id": "93ab2d38-5c5f-44c3-ab0d-4e1d34d4dfba",
   "metadata": {},
   "outputs": [
    {
     "data": {
      "text/plain": [
       "{'ID': 'SGML',\n",
       " 'SortAs': 'SGML',\n",
       " 'GlossTerm': 'Standard Generalized Markup Language',\n",
       " 'Acronym': 'SGML',\n",
       " 'Abbrev': 'ISO 8879:1986',\n",
       " 'GlossDef': {'para': 'A meta-markup language, used to create markup languages such as DocBook.',\n",
       "  'GlossSeeAlso': ['GML', 'XML']},\n",
       " 'GlossSee': 'markup'}"
      ]
     },
     "execution_count": 86,
     "metadata": {},
     "output_type": "execute_result"
    }
   ],
   "source": [
    "df_1.iloc[0, 1]"
   ]
  },
  {
   "cell_type": "code",
   "execution_count": 44,
   "id": "04772b0e-669e-423a-a7b2-161f97f73c5c",
   "metadata": {},
   "outputs": [
    {
     "data": {
      "text/html": [
       "<div>\n",
       "<style scoped>\n",
       "    .dataframe tbody tr th:only-of-type {\n",
       "        vertical-align: middle;\n",
       "    }\n",
       "\n",
       "    .dataframe tbody tr th {\n",
       "        vertical-align: top;\n",
       "    }\n",
       "\n",
       "    .dataframe thead th {\n",
       "        text-align: right;\n",
       "    }\n",
       "</style>\n",
       "<table border=\"1\" class=\"dataframe\">\n",
       "  <thead>\n",
       "    <tr style=\"text-align: right;\">\n",
       "      <th></th>\n",
       "      <th>glossary</th>\n",
       "    </tr>\n",
       "  </thead>\n",
       "  <tbody>\n",
       "    <tr>\n",
       "      <th>title</th>\n",
       "      <td>example glossary</td>\n",
       "    </tr>\n",
       "    <tr>\n",
       "      <th>GlossDiv</th>\n",
       "      <td>{'title': 'S', 'GlossList': {'GlossEntry': {'I...</td>\n",
       "    </tr>\n",
       "  </tbody>\n",
       "</table>\n",
       "</div>"
      ],
      "text/plain": [
       "                                                   glossary\n",
       "title                                      example glossary\n",
       "GlossDiv  {'title': 'S', 'GlossList': {'GlossEntry': {'I..."
      ]
     },
     "execution_count": 44,
     "metadata": {},
     "output_type": "execute_result"
    }
   ],
   "source": [
    "df"
   ]
  },
  {
   "cell_type": "code",
   "execution_count": 61,
   "id": "21184d1a-9766-4adb-aac9-86bf01740ec1",
   "metadata": {},
   "outputs": [
    {
     "data": {
      "text/plain": [
       "dict"
      ]
     },
     "execution_count": 61,
     "metadata": {},
     "output_type": "execute_result"
    }
   ],
   "source": [
    "type(df.iloc[1, 0])"
   ]
  },
  {
   "cell_type": "code",
   "execution_count": 54,
   "id": "960fec30-b775-48b9-ae9f-c8830a604650",
   "metadata": {},
   "outputs": [
    {
     "name": "stdout",
     "output_type": "stream",
     "text": [
      "{'glossary': {'title': 'example glossary', 'GlossDiv': {'title': 'S', 'GlossList': {'GlossEntry': {'ID': 'SGML', 'SortAs': 'SGML', 'GlossTerm': 'Standard Generalized Markup Language', 'Acronym': 'SGML', 'Abbrev': 'ISO 8879:1986', 'GlossDef': {'para': 'A meta-markup language, used to create markup languages such as DocBook.', 'GlossSeeAlso': ['GML', 'XML']}, 'GlossSee': 'markup'}}}}}\n"
     ]
    }
   ],
   "source": [
    "f = open(filename)\n",
    "data = json.load(f)\n",
    "print(data)"
   ]
  },
  {
   "cell_type": "code",
   "execution_count": null,
   "id": "8e6b6d0c-db9c-4af1-8936-e7e5fd11bd8b",
   "metadata": {},
   "outputs": [],
   "source": []
  }
 ],
 "metadata": {
  "kernelspec": {
   "display_name": "data_venv",
   "language": "python",
   "name": "data_venv"
  },
  "language_info": {
   "codemirror_mode": {
    "name": "ipython",
    "version": 3
   },
   "file_extension": ".py",
   "mimetype": "text/x-python",
   "name": "python",
   "nbconvert_exporter": "python",
   "pygments_lexer": "ipython3",
   "version": "3.12.2"
  }
 },
 "nbformat": 4,
 "nbformat_minor": 5
}
