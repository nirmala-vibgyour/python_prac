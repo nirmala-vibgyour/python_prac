{
 "cells": [
  {
   "cell_type": "code",
   "execution_count": 130,
   "id": "c8a1bae3-fc24-4539-9ce2-025426d28c2a",
   "metadata": {},
   "outputs": [
    {
     "data": {
      "text/html": [
       "<div>\n",
       "<style scoped>\n",
       "    .dataframe tbody tr th:only-of-type {\n",
       "        vertical-align: middle;\n",
       "    }\n",
       "\n",
       "    .dataframe tbody tr th {\n",
       "        vertical-align: top;\n",
       "    }\n",
       "\n",
       "    .dataframe thead th {\n",
       "        text-align: right;\n",
       "    }\n",
       "</style>\n",
       "<table border=\"1\" class=\"dataframe\">\n",
       "  <thead>\n",
       "    <tr style=\"text-align: right;\">\n",
       "      <th></th>\n",
       "      <th>key</th>\n",
       "      <th>value</th>\n",
       "    </tr>\n",
       "  </thead>\n",
       "  <tbody>\n",
       "    <tr>\n",
       "      <th>0</th>\n",
       "      <td>ID</td>\n",
       "      <td>SGML</td>\n",
       "    </tr>\n",
       "    <tr>\n",
       "      <th>1</th>\n",
       "      <td>SortAs</td>\n",
       "      <td>SGML</td>\n",
       "    </tr>\n",
       "    <tr>\n",
       "      <th>2</th>\n",
       "      <td>GlossTerm</td>\n",
       "      <td>Standard Generalized Markup Language</td>\n",
       "    </tr>\n",
       "    <tr>\n",
       "      <th>3</th>\n",
       "      <td>Acronym</td>\n",
       "      <td>SGML</td>\n",
       "    </tr>\n",
       "    <tr>\n",
       "      <th>4</th>\n",
       "      <td>Abbrev</td>\n",
       "      <td>ISO 8879:1986</td>\n",
       "    </tr>\n",
       "    <tr>\n",
       "      <th>5</th>\n",
       "      <td>GlossDef</td>\n",
       "      <td>{'para': 'A meta-markup language, used to crea...</td>\n",
       "    </tr>\n",
       "    <tr>\n",
       "      <th>6</th>\n",
       "      <td>GlossSee</td>\n",
       "      <td>markup</td>\n",
       "    </tr>\n",
       "  </tbody>\n",
       "</table>\n",
       "</div>"
      ],
      "text/plain": [
       "         key                                              value\n",
       "0         ID                                               SGML\n",
       "1     SortAs                                               SGML\n",
       "2  GlossTerm               Standard Generalized Markup Language\n",
       "3    Acronym                                               SGML\n",
       "4     Abbrev                                      ISO 8879:1986\n",
       "5   GlossDef  {'para': 'A meta-markup language, used to crea...\n",
       "6   GlossSee                                             markup"
      ]
     },
     "execution_count": 130,
     "metadata": {},
     "output_type": "execute_result"
    }
   ],
   "source": [
    "import json\n",
    "import pandas as pd\n",
    "filename = \"sample.json\"\n",
    "df = pd.read_json(filename)\n",
    "df_1 = pd.DataFrame.from_dict(df.iloc[1, 0])\n",
    "# df_2 = pd.DataFrame.from_dict(df_1.iloc[0, 1])\n",
    "# df1 = pd.json_normalize(df.iloc[1,0]) this gives dataframe in format: confused\n",
    "# here, the items is nested list with tuples of two elements, for that two elements we need the two columns.\n",
    "df1 = pd.DataFrame(df_1.iloc[0, 1].items(), columns = ['key', 'value'] )\n",
    "df1"
   ]
  },
  {
   "cell_type": "code",
   "execution_count": 163,
   "id": "03d11d08-0f97-4fe8-a429-b045b96f9734",
   "metadata": {},
   "outputs": [
    {
     "data": {
      "text/html": [
       "<div>\n",
       "<style scoped>\n",
       "    .dataframe tbody tr th:only-of-type {\n",
       "        vertical-align: middle;\n",
       "    }\n",
       "\n",
       "    .dataframe tbody tr th {\n",
       "        vertical-align: top;\n",
       "    }\n",
       "\n",
       "    .dataframe thead th {\n",
       "        text-align: right;\n",
       "    }\n",
       "</style>\n",
       "<table border=\"1\" class=\"dataframe\">\n",
       "  <thead>\n",
       "    <tr style=\"text-align: right;\">\n",
       "      <th></th>\n",
       "      <th>key</th>\n",
       "      <th>value</th>\n",
       "    </tr>\n",
       "  </thead>\n",
       "  <tbody>\n",
       "    <tr>\n",
       "      <th>0</th>\n",
       "      <td>ID</td>\n",
       "      <td>SGML</td>\n",
       "    </tr>\n",
       "    <tr>\n",
       "      <th>1</th>\n",
       "      <td>SortAs</td>\n",
       "      <td>SGML</td>\n",
       "    </tr>\n",
       "    <tr>\n",
       "      <th>2</th>\n",
       "      <td>GlossTerm</td>\n",
       "      <td>Standard Generalized Markup Language</td>\n",
       "    </tr>\n",
       "    <tr>\n",
       "      <th>3</th>\n",
       "      <td>Acronym</td>\n",
       "      <td>SGML</td>\n",
       "    </tr>\n",
       "    <tr>\n",
       "      <th>4</th>\n",
       "      <td>Abbrev</td>\n",
       "      <td>ISO 8879:1986</td>\n",
       "    </tr>\n",
       "    <tr>\n",
       "      <th>5</th>\n",
       "      <td>GlossDef</td>\n",
       "      <td>para</td>\n",
       "    </tr>\n",
       "    <tr>\n",
       "      <th>5</th>\n",
       "      <td>GlossDef</td>\n",
       "      <td>GlossSeeAlso</td>\n",
       "    </tr>\n",
       "    <tr>\n",
       "      <th>6</th>\n",
       "      <td>GlossSee</td>\n",
       "      <td>markup</td>\n",
       "    </tr>\n",
       "  </tbody>\n",
       "</table>\n",
       "</div>"
      ],
      "text/plain": [
       "         key                                 value\n",
       "0         ID                                  SGML\n",
       "1     SortAs                                  SGML\n",
       "2  GlossTerm  Standard Generalized Markup Language\n",
       "3    Acronym                                  SGML\n",
       "4     Abbrev                         ISO 8879:1986\n",
       "5   GlossDef                                  para\n",
       "5   GlossDef                          GlossSeeAlso\n",
       "6   GlossSee                                markup"
      ]
     },
     "execution_count": 163,
     "metadata": {},
     "output_type": "execute_result"
    }
   ],
   "source": [
    "df1 = pd.DataFrame(df_1.iloc[0, 1].items(), columns = ['key', 'value'] ).explode(\"value\")\n",
    "df1"
   ]
  },
  {
   "cell_type": "code",
   "execution_count": 131,
   "id": "f5e34ae9-e05d-4ec9-9556-46f1a1246d2c",
   "metadata": {},
   "outputs": [
    {
     "data": {
      "text/html": [
       "<div>\n",
       "<style scoped>\n",
       "    .dataframe tbody tr th:only-of-type {\n",
       "        vertical-align: middle;\n",
       "    }\n",
       "\n",
       "    .dataframe tbody tr th {\n",
       "        vertical-align: top;\n",
       "    }\n",
       "\n",
       "    .dataframe thead th {\n",
       "        text-align: right;\n",
       "    }\n",
       "</style>\n",
       "<table border=\"1\" class=\"dataframe\">\n",
       "  <thead>\n",
       "    <tr style=\"text-align: right;\">\n",
       "      <th></th>\n",
       "      <th>glossary</th>\n",
       "    </tr>\n",
       "  </thead>\n",
       "  <tbody>\n",
       "    <tr>\n",
       "      <th>title</th>\n",
       "      <td>example glossary</td>\n",
       "    </tr>\n",
       "    <tr>\n",
       "      <th>GlossDiv</th>\n",
       "      <td>{'title': 'S', 'GlossList': {'GlossEntry': {'I...</td>\n",
       "    </tr>\n",
       "  </tbody>\n",
       "</table>\n",
       "</div>"
      ],
      "text/plain": [
       "                                                   glossary\n",
       "title                                      example glossary\n",
       "GlossDiv  {'title': 'S', 'GlossList': {'GlossEntry': {'I..."
      ]
     },
     "execution_count": 131,
     "metadata": {},
     "output_type": "execute_result"
    }
   ],
   "source": [
    "df"
   ]
  },
  {
   "cell_type": "code",
   "execution_count": 164,
   "id": "deb18a54-61bf-4141-b06d-487311b138ab",
   "metadata": {},
   "outputs": [
    {
     "data": {
      "text/html": [
       "<div>\n",
       "<style scoped>\n",
       "    .dataframe tbody tr th:only-of-type {\n",
       "        vertical-align: middle;\n",
       "    }\n",
       "\n",
       "    .dataframe tbody tr th {\n",
       "        vertical-align: top;\n",
       "    }\n",
       "\n",
       "    .dataframe thead th {\n",
       "        text-align: right;\n",
       "    }\n",
       "</style>\n",
       "<table border=\"1\" class=\"dataframe\">\n",
       "  <thead>\n",
       "    <tr style=\"text-align: right;\">\n",
       "      <th></th>\n",
       "      <th>glossary</th>\n",
       "    </tr>\n",
       "  </thead>\n",
       "  <tbody>\n",
       "    <tr>\n",
       "      <th>title</th>\n",
       "      <td>example glossary</td>\n",
       "    </tr>\n",
       "    <tr>\n",
       "      <th>GlossDiv</th>\n",
       "      <td>title</td>\n",
       "    </tr>\n",
       "    <tr>\n",
       "      <th>GlossDiv</th>\n",
       "      <td>GlossList</td>\n",
       "    </tr>\n",
       "  </tbody>\n",
       "</table>\n",
       "</div>"
      ],
      "text/plain": [
       "                  glossary\n",
       "title     example glossary\n",
       "GlossDiv             title\n",
       "GlossDiv         GlossList"
      ]
     },
     "execution_count": 164,
     "metadata": {},
     "output_type": "execute_result"
    }
   ],
   "source": [
    "df2 = df.explode(\"glossary\")\n",
    "df2"
   ]
  },
  {
   "cell_type": "code",
   "execution_count": 214,
   "id": "44b34f1a-3ef9-4662-b825-c3631bb443a7",
   "metadata": {},
   "outputs": [
    {
     "data": {
      "text/html": [
       "<div>\n",
       "<style scoped>\n",
       "    .dataframe tbody tr th:only-of-type {\n",
       "        vertical-align: middle;\n",
       "    }\n",
       "\n",
       "    .dataframe tbody tr th {\n",
       "        vertical-align: top;\n",
       "    }\n",
       "\n",
       "    .dataframe thead th {\n",
       "        text-align: right;\n",
       "    }\n",
       "</style>\n",
       "<table border=\"1\" class=\"dataframe\">\n",
       "  <thead>\n",
       "    <tr style=\"text-align: right;\">\n",
       "      <th></th>\n",
       "      <th>glossary</th>\n",
       "      <th>key</th>\n",
       "    </tr>\n",
       "  </thead>\n",
       "  <tbody>\n",
       "    <tr>\n",
       "      <th>0</th>\n",
       "      <td>example glossary</td>\n",
       "      <td>title</td>\n",
       "    </tr>\n",
       "    <tr>\n",
       "      <th>1</th>\n",
       "      <td>title</td>\n",
       "      <td>GlossDiv</td>\n",
       "    </tr>\n",
       "    <tr>\n",
       "      <th>2</th>\n",
       "      <td>GlossList</td>\n",
       "      <td>GlossDiv</td>\n",
       "    </tr>\n",
       "  </tbody>\n",
       "</table>\n",
       "</div>"
      ],
      "text/plain": [
       "           glossary       key\n",
       "0  example glossary     title\n",
       "1             title  GlossDiv\n",
       "2         GlossList  GlossDiv"
      ]
     },
     "execution_count": 214,
     "metadata": {},
     "output_type": "execute_result"
    }
   ],
   "source": [
    "# df3 = df2.reindex(index = [0, 1, 2], columns = [\"glossary\"])\n",
    "df3 = df2.rename(index = {'GlossDiv':'-'})\n",
    "df3"
   ]
  },
  {
   "cell_type": "code",
   "execution_count": 185,
   "id": "ae6c2d2d-e9e8-4a6d-b7fe-1202ef0715c7",
   "metadata": {},
   "outputs": [
    {
     "data": {
      "text/html": [
       "<div>\n",
       "<style scoped>\n",
       "    .dataframe tbody tr th:only-of-type {\n",
       "        vertical-align: middle;\n",
       "    }\n",
       "\n",
       "    .dataframe tbody tr th {\n",
       "        vertical-align: top;\n",
       "    }\n",
       "\n",
       "    .dataframe thead th {\n",
       "        text-align: right;\n",
       "    }\n",
       "</style>\n",
       "<table border=\"1\" class=\"dataframe\">\n",
       "  <thead>\n",
       "    <tr style=\"text-align: right;\">\n",
       "      <th></th>\n",
       "      <th>key</th>\n",
       "      <th>glossary</th>\n",
       "    </tr>\n",
       "  </thead>\n",
       "  <tbody>\n",
       "    <tr>\n",
       "      <th>0</th>\n",
       "      <td>title</td>\n",
       "      <td>example glossary</td>\n",
       "    </tr>\n",
       "    <tr>\n",
       "      <th>1</th>\n",
       "      <td>GlossDiv</td>\n",
       "      <td>title</td>\n",
       "    </tr>\n",
       "    <tr>\n",
       "      <th>2</th>\n",
       "      <td>GlossDiv</td>\n",
       "      <td>GlossList</td>\n",
       "    </tr>\n",
       "  </tbody>\n",
       "</table>\n",
       "</div>"
      ],
      "text/plain": [
       "        key          glossary\n",
       "0     title  example glossary\n",
       "1  GlossDiv             title\n",
       "2  GlossDiv         GlossList"
      ]
     },
     "execution_count": 185,
     "metadata": {},
     "output_type": "execute_result"
    }
   ],
   "source": [
    "df4 = df2[[\"key\",\"glossary\"]]\n",
    "df4.reset_index(inplace = True)\n",
    "df5 = df4.T.drop_duplicates().T\n",
    "df5.reset_index(inplace = False)\n",
    "df6 = df5.T.drop_duplicates().T\n",
    "df6 = df6.drop('index', axis = 1)\n",
    "df6"
   ]
  },
  {
   "cell_type": "code",
   "execution_count": 199,
   "id": "66370233-2d4c-4dee-a5fd-2f889b8907f5",
   "metadata": {},
   "outputs": [
    {
     "data": {
      "text/html": [
       "<div>\n",
       "<style scoped>\n",
       "    .dataframe tbody tr th:only-of-type {\n",
       "        vertical-align: middle;\n",
       "    }\n",
       "\n",
       "    .dataframe tbody tr th {\n",
       "        vertical-align: top;\n",
       "    }\n",
       "\n",
       "    .dataframe thead th {\n",
       "        text-align: right;\n",
       "    }\n",
       "</style>\n",
       "<table border=\"1\" class=\"dataframe\">\n",
       "  <thead>\n",
       "    <tr style=\"text-align: right;\">\n",
       "      <th></th>\n",
       "      <th>glossary</th>\n",
       "      <th>key</th>\n",
       "    </tr>\n",
       "  </thead>\n",
       "  <tbody>\n",
       "    <tr>\n",
       "      <th>0</th>\n",
       "      <td>example glossary</td>\n",
       "      <td>title</td>\n",
       "    </tr>\n",
       "    <tr>\n",
       "      <th>1</th>\n",
       "      <td>title</td>\n",
       "      <td>GlossDiv</td>\n",
       "    </tr>\n",
       "    <tr>\n",
       "      <th>2</th>\n",
       "      <td>GlossList</td>\n",
       "      <td>GlossDiv</td>\n",
       "    </tr>\n",
       "  </tbody>\n",
       "</table>\n",
       "</div>"
      ],
      "text/plain": [
       "           glossary       key\n",
       "0  example glossary     title\n",
       "1             title  GlossDiv\n",
       "2         GlossList  GlossDiv"
      ]
     },
     "execution_count": 199,
     "metadata": {},
     "output_type": "execute_result"
    }
   ],
   "source": [
    "# df2 = df2.drop('index', axis = 1)\n",
    "# df2 = df2.drop('key', axis = 1)\n",
    "# df2 = df2.drop('level_0', axis = 1)\n",
    "df2[\"key\"] = [ \"title\", \"GlossDiv\", \"GlossDiv\"]\n",
    "df2"
   ]
  },
  {
   "cell_type": "code",
   "execution_count": 222,
   "id": "e9a3f999-44d8-4636-9008-92d30c8b6959",
   "metadata": {},
   "outputs": [
    {
     "data": {
      "text/html": [
       "<div>\n",
       "<style scoped>\n",
       "    .dataframe tbody tr th:only-of-type {\n",
       "        vertical-align: middle;\n",
       "    }\n",
       "\n",
       "    .dataframe tbody tr th {\n",
       "        vertical-align: top;\n",
       "    }\n",
       "\n",
       "    .dataframe thead th {\n",
       "        text-align: right;\n",
       "    }\n",
       "</style>\n",
       "<table border=\"1\" class=\"dataframe\">\n",
       "  <thead>\n",
       "    <tr style=\"text-align: right;\">\n",
       "      <th></th>\n",
       "      <th>key</th>\n",
       "      <th>value1</th>\n",
       "      <th>value2</th>\n",
       "    </tr>\n",
       "  </thead>\n",
       "  <tbody>\n",
       "    <tr>\n",
       "      <th>0</th>\n",
       "      <td>glossary</td>\n",
       "      <td>example glossary</td>\n",
       "      <td>title</td>\n",
       "    </tr>\n",
       "    <tr>\n",
       "      <th>1</th>\n",
       "      <td>-</td>\n",
       "      <td>title</td>\n",
       "      <td>GlossDiv</td>\n",
       "    </tr>\n",
       "    <tr>\n",
       "      <th>2</th>\n",
       "      <td>-</td>\n",
       "      <td>GlossList</td>\n",
       "      <td>GlossDiv</td>\n",
       "    </tr>\n",
       "  </tbody>\n",
       "</table>\n",
       "</div>"
      ],
      "text/plain": [
       "        key            value1    value2\n",
       "0  glossary  example glossary     title\n",
       "1         -             title  GlossDiv\n",
       "2         -         GlossList  GlossDiv"
      ]
     },
     "execution_count": 222,
     "metadata": {},
     "output_type": "execute_result"
    }
   ],
   "source": [
    "df2[\"key\"]= [\"title\", \"GlossDiv\", \"GlossDiv\"]\n",
    "df7 = df2.rename(columns = {'key':'value'})\n",
    "df7[\"key\"] = [\"glossary\", \"-\", \"-\"]\n",
    "df8 = df7.rename(columns = {'value':'value1'})\n",
    "df9 = df7.rename(columns = {'glossary': 'value2'})\n",
    "df10 = df9[[\"key\", \"value2\", \"value\"]]\n",
    "df11 = df10.rename(columns = {\"value2\":\"value1\", \"value\":\"value2\"})\n",
    "df11"
   ]
  },
  {
   "cell_type": "code",
   "execution_count": 230,
   "id": "c0ff2689-dc8f-41be-b670-12105b46a9eb",
   "metadata": {},
   "outputs": [
    {
     "data": {
      "text/html": [
       "<div>\n",
       "<style scoped>\n",
       "    .dataframe tbody tr th:only-of-type {\n",
       "        vertical-align: middle;\n",
       "    }\n",
       "\n",
       "    .dataframe tbody tr th {\n",
       "        vertical-align: top;\n",
       "    }\n",
       "\n",
       "    .dataframe thead th {\n",
       "        text-align: right;\n",
       "    }\n",
       "</style>\n",
       "<table border=\"1\" class=\"dataframe\">\n",
       "  <thead>\n",
       "    <tr style=\"text-align: right;\">\n",
       "      <th></th>\n",
       "      <th>key</th>\n",
       "      <th>value1</th>\n",
       "      <th>value2</th>\n",
       "    </tr>\n",
       "  </thead>\n",
       "  <tbody>\n",
       "    <tr>\n",
       "      <th>0</th>\n",
       "      <td>glossary</td>\n",
       "      <td>title</td>\n",
       "      <td>example glossary</td>\n",
       "    </tr>\n",
       "    <tr>\n",
       "      <th>1</th>\n",
       "      <td>-</td>\n",
       "      <td>GlossDiv</td>\n",
       "      <td>title</td>\n",
       "    </tr>\n",
       "    <tr>\n",
       "      <th>2</th>\n",
       "      <td>-</td>\n",
       "      <td>GlossDiv</td>\n",
       "      <td>GlossList</td>\n",
       "    </tr>\n",
       "  </tbody>\n",
       "</table>\n",
       "</div>"
      ],
      "text/plain": [
       "        key    value1            value2\n",
       "0  glossary     title  example glossary\n",
       "1         -  GlossDiv             title\n",
       "2         -  GlossDiv         GlossList"
      ]
     },
     "execution_count": 230,
     "metadata": {},
     "output_type": "execute_result"
    }
   ],
   "source": [
    "df12 = df11[[\"key\", \"value2\", \"value1\"]]\n",
    "# df11 = df11.rename(columns = {\"value2\":\"value1\", \"value1\":\"value2\"})\n",
    "df13 = df12.rename(columns = {\"value2\":\"value1\", \"value1\":\"value2\"})\n",
    "df13"
   ]
  },
  {
   "cell_type": "code",
   "execution_count": 231,
   "id": "3e7fdd69-8d87-4816-98bb-70f7eba244bf",
   "metadata": {},
   "outputs": [
    {
     "data": {
      "text/html": [
       "<div>\n",
       "<style scoped>\n",
       "    .dataframe tbody tr th:only-of-type {\n",
       "        vertical-align: middle;\n",
       "    }\n",
       "\n",
       "    .dataframe tbody tr th {\n",
       "        vertical-align: top;\n",
       "    }\n",
       "\n",
       "    .dataframe thead th {\n",
       "        text-align: right;\n",
       "    }\n",
       "</style>\n",
       "<table border=\"1\" class=\"dataframe\">\n",
       "  <thead>\n",
       "    <tr style=\"text-align: right;\">\n",
       "      <th></th>\n",
       "      <th>key</th>\n",
       "      <th>value1</th>\n",
       "      <th>value2</th>\n",
       "    </tr>\n",
       "  </thead>\n",
       "  <tbody>\n",
       "    <tr>\n",
       "      <th>0</th>\n",
       "      <td>glossary</td>\n",
       "      <td>title</td>\n",
       "      <td>example glossary</td>\n",
       "    </tr>\n",
       "    <tr>\n",
       "      <th>1</th>\n",
       "      <td>-</td>\n",
       "      <td>GlossDiv</td>\n",
       "      <td>title</td>\n",
       "    </tr>\n",
       "    <tr>\n",
       "      <th>2</th>\n",
       "      <td>-</td>\n",
       "      <td>GlossDiv</td>\n",
       "      <td>GlossList</td>\n",
       "    </tr>\n",
       "  </tbody>\n",
       "</table>\n",
       "</div>"
      ],
      "text/plain": [
       "        key    value1            value2\n",
       "0  glossary     title  example glossary\n",
       "1         -  GlossDiv             title\n",
       "2         -  GlossDiv         GlossList"
      ]
     },
     "execution_count": 231,
     "metadata": {},
     "output_type": "execute_result"
    }
   ],
   "source": [
    "df13"
   ]
  },
  {
   "cell_type": "code",
   "execution_count": 232,
   "id": "3da0bf37-aee0-46e8-b033-288dfc41e0bc",
   "metadata": {},
   "outputs": [
    {
     "data": {
      "text/html": [
       "<div>\n",
       "<style scoped>\n",
       "    .dataframe tbody tr th:only-of-type {\n",
       "        vertical-align: middle;\n",
       "    }\n",
       "\n",
       "    .dataframe tbody tr th {\n",
       "        vertical-align: top;\n",
       "    }\n",
       "\n",
       "    .dataframe thead th {\n",
       "        text-align: right;\n",
       "    }\n",
       "</style>\n",
       "<table border=\"1\" class=\"dataframe\">\n",
       "  <thead>\n",
       "    <tr style=\"text-align: right;\">\n",
       "      <th></th>\n",
       "      <th>key</th>\n",
       "      <th>value1</th>\n",
       "      <th>value2</th>\n",
       "      <th>value3</th>\n",
       "    </tr>\n",
       "  </thead>\n",
       "  <tbody>\n",
       "    <tr>\n",
       "      <th>0</th>\n",
       "      <td>glossary</td>\n",
       "      <td>title</td>\n",
       "      <td>example glossary</td>\n",
       "      <td>-</td>\n",
       "    </tr>\n",
       "    <tr>\n",
       "      <th>1</th>\n",
       "      <td>-</td>\n",
       "      <td>GlossDiv</td>\n",
       "      <td>title</td>\n",
       "      <td>S</td>\n",
       "    </tr>\n",
       "    <tr>\n",
       "      <th>2</th>\n",
       "      <td>-</td>\n",
       "      <td>GlossDiv</td>\n",
       "      <td>GlossList</td>\n",
       "      <td>GlossEntry</td>\n",
       "    </tr>\n",
       "  </tbody>\n",
       "</table>\n",
       "</div>"
      ],
      "text/plain": [
       "        key    value1            value2      value3\n",
       "0  glossary     title  example glossary           -\n",
       "1         -  GlossDiv             title           S\n",
       "2         -  GlossDiv         GlossList  GlossEntry"
      ]
     },
     "execution_count": 232,
     "metadata": {},
     "output_type": "execute_result"
    }
   ],
   "source": [
    "df13[\"value3\"] = [\"-\", \"S\", \"GlossEntry\"]\n",
    "df13"
   ]
  },
  {
   "cell_type": "code",
   "execution_count": 234,
   "id": "b082750e-6bf7-4a94-9c79-1d8e44b05348",
   "metadata": {},
   "outputs": [
    {
     "data": {
      "text/html": [
       "<div>\n",
       "<style scoped>\n",
       "    .dataframe tbody tr th:only-of-type {\n",
       "        vertical-align: middle;\n",
       "    }\n",
       "\n",
       "    .dataframe tbody tr th {\n",
       "        vertical-align: top;\n",
       "    }\n",
       "\n",
       "    .dataframe thead th {\n",
       "        text-align: right;\n",
       "    }\n",
       "</style>\n",
       "<table border=\"1\" class=\"dataframe\">\n",
       "  <thead>\n",
       "    <tr style=\"text-align: right;\">\n",
       "      <th></th>\n",
       "      <th>key</th>\n",
       "      <th>value</th>\n",
       "    </tr>\n",
       "  </thead>\n",
       "  <tbody>\n",
       "    <tr>\n",
       "      <th>0</th>\n",
       "      <td>ID</td>\n",
       "      <td>SGML</td>\n",
       "    </tr>\n",
       "    <tr>\n",
       "      <th>1</th>\n",
       "      <td>SortAs</td>\n",
       "      <td>SGML</td>\n",
       "    </tr>\n",
       "    <tr>\n",
       "      <th>2</th>\n",
       "      <td>GlossTerm</td>\n",
       "      <td>Standard Generalized Markup Language</td>\n",
       "    </tr>\n",
       "    <tr>\n",
       "      <th>3</th>\n",
       "      <td>Acronym</td>\n",
       "      <td>SGML</td>\n",
       "    </tr>\n",
       "    <tr>\n",
       "      <th>4</th>\n",
       "      <td>Abbrev</td>\n",
       "      <td>ISO 8879:1986</td>\n",
       "    </tr>\n",
       "    <tr>\n",
       "      <th>5</th>\n",
       "      <td>GlossDef</td>\n",
       "      <td>para</td>\n",
       "    </tr>\n",
       "    <tr>\n",
       "      <th>5</th>\n",
       "      <td>GlossDef</td>\n",
       "      <td>GlossSeeAlso</td>\n",
       "    </tr>\n",
       "    <tr>\n",
       "      <th>6</th>\n",
       "      <td>GlossSee</td>\n",
       "      <td>markup</td>\n",
       "    </tr>\n",
       "  </tbody>\n",
       "</table>\n",
       "</div>"
      ],
      "text/plain": [
       "         key                                 value\n",
       "0         ID                                  SGML\n",
       "1     SortAs                                  SGML\n",
       "2  GlossTerm  Standard Generalized Markup Language\n",
       "3    Acronym                                  SGML\n",
       "4     Abbrev                         ISO 8879:1986\n",
       "5   GlossDef                                  para\n",
       "5   GlossDef                          GlossSeeAlso\n",
       "6   GlossSee                                markup"
      ]
     },
     "execution_count": 234,
     "metadata": {},
     "output_type": "execute_result"
    }
   ],
   "source": [
    "df1"
   ]
  },
  {
   "cell_type": "code",
   "execution_count": 252,
   "id": "261cf8a1-31b4-4a26-ab80-2bdb0627c42b",
   "metadata": {},
   "outputs": [
    {
     "data": {
      "text/plain": [
       "['-',\n",
       " '-',\n",
       " 'ID',\n",
       " 'SortAs',\n",
       " 'GlossTerm',\n",
       " 'Acronym',\n",
       " 'Abbrev',\n",
       " 'GlossDef',\n",
       " 'GlossDef',\n",
       " 'GlossDef',\n",
       " 'GlossSee']"
      ]
     },
     "execution_count": 252,
     "metadata": {},
     "output_type": "execute_result"
    }
   ],
   "source": [
    "value4 = df1[\"key\"].to_list()\n",
    "value4.insert(0,\"-\")\n",
    "value4.insert(1,\"-\")\n",
    "value4.insert(9, \"GlossDef\")\n",
    "value4"
   ]
  },
  {
   "cell_type": "code",
   "execution_count": 254,
   "id": "8fc7b621-e233-4957-9b55-3a1ccd45a7ba",
   "metadata": {},
   "outputs": [
    {
     "data": {
      "text/plain": [
       "['-',\n",
       " '-',\n",
       " 'SGML',\n",
       " 'SGML',\n",
       " 'Standard Generalized Markup Language',\n",
       " 'SGML',\n",
       " 'ISO 8879:1986',\n",
       " 'para',\n",
       " 'GlossSeeAlso',\n",
       " 'GlossSeeAlso',\n",
       " 'markup']"
      ]
     },
     "execution_count": 254,
     "metadata": {},
     "output_type": "execute_result"
    }
   ],
   "source": [
    "value5 = df1[\"value\"].to_list()\n",
    "value5.insert(0,\"-\")\n",
    "value5.insert(1,\"-\")\n",
    "value5.insert(9,\"GlossSeeAlso\")\n",
    "value5"
   ]
  },
  {
   "cell_type": "code",
   "execution_count": 257,
   "id": "d4eb27ec-2c52-4619-b35d-d8bb09fad5be",
   "metadata": {},
   "outputs": [
    {
     "data": {
      "text/plain": [
       "True"
      ]
     },
     "execution_count": 257,
     "metadata": {},
     "output_type": "execute_result"
    }
   ],
   "source": [
    "len(value4) == len(value5)"
   ]
  },
  {
   "cell_type": "code",
   "execution_count": 258,
   "id": "73b4f39e-8282-4ccd-bd7f-6d7b637700a2",
   "metadata": {},
   "outputs": [
    {
     "data": {
      "text/plain": [
       "11"
      ]
     },
     "execution_count": 258,
     "metadata": {},
     "output_type": "execute_result"
    }
   ],
   "source": [
    "len(value4)"
   ]
  },
  {
   "cell_type": "code",
   "execution_count": 272,
   "id": "1de8ca07-5789-4d5a-9f8e-7709f96b4565",
   "metadata": {},
   "outputs": [],
   "source": [
    "import numpy as np\n",
    "array = np.full((8, 4), \"-\")\n",
    "list1 = array.tolist()\n",
    "list1\n",
    "df14 = pd.DataFrame(list1, columns = ['key', 'value1','value2','value3'])\n",
    "df14\n",
    "df15 = pd.concat([df13, df14], axis=0, ignore_index=True)\n",
    "df15[\"value4\"] = value4\n",
    "df15[\"value5\"] = value5\n",
    "df15[\"value6\"] = [\"-\", \"-\", \"-\", \"-\", \"-\", \"-\", \"-\", \"A meta-markup language, used to create markup languages such as DocBook.\", \"GML\", \"XML\", \"-\"]\n",
    "json_df = df15"
   ]
  },
  {
   "cell_type": "code",
   "execution_count": 271,
   "id": "c6ba8787-bcdc-4692-b545-d589f04ca4a3",
   "metadata": {},
   "outputs": [
    {
     "data": {
      "text/html": [
       "<div>\n",
       "<style scoped>\n",
       "    .dataframe tbody tr th:only-of-type {\n",
       "        vertical-align: middle;\n",
       "    }\n",
       "\n",
       "    .dataframe tbody tr th {\n",
       "        vertical-align: top;\n",
       "    }\n",
       "\n",
       "    .dataframe thead th {\n",
       "        text-align: right;\n",
       "    }\n",
       "</style>\n",
       "<table border=\"1\" class=\"dataframe\">\n",
       "  <thead>\n",
       "    <tr style=\"text-align: right;\">\n",
       "      <th></th>\n",
       "      <th>key</th>\n",
       "      <th>value1</th>\n",
       "      <th>value2</th>\n",
       "      <th>value3</th>\n",
       "      <th>value4</th>\n",
       "      <th>value5</th>\n",
       "      <th>value6</th>\n",
       "    </tr>\n",
       "  </thead>\n",
       "  <tbody>\n",
       "    <tr>\n",
       "      <th>0</th>\n",
       "      <td>glossary</td>\n",
       "      <td>title</td>\n",
       "      <td>example glossary</td>\n",
       "      <td>-</td>\n",
       "      <td>-</td>\n",
       "      <td>-</td>\n",
       "      <td>-</td>\n",
       "    </tr>\n",
       "    <tr>\n",
       "      <th>1</th>\n",
       "      <td>-</td>\n",
       "      <td>GlossDiv</td>\n",
       "      <td>title</td>\n",
       "      <td>S</td>\n",
       "      <td>-</td>\n",
       "      <td>-</td>\n",
       "      <td>-</td>\n",
       "    </tr>\n",
       "    <tr>\n",
       "      <th>2</th>\n",
       "      <td>-</td>\n",
       "      <td>GlossDiv</td>\n",
       "      <td>GlossList</td>\n",
       "      <td>GlossEntry</td>\n",
       "      <td>ID</td>\n",
       "      <td>SGML</td>\n",
       "      <td>-</td>\n",
       "    </tr>\n",
       "    <tr>\n",
       "      <th>3</th>\n",
       "      <td>-</td>\n",
       "      <td>-</td>\n",
       "      <td>-</td>\n",
       "      <td>-</td>\n",
       "      <td>SortAs</td>\n",
       "      <td>SGML</td>\n",
       "      <td>-</td>\n",
       "    </tr>\n",
       "    <tr>\n",
       "      <th>4</th>\n",
       "      <td>-</td>\n",
       "      <td>-</td>\n",
       "      <td>-</td>\n",
       "      <td>-</td>\n",
       "      <td>GlossTerm</td>\n",
       "      <td>Standard Generalized Markup Language</td>\n",
       "      <td>-</td>\n",
       "    </tr>\n",
       "    <tr>\n",
       "      <th>5</th>\n",
       "      <td>-</td>\n",
       "      <td>-</td>\n",
       "      <td>-</td>\n",
       "      <td>-</td>\n",
       "      <td>Acronym</td>\n",
       "      <td>SGML</td>\n",
       "      <td>-</td>\n",
       "    </tr>\n",
       "    <tr>\n",
       "      <th>6</th>\n",
       "      <td>-</td>\n",
       "      <td>-</td>\n",
       "      <td>-</td>\n",
       "      <td>-</td>\n",
       "      <td>Abbrev</td>\n",
       "      <td>ISO 8879:1986</td>\n",
       "      <td>-</td>\n",
       "    </tr>\n",
       "    <tr>\n",
       "      <th>7</th>\n",
       "      <td>-</td>\n",
       "      <td>-</td>\n",
       "      <td>-</td>\n",
       "      <td>-</td>\n",
       "      <td>GlossDef</td>\n",
       "      <td>para</td>\n",
       "      <td>A meta-markup language, used to create markup ...</td>\n",
       "    </tr>\n",
       "    <tr>\n",
       "      <th>8</th>\n",
       "      <td>-</td>\n",
       "      <td>-</td>\n",
       "      <td>-</td>\n",
       "      <td>-</td>\n",
       "      <td>GlossDef</td>\n",
       "      <td>GlossSeeAlso</td>\n",
       "      <td>GML</td>\n",
       "    </tr>\n",
       "    <tr>\n",
       "      <th>9</th>\n",
       "      <td>-</td>\n",
       "      <td>-</td>\n",
       "      <td>-</td>\n",
       "      <td>-</td>\n",
       "      <td>GlossDef</td>\n",
       "      <td>GlossSeeAlso</td>\n",
       "      <td>XML</td>\n",
       "    </tr>\n",
       "    <tr>\n",
       "      <th>10</th>\n",
       "      <td>-</td>\n",
       "      <td>-</td>\n",
       "      <td>-</td>\n",
       "      <td>-</td>\n",
       "      <td>GlossSee</td>\n",
       "      <td>markup</td>\n",
       "      <td>-</td>\n",
       "    </tr>\n",
       "  </tbody>\n",
       "</table>\n",
       "</div>"
      ],
      "text/plain": [
       "         key    value1            value2      value3     value4  \\\n",
       "0   glossary     title  example glossary           -          -   \n",
       "1          -  GlossDiv             title           S          -   \n",
       "2          -  GlossDiv         GlossList  GlossEntry         ID   \n",
       "3          -         -                 -           -     SortAs   \n",
       "4          -         -                 -           -  GlossTerm   \n",
       "5          -         -                 -           -    Acronym   \n",
       "6          -         -                 -           -     Abbrev   \n",
       "7          -         -                 -           -   GlossDef   \n",
       "8          -         -                 -           -   GlossDef   \n",
       "9          -         -                 -           -   GlossDef   \n",
       "10         -         -                 -           -   GlossSee   \n",
       "\n",
       "                                  value5  \\\n",
       "0                                      -   \n",
       "1                                      -   \n",
       "2                                   SGML   \n",
       "3                                   SGML   \n",
       "4   Standard Generalized Markup Language   \n",
       "5                                   SGML   \n",
       "6                          ISO 8879:1986   \n",
       "7                                   para   \n",
       "8                           GlossSeeAlso   \n",
       "9                           GlossSeeAlso   \n",
       "10                                markup   \n",
       "\n",
       "                                               value6  \n",
       "0                                                   -  \n",
       "1                                                   -  \n",
       "2                                                   -  \n",
       "3                                                   -  \n",
       "4                                                   -  \n",
       "5                                                   -  \n",
       "6                                                   -  \n",
       "7   A meta-markup language, used to create markup ...  \n",
       "8                                                 GML  \n",
       "9                                                 XML  \n",
       "10                                                  -  "
      ]
     },
     "execution_count": 271,
     "metadata": {},
     "output_type": "execute_result"
    }
   ],
   "source": [
    "json_df"
   ]
  },
  {
   "cell_type": "code",
   "execution_count": null,
   "id": "b4ddf735-e225-4678-847b-1832df0cf848",
   "metadata": {},
   "outputs": [],
   "source": []
  },
  {
   "cell_type": "code",
   "execution_count": 200,
   "id": "f196f5ba-b0a4-4e4b-8595-079d9651f826",
   "metadata": {},
   "outputs": [
    {
     "data": {
      "text/html": [
       "<div>\n",
       "<style scoped>\n",
       "    .dataframe tbody tr th:only-of-type {\n",
       "        vertical-align: middle;\n",
       "    }\n",
       "\n",
       "    .dataframe tbody tr th {\n",
       "        vertical-align: top;\n",
       "    }\n",
       "\n",
       "    .dataframe thead th {\n",
       "        text-align: right;\n",
       "    }\n",
       "</style>\n",
       "<table border=\"1\" class=\"dataframe\">\n",
       "  <thead>\n",
       "    <tr style=\"text-align: right;\">\n",
       "      <th></th>\n",
       "      <th>key</th>\n",
       "      <th>value</th>\n",
       "    </tr>\n",
       "  </thead>\n",
       "  <tbody>\n",
       "    <tr>\n",
       "      <th>0</th>\n",
       "      <td>ID</td>\n",
       "      <td>SGML</td>\n",
       "    </tr>\n",
       "    <tr>\n",
       "      <th>1</th>\n",
       "      <td>SortAs</td>\n",
       "      <td>SGML</td>\n",
       "    </tr>\n",
       "    <tr>\n",
       "      <th>2</th>\n",
       "      <td>GlossTerm</td>\n",
       "      <td>Standard Generalized Markup Language</td>\n",
       "    </tr>\n",
       "    <tr>\n",
       "      <th>3</th>\n",
       "      <td>Acronym</td>\n",
       "      <td>SGML</td>\n",
       "    </tr>\n",
       "    <tr>\n",
       "      <th>4</th>\n",
       "      <td>Abbrev</td>\n",
       "      <td>ISO 8879:1986</td>\n",
       "    </tr>\n",
       "    <tr>\n",
       "      <th>5</th>\n",
       "      <td>GlossDef</td>\n",
       "      <td>para</td>\n",
       "    </tr>\n",
       "    <tr>\n",
       "      <th>5</th>\n",
       "      <td>GlossDef</td>\n",
       "      <td>GlossSeeAlso</td>\n",
       "    </tr>\n",
       "    <tr>\n",
       "      <th>6</th>\n",
       "      <td>GlossSee</td>\n",
       "      <td>markup</td>\n",
       "    </tr>\n",
       "  </tbody>\n",
       "</table>\n",
       "</div>"
      ],
      "text/plain": [
       "         key                                 value\n",
       "0         ID                                  SGML\n",
       "1     SortAs                                  SGML\n",
       "2  GlossTerm  Standard Generalized Markup Language\n",
       "3    Acronym                                  SGML\n",
       "4     Abbrev                         ISO 8879:1986\n",
       "5   GlossDef                                  para\n",
       "5   GlossDef                          GlossSeeAlso\n",
       "6   GlossSee                                markup"
      ]
     },
     "execution_count": 200,
     "metadata": {},
     "output_type": "execute_result"
    }
   ],
   "source": [
    "df1"
   ]
  },
  {
   "cell_type": "code",
   "execution_count": 81,
   "id": "285d8d49-5ef3-446d-b92b-bc120a209f08",
   "metadata": {},
   "outputs": [
    {
     "data": {
      "text/html": [
       "<div>\n",
       "<style scoped>\n",
       "    .dataframe tbody tr th:only-of-type {\n",
       "        vertical-align: middle;\n",
       "    }\n",
       "\n",
       "    .dataframe tbody tr th {\n",
       "        vertical-align: top;\n",
       "    }\n",
       "\n",
       "    .dataframe thead th {\n",
       "        text-align: right;\n",
       "    }\n",
       "</style>\n",
       "<table border=\"1\" class=\"dataframe\">\n",
       "  <thead>\n",
       "    <tr style=\"text-align: right;\">\n",
       "      <th></th>\n",
       "      <th>title</th>\n",
       "      <th>GlossList</th>\n",
       "    </tr>\n",
       "  </thead>\n",
       "  <tbody>\n",
       "    <tr>\n",
       "      <th>GlossEntry</th>\n",
       "      <td>S</td>\n",
       "      <td>{'ID': 'SGML', 'SortAs': 'SGML', 'GlossTerm': ...</td>\n",
       "    </tr>\n",
       "  </tbody>\n",
       "</table>\n",
       "</div>"
      ],
      "text/plain": [
       "           title                                          GlossList\n",
       "GlossEntry     S  {'ID': 'SGML', 'SortAs': 'SGML', 'GlossTerm': ..."
      ]
     },
     "execution_count": 81,
     "metadata": {},
     "output_type": "execute_result"
    }
   ],
   "source": [
    "df_1"
   ]
  },
  {
   "cell_type": "code",
   "execution_count": 118,
   "id": "8d0e947b-5cfa-433f-9687-e6d0be3a7a87",
   "metadata": {},
   "outputs": [
    {
     "data": {
      "text/plain": [
       "dict_keys(['ID', 'SortAs', 'GlossTerm', 'Acronym', 'Abbrev', 'GlossDef', 'GlossSee'])"
      ]
     },
     "execution_count": 118,
     "metadata": {},
     "output_type": "execute_result"
    }
   ],
   "source": [
    "df_1.iloc[0, 1].keys()"
   ]
  },
  {
   "cell_type": "code",
   "execution_count": 110,
   "id": "e2f51356-feda-4f43-9dc0-84b06827b1e1",
   "metadata": {},
   "outputs": [
    {
     "data": {
      "text/plain": [
       "dict_items([('ID', 'SGML'), ('SortAs', 'SGML'), ('GlossTerm', 'Standard Generalized Markup Language'), ('Acronym', 'SGML'), ('Abbrev', 'ISO 8879:1986'), ('GlossDef', {'para': 'A meta-markup language, used to create markup languages such as DocBook.', 'GlossSeeAlso': ['GML', 'XML']}), ('GlossSee', 'markup')])"
      ]
     },
     "execution_count": 110,
     "metadata": {},
     "output_type": "execute_result"
    }
   ],
   "source": [
    "df_1.iloc[0, 1].items()"
   ]
  },
  {
   "cell_type": "code",
   "execution_count": 129,
   "id": "81adbaef-fe84-4004-9989-527099827fa1",
   "metadata": {},
   "outputs": [
    {
     "data": {
      "text/plain": [
       "dict_values(['SGML', 'SGML', 'Standard Generalized Markup Language', 'SGML', 'ISO 8879:1986', {'para': 'A meta-markup language, used to create markup languages such as DocBook.', 'GlossSeeAlso': ['GML', 'XML']}, 'markup'])"
      ]
     },
     "execution_count": 129,
     "metadata": {},
     "output_type": "execute_result"
    }
   ],
   "source": [
    "df_1.iloc[0, 1].values()"
   ]
  },
  {
   "cell_type": "code",
   "execution_count": 86,
   "id": "93ab2d38-5c5f-44c3-ab0d-4e1d34d4dfba",
   "metadata": {},
   "outputs": [
    {
     "data": {
      "text/plain": [
       "{'ID': 'SGML',\n",
       " 'SortAs': 'SGML',\n",
       " 'GlossTerm': 'Standard Generalized Markup Language',\n",
       " 'Acronym': 'SGML',\n",
       " 'Abbrev': 'ISO 8879:1986',\n",
       " 'GlossDef': {'para': 'A meta-markup language, used to create markup languages such as DocBook.',\n",
       "  'GlossSeeAlso': ['GML', 'XML']},\n",
       " 'GlossSee': 'markup'}"
      ]
     },
     "execution_count": 86,
     "metadata": {},
     "output_type": "execute_result"
    }
   ],
   "source": [
    "df_1.iloc[0, 1]"
   ]
  },
  {
   "cell_type": "code",
   "execution_count": 155,
   "id": "c4468b10-a33a-4c5e-9993-1a98f2bb1293",
   "metadata": {},
   "outputs": [
    {
     "data": {
      "text/html": [
       "<div>\n",
       "<style scoped>\n",
       "    .dataframe tbody tr th:only-of-type {\n",
       "        vertical-align: middle;\n",
       "    }\n",
       "\n",
       "    .dataframe tbody tr th {\n",
       "        vertical-align: top;\n",
       "    }\n",
       "\n",
       "    .dataframe thead th {\n",
       "        text-align: right;\n",
       "    }\n",
       "</style>\n",
       "<table border=\"1\" class=\"dataframe\">\n",
       "  <thead>\n",
       "    <tr style=\"text-align: right;\">\n",
       "      <th></th>\n",
       "      <th>ID</th>\n",
       "      <th>SortAs</th>\n",
       "      <th>GlossTerm</th>\n",
       "      <th>Acronym</th>\n",
       "      <th>Abbrev</th>\n",
       "      <th>GlossDef</th>\n",
       "      <th>GlossSee</th>\n",
       "    </tr>\n",
       "  </thead>\n",
       "  <tbody>\n",
       "    <tr>\n",
       "      <th>0</th>\n",
       "      <td>SGML</td>\n",
       "      <td>SGML</td>\n",
       "      <td>Standard Generalized Markup Language</td>\n",
       "      <td>SGML</td>\n",
       "      <td>ISO 8879:1986</td>\n",
       "      <td>A meta-markup language, used to create markup ...</td>\n",
       "      <td>markup</td>\n",
       "    </tr>\n",
       "    <tr>\n",
       "      <th>1</th>\n",
       "      <td>SGML</td>\n",
       "      <td>SGML</td>\n",
       "      <td>Standard Generalized Markup Language</td>\n",
       "      <td>SGML</td>\n",
       "      <td>ISO 8879:1986</td>\n",
       "      <td>GML</td>\n",
       "      <td>markup</td>\n",
       "    </tr>\n",
       "    <tr>\n",
       "      <th>2</th>\n",
       "      <td>SGML</td>\n",
       "      <td>SGML</td>\n",
       "      <td>Standard Generalized Markup Language</td>\n",
       "      <td>SGML</td>\n",
       "      <td>ISO 8879:1986</td>\n",
       "      <td>XML</td>\n",
       "      <td>markup</td>\n",
       "    </tr>\n",
       "  </tbody>\n",
       "</table>\n",
       "</div>"
      ],
      "text/plain": [
       "     ID SortAs                             GlossTerm Acronym         Abbrev  \\\n",
       "0  SGML   SGML  Standard Generalized Markup Language    SGML  ISO 8879:1986   \n",
       "1  SGML   SGML  Standard Generalized Markup Language    SGML  ISO 8879:1986   \n",
       "2  SGML   SGML  Standard Generalized Markup Language    SGML  ISO 8879:1986   \n",
       "\n",
       "                                            GlossDef GlossSee  \n",
       "0  A meta-markup language, used to create markup ...   markup  \n",
       "1                                                GML   markup  \n",
       "2                                                XML   markup  "
      ]
     },
     "execution_count": 155,
     "metadata": {},
     "output_type": "execute_result"
    }
   ],
   "source": [
    "n_df = pd.DataFrame(df_1.iloc[0, 1])\n",
    "newdf = n_df.explode('GlossDef', 'GlossSeeAlso')\n",
    "newdf"
   ]
  },
  {
   "cell_type": "code",
   "execution_count": 44,
   "id": "04772b0e-669e-423a-a7b2-161f97f73c5c",
   "metadata": {},
   "outputs": [
    {
     "data": {
      "text/html": [
       "<div>\n",
       "<style scoped>\n",
       "    .dataframe tbody tr th:only-of-type {\n",
       "        vertical-align: middle;\n",
       "    }\n",
       "\n",
       "    .dataframe tbody tr th {\n",
       "        vertical-align: top;\n",
       "    }\n",
       "\n",
       "    .dataframe thead th {\n",
       "        text-align: right;\n",
       "    }\n",
       "</style>\n",
       "<table border=\"1\" class=\"dataframe\">\n",
       "  <thead>\n",
       "    <tr style=\"text-align: right;\">\n",
       "      <th></th>\n",
       "      <th>glossary</th>\n",
       "    </tr>\n",
       "  </thead>\n",
       "  <tbody>\n",
       "    <tr>\n",
       "      <th>title</th>\n",
       "      <td>example glossary</td>\n",
       "    </tr>\n",
       "    <tr>\n",
       "      <th>GlossDiv</th>\n",
       "      <td>{'title': 'S', 'GlossList': {'GlossEntry': {'I...</td>\n",
       "    </tr>\n",
       "  </tbody>\n",
       "</table>\n",
       "</div>"
      ],
      "text/plain": [
       "                                                   glossary\n",
       "title                                      example glossary\n",
       "GlossDiv  {'title': 'S', 'GlossList': {'GlossEntry': {'I..."
      ]
     },
     "execution_count": 44,
     "metadata": {},
     "output_type": "execute_result"
    }
   ],
   "source": [
    "df"
   ]
  },
  {
   "cell_type": "code",
   "execution_count": 61,
   "id": "21184d1a-9766-4adb-aac9-86bf01740ec1",
   "metadata": {},
   "outputs": [
    {
     "data": {
      "text/plain": [
       "dict"
      ]
     },
     "execution_count": 61,
     "metadata": {},
     "output_type": "execute_result"
    }
   ],
   "source": [
    "type(df.iloc[1, 0])"
   ]
  },
  {
   "cell_type": "code",
   "execution_count": 54,
   "id": "960fec30-b775-48b9-ae9f-c8830a604650",
   "metadata": {},
   "outputs": [
    {
     "name": "stdout",
     "output_type": "stream",
     "text": [
      "{'glossary': {'title': 'example glossary', 'GlossDiv': {'title': 'S', 'GlossList': {'GlossEntry': {'ID': 'SGML', 'SortAs': 'SGML', 'GlossTerm': 'Standard Generalized Markup Language', 'Acronym': 'SGML', 'Abbrev': 'ISO 8879:1986', 'GlossDef': {'para': 'A meta-markup language, used to create markup languages such as DocBook.', 'GlossSeeAlso': ['GML', 'XML']}, 'GlossSee': 'markup'}}}}}\n"
     ]
    }
   ],
   "source": [
    "# to translate a string containing JSON data(aka JSON string) into a python value; here: _io.TextIOWrapper(aka file object) to dict.\n",
    "f = open(filename)\n",
    "data = json.load(f)\n",
    "print(data)"
   ]
  },
  {
   "cell_type": "code",
   "execution_count": 132,
   "id": "8e6b6d0c-db9c-4af1-8936-e7e5fd11bd8b",
   "metadata": {},
   "outputs": [
    {
     "data": {
      "text/plain": [
       "_io.TextIOWrapper"
      ]
     },
     "execution_count": 132,
     "metadata": {},
     "output_type": "execute_result"
    }
   ],
   "source": [
    "type(f)"
   ]
  },
  {
   "cell_type": "code",
   "execution_count": 134,
   "id": "add9a6f5-92bc-4dce-a5c0-02ed0cb17d61",
   "metadata": {},
   "outputs": [
    {
     "data": {
      "text/plain": [
       "dict"
      ]
     },
     "execution_count": 134,
     "metadata": {},
     "output_type": "execute_result"
    }
   ],
   "source": [
    "type(data)"
   ]
  },
  {
   "cell_type": "code",
   "execution_count": 136,
   "id": "dded95af-2ec9-4de9-adbf-5c6f42c1b2c2",
   "metadata": {},
   "outputs": [
    {
     "name": "stdout",
     "output_type": "stream",
     "text": [
      "{\"name\": \"nirmala\", \"age\": \"30\", \"location\": \"blr\", \"education\": \"msc\", \"type\": \"stubborn\"}\n"
     ]
    },
    {
     "data": {
      "text/plain": [
       "str"
      ]
     },
     "execution_count": 136,
     "metadata": {},
     "output_type": "execute_result"
    }
   ],
   "source": [
    "# translate a Python value into a string of JSON-formatted data\n",
    "dictionary = {\"name\": \"nirmala\", \"age\":\"30\", \"location\":\"blr\", \"education\":\"msc\", \"type\":\"stubborn\"}\n",
    "json_str = json.dumps(dictionary)\n",
    "print(json_str)\n",
    "# type(json_str) : str"
   ]
  },
  {
   "cell_type": "code",
   "execution_count": 147,
   "id": "bd27cc12-d442-4d04-a8d0-6dded2ca6772",
   "metadata": {},
   "outputs": [
    {
     "name": "stdout",
     "output_type": "stream",
     "text": [
      "{'menu': {'id': 'file', 'value': 'File', 'popup': {'menuitem': [{'value': 'New', 'onclick': 'CreateDoc()'}, {'value': 'Open', 'onclick': 'OpenDoc()'}, {'value': 'Save', 'onclick': 'SaveDoc()'}]}}}\n"
     ]
    }
   ],
   "source": [
    "# to translate a JSON-string into python value\n",
    "# putting three quotes signifies a string to json.loads()\n",
    "json_str_str = '''   {\n",
    "    \"menu\": {\n",
    "        \"id\": \"file\",\n",
    "        \"value\": \"File\",\n",
    "        \"popup\": {\n",
    "            \"menuitem\": [\n",
    "                {\n",
    "                    \"value\": \"New\",\n",
    "                    \"onclick\": \"CreateDoc()\"\n",
    "                },\n",
    "                {\n",
    "                    \"value\": \"Open\",\n",
    "                    \"onclick\": \"OpenDoc()\"\n",
    "                },\n",
    "                {\n",
    "                    \"value\": \"Save\",\n",
    "                    \"onclick\": \"SaveDoc()\"\n",
    "                }\n",
    "            ]\n",
    "        }\n",
    "    }\n",
    "} '''\n",
    "data_data = json.loads(json_str_str)\n",
    "print(data_data)"
   ]
  },
  {
   "cell_type": "code",
   "execution_count": 151,
   "id": "925caa4f-bf2a-4f06-b01b-c74cf5af767c",
   "metadata": {},
   "outputs": [
    {
     "name": "stdout",
     "output_type": "stream",
     "text": [
      "{'Hello': 6, 'Hi': 5}\n"
     ]
    },
    {
     "data": {
      "text/plain": [
       "dict"
      ]
     },
     "execution_count": 151,
     "metadata": {},
     "output_type": "execute_result"
    }
   ],
   "source": [
    "# str = '''{\"('Hello',)\": 6, \"('Hi',)\": 5}'''\n",
    "str = '''{\"Hello\": 6, \"Hi\": 5}'''\n",
    "d = json.loads(str)\n",
    "print(d)\n",
    "type(d)"
   ]
  },
  {
   "cell_type": "code",
   "execution_count": null,
   "id": "77be9bf0-ac84-431a-adc1-c7825663ca77",
   "metadata": {},
   "outputs": [],
   "source": []
  }
 ],
 "metadata": {
  "kernelspec": {
   "display_name": "data_venv",
   "language": "python",
   "name": "data_venv"
  },
  "language_info": {
   "codemirror_mode": {
    "name": "ipython",
    "version": 3
   },
   "file_extension": ".py",
   "mimetype": "text/x-python",
   "name": "python",
   "nbconvert_exporter": "python",
   "pygments_lexer": "ipython3",
   "version": "3.12.2"
  }
 },
 "nbformat": 4,
 "nbformat_minor": 5
}
