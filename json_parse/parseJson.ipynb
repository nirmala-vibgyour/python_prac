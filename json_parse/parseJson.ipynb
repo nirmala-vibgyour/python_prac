{
 "cells": [
  {
   "cell_type": "code",
   "execution_count": 2,
   "id": "c8a1bae3-fc24-4539-9ce2-025426d28c2a",
   "metadata": {},
   "outputs": [
    {
     "data": {
      "text/html": [
       "<div>\n",
       "<style scoped>\n",
       "    .dataframe tbody tr th:only-of-type {\n",
       "        vertical-align: middle;\n",
       "    }\n",
       "\n",
       "    .dataframe tbody tr th {\n",
       "        vertical-align: top;\n",
       "    }\n",
       "\n",
       "    .dataframe thead th {\n",
       "        text-align: right;\n",
       "    }\n",
       "</style>\n",
       "<table border=\"1\" class=\"dataframe\">\n",
       "  <thead>\n",
       "    <tr style=\"text-align: right;\">\n",
       "      <th></th>\n",
       "      <th>key</th>\n",
       "      <th>value</th>\n",
       "    </tr>\n",
       "  </thead>\n",
       "  <tbody>\n",
       "    <tr>\n",
       "      <th>0</th>\n",
       "      <td>ID</td>\n",
       "      <td>SGML</td>\n",
       "    </tr>\n",
       "    <tr>\n",
       "      <th>1</th>\n",
       "      <td>SortAs</td>\n",
       "      <td>SGML</td>\n",
       "    </tr>\n",
       "    <tr>\n",
       "      <th>2</th>\n",
       "      <td>GlossTerm</td>\n",
       "      <td>Standard Generalized Markup Language</td>\n",
       "    </tr>\n",
       "    <tr>\n",
       "      <th>3</th>\n",
       "      <td>Acronym</td>\n",
       "      <td>SGML</td>\n",
       "    </tr>\n",
       "    <tr>\n",
       "      <th>4</th>\n",
       "      <td>Abbrev</td>\n",
       "      <td>ISO 8879:1986</td>\n",
       "    </tr>\n",
       "    <tr>\n",
       "      <th>5</th>\n",
       "      <td>GlossDef</td>\n",
       "      <td>{'para': 'A meta-markup language, used to crea...</td>\n",
       "    </tr>\n",
       "    <tr>\n",
       "      <th>6</th>\n",
       "      <td>GlossSee</td>\n",
       "      <td>markup</td>\n",
       "    </tr>\n",
       "  </tbody>\n",
       "</table>\n",
       "</div>"
      ],
      "text/plain": [
       "         key                                              value\n",
       "0         ID                                               SGML\n",
       "1     SortAs                                               SGML\n",
       "2  GlossTerm               Standard Generalized Markup Language\n",
       "3    Acronym                                               SGML\n",
       "4     Abbrev                                      ISO 8879:1986\n",
       "5   GlossDef  {'para': 'A meta-markup language, used to crea...\n",
       "6   GlossSee                                             markup"
      ]
     },
     "execution_count": 2,
     "metadata": {},
     "output_type": "execute_result"
    }
   ],
   "source": [
    "import json\n",
    "import pandas as pd\n",
    "filename = \"sample.json\"\n",
    "df = pd.read_json(filename)\n",
    "df_1 = pd.DataFrame.from_dict(df.iloc[1, 0])\n",
    "# df_2 = pd.DataFrame.from_dict(df_1.iloc[0, 1])\n",
    "# df1 = pd.json_normalize(df.iloc[1,0]) this gives dataframe in format: confused\n",
    "# here, the items is nested list with tuples of two elements, for that two elements we need the two columns.\n",
    "df1 = pd.DataFrame(df_1.iloc[0, 1].items(), columns = ['key', 'value'] )\n",
    "df1"
   ]
  },
  {
   "cell_type": "code",
   "execution_count": 3,
   "id": "03d11d08-0f97-4fe8-a429-b045b96f9734",
   "metadata": {},
   "outputs": [
    {
     "data": {
      "text/html": [
       "<div>\n",
       "<style scoped>\n",
       "    .dataframe tbody tr th:only-of-type {\n",
       "        vertical-align: middle;\n",
       "    }\n",
       "\n",
       "    .dataframe tbody tr th {\n",
       "        vertical-align: top;\n",
       "    }\n",
       "\n",
       "    .dataframe thead th {\n",
       "        text-align: right;\n",
       "    }\n",
       "</style>\n",
       "<table border=\"1\" class=\"dataframe\">\n",
       "  <thead>\n",
       "    <tr style=\"text-align: right;\">\n",
       "      <th></th>\n",
       "      <th>key</th>\n",
       "      <th>value</th>\n",
       "    </tr>\n",
       "  </thead>\n",
       "  <tbody>\n",
       "    <tr>\n",
       "      <th>0</th>\n",
       "      <td>ID</td>\n",
       "      <td>SGML</td>\n",
       "    </tr>\n",
       "    <tr>\n",
       "      <th>1</th>\n",
       "      <td>SortAs</td>\n",
       "      <td>SGML</td>\n",
       "    </tr>\n",
       "    <tr>\n",
       "      <th>2</th>\n",
       "      <td>GlossTerm</td>\n",
       "      <td>Standard Generalized Markup Language</td>\n",
       "    </tr>\n",
       "    <tr>\n",
       "      <th>3</th>\n",
       "      <td>Acronym</td>\n",
       "      <td>SGML</td>\n",
       "    </tr>\n",
       "    <tr>\n",
       "      <th>4</th>\n",
       "      <td>Abbrev</td>\n",
       "      <td>ISO 8879:1986</td>\n",
       "    </tr>\n",
       "    <tr>\n",
       "      <th>5</th>\n",
       "      <td>GlossDef</td>\n",
       "      <td>para</td>\n",
       "    </tr>\n",
       "    <tr>\n",
       "      <th>5</th>\n",
       "      <td>GlossDef</td>\n",
       "      <td>GlossSeeAlso</td>\n",
       "    </tr>\n",
       "    <tr>\n",
       "      <th>6</th>\n",
       "      <td>GlossSee</td>\n",
       "      <td>markup</td>\n",
       "    </tr>\n",
       "  </tbody>\n",
       "</table>\n",
       "</div>"
      ],
      "text/plain": [
       "         key                                 value\n",
       "0         ID                                  SGML\n",
       "1     SortAs                                  SGML\n",
       "2  GlossTerm  Standard Generalized Markup Language\n",
       "3    Acronym                                  SGML\n",
       "4     Abbrev                         ISO 8879:1986\n",
       "5   GlossDef                                  para\n",
       "5   GlossDef                          GlossSeeAlso\n",
       "6   GlossSee                                markup"
      ]
     },
     "execution_count": 3,
     "metadata": {},
     "output_type": "execute_result"
    }
   ],
   "source": [
    "df1 = pd.DataFrame(df_1.iloc[0, 1].items(), columns = ['key', 'value'] ).explode(\"value\")\n",
    "df1"
   ]
  },
  {
   "cell_type": "code",
   "execution_count": 9,
   "id": "f5e34ae9-e05d-4ec9-9556-46f1a1246d2c",
   "metadata": {},
   "outputs": [
    {
     "data": {
      "text/html": [
       "<div>\n",
       "<style scoped>\n",
       "    .dataframe tbody tr th:only-of-type {\n",
       "        vertical-align: middle;\n",
       "    }\n",
       "\n",
       "    .dataframe tbody tr th {\n",
       "        vertical-align: top;\n",
       "    }\n",
       "\n",
       "    .dataframe thead th {\n",
       "        text-align: right;\n",
       "    }\n",
       "</style>\n",
       "<table border=\"1\" class=\"dataframe\">\n",
       "  <thead>\n",
       "    <tr style=\"text-align: right;\">\n",
       "      <th></th>\n",
       "      <th>glossary</th>\n",
       "    </tr>\n",
       "  </thead>\n",
       "  <tbody>\n",
       "    <tr>\n",
       "      <th>title</th>\n",
       "      <td>example glossary</td>\n",
       "    </tr>\n",
       "    <tr>\n",
       "      <th>GlossDiv</th>\n",
       "      <td>{'title': 'S', 'GlossList': {'GlossEntry': {'I...</td>\n",
       "    </tr>\n",
       "  </tbody>\n",
       "</table>\n",
       "</div>"
      ],
      "text/plain": [
       "                                                   glossary\n",
       "title                                      example glossary\n",
       "GlossDiv  {'title': 'S', 'GlossList': {'GlossEntry': {'I..."
      ]
     },
     "execution_count": 9,
     "metadata": {},
     "output_type": "execute_result"
    }
   ],
   "source": [
    "df"
   ]
  },
  {
   "cell_type": "code",
   "execution_count": 5,
   "id": "deb18a54-61bf-4141-b06d-487311b138ab",
   "metadata": {},
   "outputs": [
    {
     "data": {
      "text/html": [
       "<div>\n",
       "<style scoped>\n",
       "    .dataframe tbody tr th:only-of-type {\n",
       "        vertical-align: middle;\n",
       "    }\n",
       "\n",
       "    .dataframe tbody tr th {\n",
       "        vertical-align: top;\n",
       "    }\n",
       "\n",
       "    .dataframe thead th {\n",
       "        text-align: right;\n",
       "    }\n",
       "</style>\n",
       "<table border=\"1\" class=\"dataframe\">\n",
       "  <thead>\n",
       "    <tr style=\"text-align: right;\">\n",
       "      <th></th>\n",
       "      <th>glossary</th>\n",
       "    </tr>\n",
       "  </thead>\n",
       "  <tbody>\n",
       "    <tr>\n",
       "      <th>title</th>\n",
       "      <td>example glossary</td>\n",
       "    </tr>\n",
       "    <tr>\n",
       "      <th>GlossDiv</th>\n",
       "      <td>title</td>\n",
       "    </tr>\n",
       "    <tr>\n",
       "      <th>GlossDiv</th>\n",
       "      <td>GlossList</td>\n",
       "    </tr>\n",
       "  </tbody>\n",
       "</table>\n",
       "</div>"
      ],
      "text/plain": [
       "                  glossary\n",
       "title     example glossary\n",
       "GlossDiv             title\n",
       "GlossDiv         GlossList"
      ]
     },
     "execution_count": 5,
     "metadata": {},
     "output_type": "execute_result"
    }
   ],
   "source": [
    "df2 = df.explode(\"glossary\")\n",
    "df2"
   ]
  },
  {
   "cell_type": "code",
   "execution_count": 11,
   "id": "44b34f1a-3ef9-4662-b825-c3631bb443a7",
   "metadata": {},
   "outputs": [
    {
     "data": {
      "text/html": [
       "<div>\n",
       "<style scoped>\n",
       "    .dataframe tbody tr th:only-of-type {\n",
       "        vertical-align: middle;\n",
       "    }\n",
       "\n",
       "    .dataframe tbody tr th {\n",
       "        vertical-align: top;\n",
       "    }\n",
       "\n",
       "    .dataframe thead th {\n",
       "        text-align: right;\n",
       "    }\n",
       "</style>\n",
       "<table border=\"1\" class=\"dataframe\">\n",
       "  <thead>\n",
       "    <tr style=\"text-align: right;\">\n",
       "      <th></th>\n",
       "      <th>glossary</th>\n",
       "    </tr>\n",
       "  </thead>\n",
       "  <tbody>\n",
       "    <tr>\n",
       "      <th>title</th>\n",
       "      <td>example glossary</td>\n",
       "    </tr>\n",
       "    <tr>\n",
       "      <th>-</th>\n",
       "      <td>title</td>\n",
       "    </tr>\n",
       "    <tr>\n",
       "      <th>-</th>\n",
       "      <td>GlossList</td>\n",
       "    </tr>\n",
       "  </tbody>\n",
       "</table>\n",
       "</div>"
      ],
      "text/plain": [
       "               glossary\n",
       "title  example glossary\n",
       "-                 title\n",
       "-             GlossList"
      ]
     },
     "execution_count": 11,
     "metadata": {},
     "output_type": "execute_result"
    }
   ],
   "source": [
    "# df3 = df2.reindex(index = [0, 1, 2], columns = [\"glossary\"])\n",
    "df3 = df2.rename(index = {'GlossDiv':'-'})\n",
    "df3"
   ]
  },
  {
   "cell_type": "code",
   "execution_count": 12,
   "id": "ae6c2d2d-e9e8-4a6d-b7fe-1202ef0715c7",
   "metadata": {},
   "outputs": [
    {
     "ename": "KeyError",
     "evalue": "\"['key'] not in index\"",
     "output_type": "error",
     "traceback": [
      "\u001b[1;31m---------------------------------------------------------------------------\u001b[0m",
      "\u001b[1;31mKeyError\u001b[0m                                  Traceback (most recent call last)",
      "Cell \u001b[1;32mIn[12], line 1\u001b[0m\n\u001b[1;32m----> 1\u001b[0m df4 \u001b[38;5;241m=\u001b[39m \u001b[43mdf2\u001b[49m\u001b[43m[\u001b[49m\u001b[43m[\u001b[49m\u001b[38;5;124;43m\"\u001b[39;49m\u001b[38;5;124;43mkey\u001b[39;49m\u001b[38;5;124;43m\"\u001b[39;49m\u001b[43m,\u001b[49m\u001b[38;5;124;43m\"\u001b[39;49m\u001b[38;5;124;43mglossary\u001b[39;49m\u001b[38;5;124;43m\"\u001b[39;49m\u001b[43m]\u001b[49m\u001b[43m]\u001b[49m\n\u001b[0;32m      2\u001b[0m df4\u001b[38;5;241m.\u001b[39mreset_index(inplace \u001b[38;5;241m=\u001b[39m \u001b[38;5;28;01mTrue\u001b[39;00m)\n\u001b[0;32m      3\u001b[0m df5 \u001b[38;5;241m=\u001b[39m df4\u001b[38;5;241m.\u001b[39mT\u001b[38;5;241m.\u001b[39mdrop_duplicates()\u001b[38;5;241m.\u001b[39mT\n",
      "File \u001b[1;32m~\\OneDrive\\Desktop\\python_prac\\json_csv\\data_venv\\Lib\\site-packages\\pandas\\core\\frame.py:4108\u001b[0m, in \u001b[0;36mDataFrame.__getitem__\u001b[1;34m(self, key)\u001b[0m\n\u001b[0;32m   4106\u001b[0m     \u001b[38;5;28;01mif\u001b[39;00m is_iterator(key):\n\u001b[0;32m   4107\u001b[0m         key \u001b[38;5;241m=\u001b[39m \u001b[38;5;28mlist\u001b[39m(key)\n\u001b[1;32m-> 4108\u001b[0m     indexer \u001b[38;5;241m=\u001b[39m \u001b[38;5;28;43mself\u001b[39;49m\u001b[38;5;241;43m.\u001b[39;49m\u001b[43mcolumns\u001b[49m\u001b[38;5;241;43m.\u001b[39;49m\u001b[43m_get_indexer_strict\u001b[49m\u001b[43m(\u001b[49m\u001b[43mkey\u001b[49m\u001b[43m,\u001b[49m\u001b[43m \u001b[49m\u001b[38;5;124;43m\"\u001b[39;49m\u001b[38;5;124;43mcolumns\u001b[39;49m\u001b[38;5;124;43m\"\u001b[39;49m\u001b[43m)\u001b[49m[\u001b[38;5;241m1\u001b[39m]\n\u001b[0;32m   4110\u001b[0m \u001b[38;5;66;03m# take() does not accept boolean indexers\u001b[39;00m\n\u001b[0;32m   4111\u001b[0m \u001b[38;5;28;01mif\u001b[39;00m \u001b[38;5;28mgetattr\u001b[39m(indexer, \u001b[38;5;124m\"\u001b[39m\u001b[38;5;124mdtype\u001b[39m\u001b[38;5;124m\"\u001b[39m, \u001b[38;5;28;01mNone\u001b[39;00m) \u001b[38;5;241m==\u001b[39m \u001b[38;5;28mbool\u001b[39m:\n",
      "File \u001b[1;32m~\\OneDrive\\Desktop\\python_prac\\json_csv\\data_venv\\Lib\\site-packages\\pandas\\core\\indexes\\base.py:6200\u001b[0m, in \u001b[0;36mIndex._get_indexer_strict\u001b[1;34m(self, key, axis_name)\u001b[0m\n\u001b[0;32m   6197\u001b[0m \u001b[38;5;28;01melse\u001b[39;00m:\n\u001b[0;32m   6198\u001b[0m     keyarr, indexer, new_indexer \u001b[38;5;241m=\u001b[39m \u001b[38;5;28mself\u001b[39m\u001b[38;5;241m.\u001b[39m_reindex_non_unique(keyarr)\n\u001b[1;32m-> 6200\u001b[0m \u001b[38;5;28;43mself\u001b[39;49m\u001b[38;5;241;43m.\u001b[39;49m\u001b[43m_raise_if_missing\u001b[49m\u001b[43m(\u001b[49m\u001b[43mkeyarr\u001b[49m\u001b[43m,\u001b[49m\u001b[43m \u001b[49m\u001b[43mindexer\u001b[49m\u001b[43m,\u001b[49m\u001b[43m \u001b[49m\u001b[43maxis_name\u001b[49m\u001b[43m)\u001b[49m\n\u001b[0;32m   6202\u001b[0m keyarr \u001b[38;5;241m=\u001b[39m \u001b[38;5;28mself\u001b[39m\u001b[38;5;241m.\u001b[39mtake(indexer)\n\u001b[0;32m   6203\u001b[0m \u001b[38;5;28;01mif\u001b[39;00m \u001b[38;5;28misinstance\u001b[39m(key, Index):\n\u001b[0;32m   6204\u001b[0m     \u001b[38;5;66;03m# GH 42790 - Preserve name from an Index\u001b[39;00m\n",
      "File \u001b[1;32m~\\OneDrive\\Desktop\\python_prac\\json_csv\\data_venv\\Lib\\site-packages\\pandas\\core\\indexes\\base.py:6252\u001b[0m, in \u001b[0;36mIndex._raise_if_missing\u001b[1;34m(self, key, indexer, axis_name)\u001b[0m\n\u001b[0;32m   6249\u001b[0m     \u001b[38;5;28;01mraise\u001b[39;00m \u001b[38;5;167;01mKeyError\u001b[39;00m(\u001b[38;5;124mf\u001b[39m\u001b[38;5;124m\"\u001b[39m\u001b[38;5;124mNone of [\u001b[39m\u001b[38;5;132;01m{\u001b[39;00mkey\u001b[38;5;132;01m}\u001b[39;00m\u001b[38;5;124m] are in the [\u001b[39m\u001b[38;5;132;01m{\u001b[39;00maxis_name\u001b[38;5;132;01m}\u001b[39;00m\u001b[38;5;124m]\u001b[39m\u001b[38;5;124m\"\u001b[39m)\n\u001b[0;32m   6251\u001b[0m not_found \u001b[38;5;241m=\u001b[39m \u001b[38;5;28mlist\u001b[39m(ensure_index(key)[missing_mask\u001b[38;5;241m.\u001b[39mnonzero()[\u001b[38;5;241m0\u001b[39m]]\u001b[38;5;241m.\u001b[39munique())\n\u001b[1;32m-> 6252\u001b[0m \u001b[38;5;28;01mraise\u001b[39;00m \u001b[38;5;167;01mKeyError\u001b[39;00m(\u001b[38;5;124mf\u001b[39m\u001b[38;5;124m\"\u001b[39m\u001b[38;5;132;01m{\u001b[39;00mnot_found\u001b[38;5;132;01m}\u001b[39;00m\u001b[38;5;124m not in index\u001b[39m\u001b[38;5;124m\"\u001b[39m)\n",
      "\u001b[1;31mKeyError\u001b[0m: \"['key'] not in index\""
     ]
    }
   ],
   "source": [
    "df4 = df2[[\"key\",\"glossary\"]]\n",
    "df4.reset_index(inplace = True)\n",
    "df5 = df4.T.drop_duplicates().T\n",
    "df5.reset_index(inplace = False)\n",
    "df6 = df5.T.drop_duplicates().T\n",
    "df6 = df6.drop('index', axis = 1)\n",
    "df6"
   ]
  },
  {
   "cell_type": "code",
   "execution_count": 6,
   "id": "66370233-2d4c-4dee-a5fd-2f889b8907f5",
   "metadata": {},
   "outputs": [
    {
     "data": {
      "text/html": [
       "<div>\n",
       "<style scoped>\n",
       "    .dataframe tbody tr th:only-of-type {\n",
       "        vertical-align: middle;\n",
       "    }\n",
       "\n",
       "    .dataframe tbody tr th {\n",
       "        vertical-align: top;\n",
       "    }\n",
       "\n",
       "    .dataframe thead th {\n",
       "        text-align: right;\n",
       "    }\n",
       "</style>\n",
       "<table border=\"1\" class=\"dataframe\">\n",
       "  <thead>\n",
       "    <tr style=\"text-align: right;\">\n",
       "      <th></th>\n",
       "      <th>glossary</th>\n",
       "      <th>key</th>\n",
       "    </tr>\n",
       "  </thead>\n",
       "  <tbody>\n",
       "    <tr>\n",
       "      <th>title</th>\n",
       "      <td>example glossary</td>\n",
       "      <td>title</td>\n",
       "    </tr>\n",
       "    <tr>\n",
       "      <th>GlossDiv</th>\n",
       "      <td>title</td>\n",
       "      <td>GlossDiv</td>\n",
       "    </tr>\n",
       "    <tr>\n",
       "      <th>GlossDiv</th>\n",
       "      <td>GlossList</td>\n",
       "      <td>GlossDiv</td>\n",
       "    </tr>\n",
       "  </tbody>\n",
       "</table>\n",
       "</div>"
      ],
      "text/plain": [
       "                  glossary       key\n",
       "title     example glossary     title\n",
       "GlossDiv             title  GlossDiv\n",
       "GlossDiv         GlossList  GlossDiv"
      ]
     },
     "execution_count": 6,
     "metadata": {},
     "output_type": "execute_result"
    }
   ],
   "source": [
    "# df2 = df2.drop('index', axis = 1)\n",
    "# df2 = df2.drop('key', axis = 1)\n",
    "# df2 = df2.drop('level_0', axis = 1)\n",
    "df2[\"key\"] = [ \"title\", \"GlossDiv\", \"GlossDiv\"]\n",
    "df2"
   ]
  },
  {
   "cell_type": "code",
   "execution_count": 7,
   "id": "e9a3f999-44d8-4636-9008-92d30c8b6959",
   "metadata": {},
   "outputs": [
    {
     "data": {
      "text/html": [
       "<div>\n",
       "<style scoped>\n",
       "    .dataframe tbody tr th:only-of-type {\n",
       "        vertical-align: middle;\n",
       "    }\n",
       "\n",
       "    .dataframe tbody tr th {\n",
       "        vertical-align: top;\n",
       "    }\n",
       "\n",
       "    .dataframe thead th {\n",
       "        text-align: right;\n",
       "    }\n",
       "</style>\n",
       "<table border=\"1\" class=\"dataframe\">\n",
       "  <thead>\n",
       "    <tr style=\"text-align: right;\">\n",
       "      <th></th>\n",
       "      <th>key</th>\n",
       "      <th>value1</th>\n",
       "      <th>value2</th>\n",
       "    </tr>\n",
       "  </thead>\n",
       "  <tbody>\n",
       "    <tr>\n",
       "      <th>title</th>\n",
       "      <td>glossary</td>\n",
       "      <td>example glossary</td>\n",
       "      <td>title</td>\n",
       "    </tr>\n",
       "    <tr>\n",
       "      <th>GlossDiv</th>\n",
       "      <td>-</td>\n",
       "      <td>title</td>\n",
       "      <td>GlossDiv</td>\n",
       "    </tr>\n",
       "    <tr>\n",
       "      <th>GlossDiv</th>\n",
       "      <td>-</td>\n",
       "      <td>GlossList</td>\n",
       "      <td>GlossDiv</td>\n",
       "    </tr>\n",
       "  </tbody>\n",
       "</table>\n",
       "</div>"
      ],
      "text/plain": [
       "               key            value1    value2\n",
       "title     glossary  example glossary     title\n",
       "GlossDiv         -             title  GlossDiv\n",
       "GlossDiv         -         GlossList  GlossDiv"
      ]
     },
     "execution_count": 7,
     "metadata": {},
     "output_type": "execute_result"
    }
   ],
   "source": [
    "df2[\"key\"]= [\"title\", \"GlossDiv\", \"GlossDiv\"]\n",
    "df7 = df2.rename(columns = {'key':'value'})\n",
    "df7[\"key\"] = [\"glossary\", \"-\", \"-\"]\n",
    "df8 = df7.rename(columns = {'value':'value1'})\n",
    "df9 = df7.rename(columns = {'glossary': 'value2'})\n",
    "df10 = df9[[\"key\", \"value2\", \"value\"]]\n",
    "df11 = df10.rename(columns = {\"value2\":\"value1\", \"value\":\"value2\"})\n",
    "df11"
   ]
  },
  {
   "cell_type": "code",
   "execution_count": 8,
   "id": "c0ff2689-dc8f-41be-b670-12105b46a9eb",
   "metadata": {},
   "outputs": [
    {
     "data": {
      "text/html": [
       "<div>\n",
       "<style scoped>\n",
       "    .dataframe tbody tr th:only-of-type {\n",
       "        vertical-align: middle;\n",
       "    }\n",
       "\n",
       "    .dataframe tbody tr th {\n",
       "        vertical-align: top;\n",
       "    }\n",
       "\n",
       "    .dataframe thead th {\n",
       "        text-align: right;\n",
       "    }\n",
       "</style>\n",
       "<table border=\"1\" class=\"dataframe\">\n",
       "  <thead>\n",
       "    <tr style=\"text-align: right;\">\n",
       "      <th></th>\n",
       "      <th>key</th>\n",
       "      <th>value1</th>\n",
       "      <th>value2</th>\n",
       "    </tr>\n",
       "  </thead>\n",
       "  <tbody>\n",
       "    <tr>\n",
       "      <th>title</th>\n",
       "      <td>glossary</td>\n",
       "      <td>title</td>\n",
       "      <td>example glossary</td>\n",
       "    </tr>\n",
       "    <tr>\n",
       "      <th>GlossDiv</th>\n",
       "      <td>-</td>\n",
       "      <td>GlossDiv</td>\n",
       "      <td>title</td>\n",
       "    </tr>\n",
       "    <tr>\n",
       "      <th>GlossDiv</th>\n",
       "      <td>-</td>\n",
       "      <td>GlossDiv</td>\n",
       "      <td>GlossList</td>\n",
       "    </tr>\n",
       "  </tbody>\n",
       "</table>\n",
       "</div>"
      ],
      "text/plain": [
       "               key    value1            value2\n",
       "title     glossary     title  example glossary\n",
       "GlossDiv         -  GlossDiv             title\n",
       "GlossDiv         -  GlossDiv         GlossList"
      ]
     },
     "execution_count": 8,
     "metadata": {},
     "output_type": "execute_result"
    }
   ],
   "source": [
    "df12 = df11[[\"key\", \"value2\", \"value1\"]]\n",
    "# df11 = df11.rename(columns = {\"value2\":\"value1\", \"value1\":\"value2\"})\n",
    "df13 = df12.rename(columns = {\"value2\":\"value1\", \"value1\":\"value2\"})\n",
    "df13"
   ]
  },
  {
   "cell_type": "code",
   "execution_count": 9,
   "id": "3e7fdd69-8d87-4816-98bb-70f7eba244bf",
   "metadata": {},
   "outputs": [
    {
     "data": {
      "text/html": [
       "<div>\n",
       "<style scoped>\n",
       "    .dataframe tbody tr th:only-of-type {\n",
       "        vertical-align: middle;\n",
       "    }\n",
       "\n",
       "    .dataframe tbody tr th {\n",
       "        vertical-align: top;\n",
       "    }\n",
       "\n",
       "    .dataframe thead th {\n",
       "        text-align: right;\n",
       "    }\n",
       "</style>\n",
       "<table border=\"1\" class=\"dataframe\">\n",
       "  <thead>\n",
       "    <tr style=\"text-align: right;\">\n",
       "      <th></th>\n",
       "      <th>key</th>\n",
       "      <th>value1</th>\n",
       "      <th>value2</th>\n",
       "    </tr>\n",
       "  </thead>\n",
       "  <tbody>\n",
       "    <tr>\n",
       "      <th>title</th>\n",
       "      <td>glossary</td>\n",
       "      <td>title</td>\n",
       "      <td>example glossary</td>\n",
       "    </tr>\n",
       "    <tr>\n",
       "      <th>GlossDiv</th>\n",
       "      <td>-</td>\n",
       "      <td>GlossDiv</td>\n",
       "      <td>title</td>\n",
       "    </tr>\n",
       "    <tr>\n",
       "      <th>GlossDiv</th>\n",
       "      <td>-</td>\n",
       "      <td>GlossDiv</td>\n",
       "      <td>GlossList</td>\n",
       "    </tr>\n",
       "  </tbody>\n",
       "</table>\n",
       "</div>"
      ],
      "text/plain": [
       "               key    value1            value2\n",
       "title     glossary     title  example glossary\n",
       "GlossDiv         -  GlossDiv             title\n",
       "GlossDiv         -  GlossDiv         GlossList"
      ]
     },
     "execution_count": 9,
     "metadata": {},
     "output_type": "execute_result"
    }
   ],
   "source": [
    "df13"
   ]
  },
  {
   "cell_type": "code",
   "execution_count": 10,
   "id": "3da0bf37-aee0-46e8-b033-288dfc41e0bc",
   "metadata": {},
   "outputs": [
    {
     "data": {
      "text/html": [
       "<div>\n",
       "<style scoped>\n",
       "    .dataframe tbody tr th:only-of-type {\n",
       "        vertical-align: middle;\n",
       "    }\n",
       "\n",
       "    .dataframe tbody tr th {\n",
       "        vertical-align: top;\n",
       "    }\n",
       "\n",
       "    .dataframe thead th {\n",
       "        text-align: right;\n",
       "    }\n",
       "</style>\n",
       "<table border=\"1\" class=\"dataframe\">\n",
       "  <thead>\n",
       "    <tr style=\"text-align: right;\">\n",
       "      <th></th>\n",
       "      <th>key</th>\n",
       "      <th>value1</th>\n",
       "      <th>value2</th>\n",
       "      <th>value3</th>\n",
       "    </tr>\n",
       "  </thead>\n",
       "  <tbody>\n",
       "    <tr>\n",
       "      <th>title</th>\n",
       "      <td>glossary</td>\n",
       "      <td>title</td>\n",
       "      <td>example glossary</td>\n",
       "      <td>-</td>\n",
       "    </tr>\n",
       "    <tr>\n",
       "      <th>GlossDiv</th>\n",
       "      <td>-</td>\n",
       "      <td>GlossDiv</td>\n",
       "      <td>title</td>\n",
       "      <td>S</td>\n",
       "    </tr>\n",
       "    <tr>\n",
       "      <th>GlossDiv</th>\n",
       "      <td>-</td>\n",
       "      <td>GlossDiv</td>\n",
       "      <td>GlossList</td>\n",
       "      <td>GlossEntry</td>\n",
       "    </tr>\n",
       "  </tbody>\n",
       "</table>\n",
       "</div>"
      ],
      "text/plain": [
       "               key    value1            value2      value3\n",
       "title     glossary     title  example glossary           -\n",
       "GlossDiv         -  GlossDiv             title           S\n",
       "GlossDiv         -  GlossDiv         GlossList  GlossEntry"
      ]
     },
     "execution_count": 10,
     "metadata": {},
     "output_type": "execute_result"
    }
   ],
   "source": [
    "df13[\"value3\"] = [\"-\", \"S\", \"GlossEntry\"]\n",
    "df13"
   ]
  },
  {
   "cell_type": "code",
   "execution_count": 11,
   "id": "b082750e-6bf7-4a94-9c79-1d8e44b05348",
   "metadata": {},
   "outputs": [
    {
     "data": {
      "text/html": [
       "<div>\n",
       "<style scoped>\n",
       "    .dataframe tbody tr th:only-of-type {\n",
       "        vertical-align: middle;\n",
       "    }\n",
       "\n",
       "    .dataframe tbody tr th {\n",
       "        vertical-align: top;\n",
       "    }\n",
       "\n",
       "    .dataframe thead th {\n",
       "        text-align: right;\n",
       "    }\n",
       "</style>\n",
       "<table border=\"1\" class=\"dataframe\">\n",
       "  <thead>\n",
       "    <tr style=\"text-align: right;\">\n",
       "      <th></th>\n",
       "      <th>key</th>\n",
       "      <th>value</th>\n",
       "    </tr>\n",
       "  </thead>\n",
       "  <tbody>\n",
       "    <tr>\n",
       "      <th>0</th>\n",
       "      <td>ID</td>\n",
       "      <td>SGML</td>\n",
       "    </tr>\n",
       "    <tr>\n",
       "      <th>1</th>\n",
       "      <td>SortAs</td>\n",
       "      <td>SGML</td>\n",
       "    </tr>\n",
       "    <tr>\n",
       "      <th>2</th>\n",
       "      <td>GlossTerm</td>\n",
       "      <td>Standard Generalized Markup Language</td>\n",
       "    </tr>\n",
       "    <tr>\n",
       "      <th>3</th>\n",
       "      <td>Acronym</td>\n",
       "      <td>SGML</td>\n",
       "    </tr>\n",
       "    <tr>\n",
       "      <th>4</th>\n",
       "      <td>Abbrev</td>\n",
       "      <td>ISO 8879:1986</td>\n",
       "    </tr>\n",
       "    <tr>\n",
       "      <th>5</th>\n",
       "      <td>GlossDef</td>\n",
       "      <td>para</td>\n",
       "    </tr>\n",
       "    <tr>\n",
       "      <th>5</th>\n",
       "      <td>GlossDef</td>\n",
       "      <td>GlossSeeAlso</td>\n",
       "    </tr>\n",
       "    <tr>\n",
       "      <th>6</th>\n",
       "      <td>GlossSee</td>\n",
       "      <td>markup</td>\n",
       "    </tr>\n",
       "  </tbody>\n",
       "</table>\n",
       "</div>"
      ],
      "text/plain": [
       "         key                                 value\n",
       "0         ID                                  SGML\n",
       "1     SortAs                                  SGML\n",
       "2  GlossTerm  Standard Generalized Markup Language\n",
       "3    Acronym                                  SGML\n",
       "4     Abbrev                         ISO 8879:1986\n",
       "5   GlossDef                                  para\n",
       "5   GlossDef                          GlossSeeAlso\n",
       "6   GlossSee                                markup"
      ]
     },
     "execution_count": 11,
     "metadata": {},
     "output_type": "execute_result"
    }
   ],
   "source": [
    "df1"
   ]
  },
  {
   "cell_type": "code",
   "execution_count": 12,
   "id": "261cf8a1-31b4-4a26-ab80-2bdb0627c42b",
   "metadata": {},
   "outputs": [
    {
     "data": {
      "text/plain": [
       "['-',\n",
       " '-',\n",
       " 'ID',\n",
       " 'SortAs',\n",
       " 'GlossTerm',\n",
       " 'Acronym',\n",
       " 'Abbrev',\n",
       " 'GlossDef',\n",
       " 'GlossDef',\n",
       " 'GlossDef',\n",
       " 'GlossSee']"
      ]
     },
     "execution_count": 12,
     "metadata": {},
     "output_type": "execute_result"
    }
   ],
   "source": [
    "value4 = df1[\"key\"].to_list()\n",
    "value4.insert(0,\"-\")\n",
    "value4.insert(1,\"-\")\n",
    "value4.insert(9, \"GlossDef\")\n",
    "value4"
   ]
  },
  {
   "cell_type": "code",
   "execution_count": 13,
   "id": "8fc7b621-e233-4957-9b55-3a1ccd45a7ba",
   "metadata": {},
   "outputs": [
    {
     "data": {
      "text/plain": [
       "['-',\n",
       " '-',\n",
       " 'SGML',\n",
       " 'SGML',\n",
       " 'Standard Generalized Markup Language',\n",
       " 'SGML',\n",
       " 'ISO 8879:1986',\n",
       " 'para',\n",
       " 'GlossSeeAlso',\n",
       " 'GlossSeeAlso',\n",
       " 'markup']"
      ]
     },
     "execution_count": 13,
     "metadata": {},
     "output_type": "execute_result"
    }
   ],
   "source": [
    "value5 = df1[\"value\"].to_list()\n",
    "value5.insert(0,\"-\")\n",
    "value5.insert(1,\"-\")\n",
    "value5.insert(9,\"GlossSeeAlso\")\n",
    "value5"
   ]
  },
  {
   "cell_type": "code",
   "execution_count": 257,
   "id": "d4eb27ec-2c52-4619-b35d-d8bb09fad5be",
   "metadata": {},
   "outputs": [
    {
     "data": {
      "text/plain": [
       "True"
      ]
     },
     "execution_count": 257,
     "metadata": {},
     "output_type": "execute_result"
    }
   ],
   "source": [
    "len(value4) == len(value5)"
   ]
  },
  {
   "cell_type": "code",
   "execution_count": 258,
   "id": "73b4f39e-8282-4ccd-bd7f-6d7b637700a2",
   "metadata": {},
   "outputs": [
    {
     "data": {
      "text/plain": [
       "11"
      ]
     },
     "execution_count": 258,
     "metadata": {},
     "output_type": "execute_result"
    }
   ],
   "source": [
    "len(value4)"
   ]
  },
  {
   "cell_type": "code",
   "execution_count": 14,
   "id": "1de8ca07-5789-4d5a-9f8e-7709f96b4565",
   "metadata": {},
   "outputs": [
    {
     "data": {
      "text/html": [
       "<div>\n",
       "<style scoped>\n",
       "    .dataframe tbody tr th:only-of-type {\n",
       "        vertical-align: middle;\n",
       "    }\n",
       "\n",
       "    .dataframe tbody tr th {\n",
       "        vertical-align: top;\n",
       "    }\n",
       "\n",
       "    .dataframe thead th {\n",
       "        text-align: right;\n",
       "    }\n",
       "</style>\n",
       "<table border=\"1\" class=\"dataframe\">\n",
       "  <thead>\n",
       "    <tr style=\"text-align: right;\">\n",
       "      <th></th>\n",
       "      <th>key</th>\n",
       "      <th>value1</th>\n",
       "      <th>value2</th>\n",
       "      <th>value3</th>\n",
       "      <th>value4</th>\n",
       "      <th>value5</th>\n",
       "      <th>value6</th>\n",
       "    </tr>\n",
       "  </thead>\n",
       "  <tbody>\n",
       "    <tr>\n",
       "      <th>0</th>\n",
       "      <td>glossary</td>\n",
       "      <td>title</td>\n",
       "      <td>example glossary</td>\n",
       "      <td>-</td>\n",
       "      <td>-</td>\n",
       "      <td>-</td>\n",
       "      <td>-</td>\n",
       "    </tr>\n",
       "    <tr>\n",
       "      <th>1</th>\n",
       "      <td>-</td>\n",
       "      <td>GlossDiv</td>\n",
       "      <td>title</td>\n",
       "      <td>S</td>\n",
       "      <td>-</td>\n",
       "      <td>-</td>\n",
       "      <td>-</td>\n",
       "    </tr>\n",
       "    <tr>\n",
       "      <th>2</th>\n",
       "      <td>-</td>\n",
       "      <td>GlossDiv</td>\n",
       "      <td>GlossList</td>\n",
       "      <td>GlossEntry</td>\n",
       "      <td>ID</td>\n",
       "      <td>SGML</td>\n",
       "      <td>-</td>\n",
       "    </tr>\n",
       "    <tr>\n",
       "      <th>3</th>\n",
       "      <td>-</td>\n",
       "      <td>-</td>\n",
       "      <td>-</td>\n",
       "      <td>-</td>\n",
       "      <td>SortAs</td>\n",
       "      <td>SGML</td>\n",
       "      <td>-</td>\n",
       "    </tr>\n",
       "    <tr>\n",
       "      <th>4</th>\n",
       "      <td>-</td>\n",
       "      <td>-</td>\n",
       "      <td>-</td>\n",
       "      <td>-</td>\n",
       "      <td>GlossTerm</td>\n",
       "      <td>Standard Generalized Markup Language</td>\n",
       "      <td>-</td>\n",
       "    </tr>\n",
       "    <tr>\n",
       "      <th>5</th>\n",
       "      <td>-</td>\n",
       "      <td>-</td>\n",
       "      <td>-</td>\n",
       "      <td>-</td>\n",
       "      <td>Acronym</td>\n",
       "      <td>SGML</td>\n",
       "      <td>-</td>\n",
       "    </tr>\n",
       "    <tr>\n",
       "      <th>6</th>\n",
       "      <td>-</td>\n",
       "      <td>-</td>\n",
       "      <td>-</td>\n",
       "      <td>-</td>\n",
       "      <td>Abbrev</td>\n",
       "      <td>ISO 8879:1986</td>\n",
       "      <td>-</td>\n",
       "    </tr>\n",
       "    <tr>\n",
       "      <th>7</th>\n",
       "      <td>-</td>\n",
       "      <td>-</td>\n",
       "      <td>-</td>\n",
       "      <td>-</td>\n",
       "      <td>GlossDef</td>\n",
       "      <td>para</td>\n",
       "      <td>A meta-markup language, used to create markup ...</td>\n",
       "    </tr>\n",
       "    <tr>\n",
       "      <th>8</th>\n",
       "      <td>-</td>\n",
       "      <td>-</td>\n",
       "      <td>-</td>\n",
       "      <td>-</td>\n",
       "      <td>GlossDef</td>\n",
       "      <td>GlossSeeAlso</td>\n",
       "      <td>GML</td>\n",
       "    </tr>\n",
       "    <tr>\n",
       "      <th>9</th>\n",
       "      <td>-</td>\n",
       "      <td>-</td>\n",
       "      <td>-</td>\n",
       "      <td>-</td>\n",
       "      <td>GlossDef</td>\n",
       "      <td>GlossSeeAlso</td>\n",
       "      <td>XML</td>\n",
       "    </tr>\n",
       "    <tr>\n",
       "      <th>10</th>\n",
       "      <td>-</td>\n",
       "      <td>-</td>\n",
       "      <td>-</td>\n",
       "      <td>-</td>\n",
       "      <td>GlossSee</td>\n",
       "      <td>markup</td>\n",
       "      <td>-</td>\n",
       "    </tr>\n",
       "  </tbody>\n",
       "</table>\n",
       "</div>"
      ],
      "text/plain": [
       "         key    value1            value2      value3     value4  \\\n",
       "0   glossary     title  example glossary           -          -   \n",
       "1          -  GlossDiv             title           S          -   \n",
       "2          -  GlossDiv         GlossList  GlossEntry         ID   \n",
       "3          -         -                 -           -     SortAs   \n",
       "4          -         -                 -           -  GlossTerm   \n",
       "5          -         -                 -           -    Acronym   \n",
       "6          -         -                 -           -     Abbrev   \n",
       "7          -         -                 -           -   GlossDef   \n",
       "8          -         -                 -           -   GlossDef   \n",
       "9          -         -                 -           -   GlossDef   \n",
       "10         -         -                 -           -   GlossSee   \n",
       "\n",
       "                                  value5  \\\n",
       "0                                      -   \n",
       "1                                      -   \n",
       "2                                   SGML   \n",
       "3                                   SGML   \n",
       "4   Standard Generalized Markup Language   \n",
       "5                                   SGML   \n",
       "6                          ISO 8879:1986   \n",
       "7                                   para   \n",
       "8                           GlossSeeAlso   \n",
       "9                           GlossSeeAlso   \n",
       "10                                markup   \n",
       "\n",
       "                                               value6  \n",
       "0                                                   -  \n",
       "1                                                   -  \n",
       "2                                                   -  \n",
       "3                                                   -  \n",
       "4                                                   -  \n",
       "5                                                   -  \n",
       "6                                                   -  \n",
       "7   A meta-markup language, used to create markup ...  \n",
       "8                                                 GML  \n",
       "9                                                 XML  \n",
       "10                                                  -  "
      ]
     },
     "execution_count": 14,
     "metadata": {},
     "output_type": "execute_result"
    }
   ],
   "source": [
    "import pandas as pd\n",
    "import numpy as np\n",
    "array = np.full((8, 4), \"-\")\n",
    "list1 = array.tolist()\n",
    "list1\n",
    "df14 = pd.DataFrame(list1, columns = ['key', 'value1','value2','value3'])\n",
    "df14\n",
    "df15 = pd.concat([df13, df14], axis=0, ignore_index=True)\n",
    "df15[\"value4\"] = value4\n",
    "df15[\"value5\"] = value5\n",
    "df15[\"value6\"] = [\"-\", \"-\", \"-\", \"-\", \"-\", \"-\", \"-\", \"A meta-markup language, used to create markup languages such as DocBook.\", \"GML\", \"XML\", \"-\"]\n",
    "json_df = df15\n",
    "json_df"
   ]
  },
  {
   "cell_type": "code",
   "execution_count": 271,
   "id": "c6ba8787-bcdc-4692-b545-d589f04ca4a3",
   "metadata": {},
   "outputs": [
    {
     "data": {
      "text/html": [
       "<div>\n",
       "<style scoped>\n",
       "    .dataframe tbody tr th:only-of-type {\n",
       "        vertical-align: middle;\n",
       "    }\n",
       "\n",
       "    .dataframe tbody tr th {\n",
       "        vertical-align: top;\n",
       "    }\n",
       "\n",
       "    .dataframe thead th {\n",
       "        text-align: right;\n",
       "    }\n",
       "</style>\n",
       "<table border=\"1\" class=\"dataframe\">\n",
       "  <thead>\n",
       "    <tr style=\"text-align: right;\">\n",
       "      <th></th>\n",
       "      <th>key</th>\n",
       "      <th>value1</th>\n",
       "      <th>value2</th>\n",
       "      <th>value3</th>\n",
       "      <th>value4</th>\n",
       "      <th>value5</th>\n",
       "      <th>value6</th>\n",
       "    </tr>\n",
       "  </thead>\n",
       "  <tbody>\n",
       "    <tr>\n",
       "      <th>0</th>\n",
       "      <td>glossary</td>\n",
       "      <td>title</td>\n",
       "      <td>example glossary</td>\n",
       "      <td>-</td>\n",
       "      <td>-</td>\n",
       "      <td>-</td>\n",
       "      <td>-</td>\n",
       "    </tr>\n",
       "    <tr>\n",
       "      <th>1</th>\n",
       "      <td>-</td>\n",
       "      <td>GlossDiv</td>\n",
       "      <td>title</td>\n",
       "      <td>S</td>\n",
       "      <td>-</td>\n",
       "      <td>-</td>\n",
       "      <td>-</td>\n",
       "    </tr>\n",
       "    <tr>\n",
       "      <th>2</th>\n",
       "      <td>-</td>\n",
       "      <td>GlossDiv</td>\n",
       "      <td>GlossList</td>\n",
       "      <td>GlossEntry</td>\n",
       "      <td>ID</td>\n",
       "      <td>SGML</td>\n",
       "      <td>-</td>\n",
       "    </tr>\n",
       "    <tr>\n",
       "      <th>3</th>\n",
       "      <td>-</td>\n",
       "      <td>-</td>\n",
       "      <td>-</td>\n",
       "      <td>-</td>\n",
       "      <td>SortAs</td>\n",
       "      <td>SGML</td>\n",
       "      <td>-</td>\n",
       "    </tr>\n",
       "    <tr>\n",
       "      <th>4</th>\n",
       "      <td>-</td>\n",
       "      <td>-</td>\n",
       "      <td>-</td>\n",
       "      <td>-</td>\n",
       "      <td>GlossTerm</td>\n",
       "      <td>Standard Generalized Markup Language</td>\n",
       "      <td>-</td>\n",
       "    </tr>\n",
       "    <tr>\n",
       "      <th>5</th>\n",
       "      <td>-</td>\n",
       "      <td>-</td>\n",
       "      <td>-</td>\n",
       "      <td>-</td>\n",
       "      <td>Acronym</td>\n",
       "      <td>SGML</td>\n",
       "      <td>-</td>\n",
       "    </tr>\n",
       "    <tr>\n",
       "      <th>6</th>\n",
       "      <td>-</td>\n",
       "      <td>-</td>\n",
       "      <td>-</td>\n",
       "      <td>-</td>\n",
       "      <td>Abbrev</td>\n",
       "      <td>ISO 8879:1986</td>\n",
       "      <td>-</td>\n",
       "    </tr>\n",
       "    <tr>\n",
       "      <th>7</th>\n",
       "      <td>-</td>\n",
       "      <td>-</td>\n",
       "      <td>-</td>\n",
       "      <td>-</td>\n",
       "      <td>GlossDef</td>\n",
       "      <td>para</td>\n",
       "      <td>A meta-markup language, used to create markup ...</td>\n",
       "    </tr>\n",
       "    <tr>\n",
       "      <th>8</th>\n",
       "      <td>-</td>\n",
       "      <td>-</td>\n",
       "      <td>-</td>\n",
       "      <td>-</td>\n",
       "      <td>GlossDef</td>\n",
       "      <td>GlossSeeAlso</td>\n",
       "      <td>GML</td>\n",
       "    </tr>\n",
       "    <tr>\n",
       "      <th>9</th>\n",
       "      <td>-</td>\n",
       "      <td>-</td>\n",
       "      <td>-</td>\n",
       "      <td>-</td>\n",
       "      <td>GlossDef</td>\n",
       "      <td>GlossSeeAlso</td>\n",
       "      <td>XML</td>\n",
       "    </tr>\n",
       "    <tr>\n",
       "      <th>10</th>\n",
       "      <td>-</td>\n",
       "      <td>-</td>\n",
       "      <td>-</td>\n",
       "      <td>-</td>\n",
       "      <td>GlossSee</td>\n",
       "      <td>markup</td>\n",
       "      <td>-</td>\n",
       "    </tr>\n",
       "  </tbody>\n",
       "</table>\n",
       "</div>"
      ],
      "text/plain": [
       "         key    value1            value2      value3     value4  \\\n",
       "0   glossary     title  example glossary           -          -   \n",
       "1          -  GlossDiv             title           S          -   \n",
       "2          -  GlossDiv         GlossList  GlossEntry         ID   \n",
       "3          -         -                 -           -     SortAs   \n",
       "4          -         -                 -           -  GlossTerm   \n",
       "5          -         -                 -           -    Acronym   \n",
       "6          -         -                 -           -     Abbrev   \n",
       "7          -         -                 -           -   GlossDef   \n",
       "8          -         -                 -           -   GlossDef   \n",
       "9          -         -                 -           -   GlossDef   \n",
       "10         -         -                 -           -   GlossSee   \n",
       "\n",
       "                                  value5  \\\n",
       "0                                      -   \n",
       "1                                      -   \n",
       "2                                   SGML   \n",
       "3                                   SGML   \n",
       "4   Standard Generalized Markup Language   \n",
       "5                                   SGML   \n",
       "6                          ISO 8879:1986   \n",
       "7                                   para   \n",
       "8                           GlossSeeAlso   \n",
       "9                           GlossSeeAlso   \n",
       "10                                markup   \n",
       "\n",
       "                                               value6  \n",
       "0                                                   -  \n",
       "1                                                   -  \n",
       "2                                                   -  \n",
       "3                                                   -  \n",
       "4                                                   -  \n",
       "5                                                   -  \n",
       "6                                                   -  \n",
       "7   A meta-markup language, used to create markup ...  \n",
       "8                                                 GML  \n",
       "9                                                 XML  \n",
       "10                                                  -  "
      ]
     },
     "execution_count": 271,
     "metadata": {},
     "output_type": "execute_result"
    }
   ],
   "source": [
    "json_df"
   ]
  },
  {
   "cell_type": "code",
   "execution_count": 28,
   "id": "b4ddf735-e225-4678-847b-1832df0cf848",
   "metadata": {},
   "outputs": [
    {
     "data": {
      "text/html": [
       "<style type=\"text/css\">\n",
       "#T_85fcf_row0_col0, #T_85fcf_row0_col1, #T_85fcf_row1_col1, #T_85fcf_row1_col2, #T_85fcf_row2_col1, #T_85fcf_row2_col2, #T_85fcf_row2_col3, #T_85fcf_row2_col4, #T_85fcf_row3_col4, #T_85fcf_row4_col4, #T_85fcf_row5_col4, #T_85fcf_row6_col4, #T_85fcf_row7_col4, #T_85fcf_row7_col5, #T_85fcf_row8_col4, #T_85fcf_row8_col5, #T_85fcf_row9_col4, #T_85fcf_row9_col5, #T_85fcf_row10_col4 {\n",
       "  background-color: lightyellow;\n",
       "}\n",
       "</style>\n",
       "<table id=\"T_85fcf\">\n",
       "  <thead>\n",
       "    <tr>\n",
       "      <th class=\"blank level0\" >&nbsp;</th>\n",
       "      <th id=\"T_85fcf_level0_col0\" class=\"col_heading level0 col0\" >key</th>\n",
       "      <th id=\"T_85fcf_level0_col1\" class=\"col_heading level0 col1\" >value1</th>\n",
       "      <th id=\"T_85fcf_level0_col2\" class=\"col_heading level0 col2\" >value2</th>\n",
       "      <th id=\"T_85fcf_level0_col3\" class=\"col_heading level0 col3\" >value3</th>\n",
       "      <th id=\"T_85fcf_level0_col4\" class=\"col_heading level0 col4\" >value4</th>\n",
       "      <th id=\"T_85fcf_level0_col5\" class=\"col_heading level0 col5\" >value5</th>\n",
       "      <th id=\"T_85fcf_level0_col6\" class=\"col_heading level0 col6\" >value6</th>\n",
       "    </tr>\n",
       "  </thead>\n",
       "  <tbody>\n",
       "    <tr>\n",
       "      <th id=\"T_85fcf_level0_row0\" class=\"row_heading level0 row0\" >0</th>\n",
       "      <td id=\"T_85fcf_row0_col0\" class=\"data row0 col0\" >glossary</td>\n",
       "      <td id=\"T_85fcf_row0_col1\" class=\"data row0 col1\" >title</td>\n",
       "      <td id=\"T_85fcf_row0_col2\" class=\"data row0 col2\" >example glossary</td>\n",
       "      <td id=\"T_85fcf_row0_col3\" class=\"data row0 col3\" >-</td>\n",
       "      <td id=\"T_85fcf_row0_col4\" class=\"data row0 col4\" >-</td>\n",
       "      <td id=\"T_85fcf_row0_col5\" class=\"data row0 col5\" >-</td>\n",
       "      <td id=\"T_85fcf_row0_col6\" class=\"data row0 col6\" >-</td>\n",
       "    </tr>\n",
       "    <tr>\n",
       "      <th id=\"T_85fcf_level0_row1\" class=\"row_heading level0 row1\" >1</th>\n",
       "      <td id=\"T_85fcf_row1_col0\" class=\"data row1 col0\" >-</td>\n",
       "      <td id=\"T_85fcf_row1_col1\" class=\"data row1 col1\" >GlossDiv</td>\n",
       "      <td id=\"T_85fcf_row1_col2\" class=\"data row1 col2\" >title</td>\n",
       "      <td id=\"T_85fcf_row1_col3\" class=\"data row1 col3\" >S</td>\n",
       "      <td id=\"T_85fcf_row1_col4\" class=\"data row1 col4\" >-</td>\n",
       "      <td id=\"T_85fcf_row1_col5\" class=\"data row1 col5\" >-</td>\n",
       "      <td id=\"T_85fcf_row1_col6\" class=\"data row1 col6\" >-</td>\n",
       "    </tr>\n",
       "    <tr>\n",
       "      <th id=\"T_85fcf_level0_row2\" class=\"row_heading level0 row2\" >2</th>\n",
       "      <td id=\"T_85fcf_row2_col0\" class=\"data row2 col0\" >-</td>\n",
       "      <td id=\"T_85fcf_row2_col1\" class=\"data row2 col1\" >GlossDiv</td>\n",
       "      <td id=\"T_85fcf_row2_col2\" class=\"data row2 col2\" >GlossList</td>\n",
       "      <td id=\"T_85fcf_row2_col3\" class=\"data row2 col3\" >GlossEntry</td>\n",
       "      <td id=\"T_85fcf_row2_col4\" class=\"data row2 col4\" >ID</td>\n",
       "      <td id=\"T_85fcf_row2_col5\" class=\"data row2 col5\" >SGML</td>\n",
       "      <td id=\"T_85fcf_row2_col6\" class=\"data row2 col6\" >-</td>\n",
       "    </tr>\n",
       "    <tr>\n",
       "      <th id=\"T_85fcf_level0_row3\" class=\"row_heading level0 row3\" >3</th>\n",
       "      <td id=\"T_85fcf_row3_col0\" class=\"data row3 col0\" >-</td>\n",
       "      <td id=\"T_85fcf_row3_col1\" class=\"data row3 col1\" >-</td>\n",
       "      <td id=\"T_85fcf_row3_col2\" class=\"data row3 col2\" >-</td>\n",
       "      <td id=\"T_85fcf_row3_col3\" class=\"data row3 col3\" >-</td>\n",
       "      <td id=\"T_85fcf_row3_col4\" class=\"data row3 col4\" >SortAs</td>\n",
       "      <td id=\"T_85fcf_row3_col5\" class=\"data row3 col5\" >SGML</td>\n",
       "      <td id=\"T_85fcf_row3_col6\" class=\"data row3 col6\" >-</td>\n",
       "    </tr>\n",
       "    <tr>\n",
       "      <th id=\"T_85fcf_level0_row4\" class=\"row_heading level0 row4\" >4</th>\n",
       "      <td id=\"T_85fcf_row4_col0\" class=\"data row4 col0\" >-</td>\n",
       "      <td id=\"T_85fcf_row4_col1\" class=\"data row4 col1\" >-</td>\n",
       "      <td id=\"T_85fcf_row4_col2\" class=\"data row4 col2\" >-</td>\n",
       "      <td id=\"T_85fcf_row4_col3\" class=\"data row4 col3\" >-</td>\n",
       "      <td id=\"T_85fcf_row4_col4\" class=\"data row4 col4\" >GlossTerm</td>\n",
       "      <td id=\"T_85fcf_row4_col5\" class=\"data row4 col5\" >Standard Generalized Markup Language</td>\n",
       "      <td id=\"T_85fcf_row4_col6\" class=\"data row4 col6\" >-</td>\n",
       "    </tr>\n",
       "    <tr>\n",
       "      <th id=\"T_85fcf_level0_row5\" class=\"row_heading level0 row5\" >5</th>\n",
       "      <td id=\"T_85fcf_row5_col0\" class=\"data row5 col0\" >-</td>\n",
       "      <td id=\"T_85fcf_row5_col1\" class=\"data row5 col1\" >-</td>\n",
       "      <td id=\"T_85fcf_row5_col2\" class=\"data row5 col2\" >-</td>\n",
       "      <td id=\"T_85fcf_row5_col3\" class=\"data row5 col3\" >-</td>\n",
       "      <td id=\"T_85fcf_row5_col4\" class=\"data row5 col4\" >Acronym</td>\n",
       "      <td id=\"T_85fcf_row5_col5\" class=\"data row5 col5\" >SGML</td>\n",
       "      <td id=\"T_85fcf_row5_col6\" class=\"data row5 col6\" >-</td>\n",
       "    </tr>\n",
       "    <tr>\n",
       "      <th id=\"T_85fcf_level0_row6\" class=\"row_heading level0 row6\" >6</th>\n",
       "      <td id=\"T_85fcf_row6_col0\" class=\"data row6 col0\" >-</td>\n",
       "      <td id=\"T_85fcf_row6_col1\" class=\"data row6 col1\" >-</td>\n",
       "      <td id=\"T_85fcf_row6_col2\" class=\"data row6 col2\" >-</td>\n",
       "      <td id=\"T_85fcf_row6_col3\" class=\"data row6 col3\" >-</td>\n",
       "      <td id=\"T_85fcf_row6_col4\" class=\"data row6 col4\" >Abbrev</td>\n",
       "      <td id=\"T_85fcf_row6_col5\" class=\"data row6 col5\" >ISO 8879:1986</td>\n",
       "      <td id=\"T_85fcf_row6_col6\" class=\"data row6 col6\" >-</td>\n",
       "    </tr>\n",
       "    <tr>\n",
       "      <th id=\"T_85fcf_level0_row7\" class=\"row_heading level0 row7\" >7</th>\n",
       "      <td id=\"T_85fcf_row7_col0\" class=\"data row7 col0\" >-</td>\n",
       "      <td id=\"T_85fcf_row7_col1\" class=\"data row7 col1\" >-</td>\n",
       "      <td id=\"T_85fcf_row7_col2\" class=\"data row7 col2\" >-</td>\n",
       "      <td id=\"T_85fcf_row7_col3\" class=\"data row7 col3\" >-</td>\n",
       "      <td id=\"T_85fcf_row7_col4\" class=\"data row7 col4\" >GlossDef</td>\n",
       "      <td id=\"T_85fcf_row7_col5\" class=\"data row7 col5\" >para</td>\n",
       "      <td id=\"T_85fcf_row7_col6\" class=\"data row7 col6\" >A meta-markup language, used to create markup languages such as DocBook.</td>\n",
       "    </tr>\n",
       "    <tr>\n",
       "      <th id=\"T_85fcf_level0_row8\" class=\"row_heading level0 row8\" >8</th>\n",
       "      <td id=\"T_85fcf_row8_col0\" class=\"data row8 col0\" >-</td>\n",
       "      <td id=\"T_85fcf_row8_col1\" class=\"data row8 col1\" >-</td>\n",
       "      <td id=\"T_85fcf_row8_col2\" class=\"data row8 col2\" >-</td>\n",
       "      <td id=\"T_85fcf_row8_col3\" class=\"data row8 col3\" >-</td>\n",
       "      <td id=\"T_85fcf_row8_col4\" class=\"data row8 col4\" >GlossDef</td>\n",
       "      <td id=\"T_85fcf_row8_col5\" class=\"data row8 col5\" >GlossSeeAlso</td>\n",
       "      <td id=\"T_85fcf_row8_col6\" class=\"data row8 col6\" >GML</td>\n",
       "    </tr>\n",
       "    <tr>\n",
       "      <th id=\"T_85fcf_level0_row9\" class=\"row_heading level0 row9\" >9</th>\n",
       "      <td id=\"T_85fcf_row9_col0\" class=\"data row9 col0\" >-</td>\n",
       "      <td id=\"T_85fcf_row9_col1\" class=\"data row9 col1\" >-</td>\n",
       "      <td id=\"T_85fcf_row9_col2\" class=\"data row9 col2\" >-</td>\n",
       "      <td id=\"T_85fcf_row9_col3\" class=\"data row9 col3\" >-</td>\n",
       "      <td id=\"T_85fcf_row9_col4\" class=\"data row9 col4\" >GlossDef</td>\n",
       "      <td id=\"T_85fcf_row9_col5\" class=\"data row9 col5\" >GlossSeeAlso</td>\n",
       "      <td id=\"T_85fcf_row9_col6\" class=\"data row9 col6\" >XML</td>\n",
       "    </tr>\n",
       "    <tr>\n",
       "      <th id=\"T_85fcf_level0_row10\" class=\"row_heading level0 row10\" >10</th>\n",
       "      <td id=\"T_85fcf_row10_col0\" class=\"data row10 col0\" >-</td>\n",
       "      <td id=\"T_85fcf_row10_col1\" class=\"data row10 col1\" >-</td>\n",
       "      <td id=\"T_85fcf_row10_col2\" class=\"data row10 col2\" >-</td>\n",
       "      <td id=\"T_85fcf_row10_col3\" class=\"data row10 col3\" >-</td>\n",
       "      <td id=\"T_85fcf_row10_col4\" class=\"data row10 col4\" >GlossSee</td>\n",
       "      <td id=\"T_85fcf_row10_col5\" class=\"data row10 col5\" >markup</td>\n",
       "      <td id=\"T_85fcf_row10_col6\" class=\"data row10 col6\" >-</td>\n",
       "    </tr>\n",
       "  </tbody>\n",
       "</table>\n"
      ],
      "text/plain": [
       "<pandas.io.formats.style.Styler at 0x26f1487c6b0>"
      ]
     },
     "execution_count": 28,
     "metadata": {},
     "output_type": "execute_result"
    }
   ],
   "source": [
    "def style_specific_cells(x):\n",
    "    color = 'background-color: lightyellow'\n",
    "    df1 = pd.DataFrame('', index=x.index, columns=x.columns)\n",
    "    # df1.iloc[2, 8] = color\n",
    "    list2 = [\"glossary\", \"title\", \"GlossDiv\", \"GlossList\", \"GlossEntry\", \"ID\", \\\n",
    "             \"SortAs\", \"GlossTerm\", \"Acronym\", \"Abbrev\", \"GlossDef\", \"GlossSee\", \"para\", \"GlossSeeAlso\"]\n",
    "    for col in x.columns:\n",
    "        for idx in x.index:\n",
    "            if x.at[idx, col] in list2:\n",
    "                df1.at[idx, col] = color\n",
    "    return df1\n",
    "\n",
    "styled_df = json_df.style.apply(style_specific_cells, axis=None)\n",
    "styled_df"
   ]
  },
  {
   "cell_type": "code",
   "execution_count": 31,
   "id": "33189827-dbd9-4ced-a1cc-593c94d5a89f",
   "metadata": {},
   "outputs": [],
   "source": [
    "styled_df.to_excel(\"parsedjson.xlsx\", index = False)"
   ]
  },
  {
   "cell_type": "code",
   "execution_count": 30,
   "id": "69e6e78b-b26a-4834-95fb-91e4027ab039",
   "metadata": {},
   "outputs": [
    {
     "name": "stdout",
     "output_type": "stream",
     "text": [
      "Collecting openpyxl\n",
      "  Downloading openpyxl-3.1.5-py2.py3-none-any.whl.metadata (2.5 kB)\n",
      "Collecting et-xmlfile (from openpyxl)\n",
      "  Downloading et_xmlfile-1.1.0-py3-none-any.whl.metadata (1.8 kB)\n",
      "Downloading openpyxl-3.1.5-py2.py3-none-any.whl (250 kB)\n",
      "Downloading et_xmlfile-1.1.0-py3-none-any.whl (4.7 kB)\n",
      "Installing collected packages: et-xmlfile, openpyxl\n",
      "Successfully installed et-xmlfile-1.1.0 openpyxl-3.1.5\n",
      "Note: you may need to restart the kernel to use updated packages.\n"
     ]
    }
   ],
   "source": [
    "pip install openpyxl"
   ]
  },
  {
   "cell_type": "code",
   "execution_count": 200,
   "id": "f196f5ba-b0a4-4e4b-8595-079d9651f826",
   "metadata": {},
   "outputs": [
    {
     "data": {
      "text/html": [
       "<div>\n",
       "<style scoped>\n",
       "    .dataframe tbody tr th:only-of-type {\n",
       "        vertical-align: middle;\n",
       "    }\n",
       "\n",
       "    .dataframe tbody tr th {\n",
       "        vertical-align: top;\n",
       "    }\n",
       "\n",
       "    .dataframe thead th {\n",
       "        text-align: right;\n",
       "    }\n",
       "</style>\n",
       "<table border=\"1\" class=\"dataframe\">\n",
       "  <thead>\n",
       "    <tr style=\"text-align: right;\">\n",
       "      <th></th>\n",
       "      <th>key</th>\n",
       "      <th>value</th>\n",
       "    </tr>\n",
       "  </thead>\n",
       "  <tbody>\n",
       "    <tr>\n",
       "      <th>0</th>\n",
       "      <td>ID</td>\n",
       "      <td>SGML</td>\n",
       "    </tr>\n",
       "    <tr>\n",
       "      <th>1</th>\n",
       "      <td>SortAs</td>\n",
       "      <td>SGML</td>\n",
       "    </tr>\n",
       "    <tr>\n",
       "      <th>2</th>\n",
       "      <td>GlossTerm</td>\n",
       "      <td>Standard Generalized Markup Language</td>\n",
       "    </tr>\n",
       "    <tr>\n",
       "      <th>3</th>\n",
       "      <td>Acronym</td>\n",
       "      <td>SGML</td>\n",
       "    </tr>\n",
       "    <tr>\n",
       "      <th>4</th>\n",
       "      <td>Abbrev</td>\n",
       "      <td>ISO 8879:1986</td>\n",
       "    </tr>\n",
       "    <tr>\n",
       "      <th>5</th>\n",
       "      <td>GlossDef</td>\n",
       "      <td>para</td>\n",
       "    </tr>\n",
       "    <tr>\n",
       "      <th>5</th>\n",
       "      <td>GlossDef</td>\n",
       "      <td>GlossSeeAlso</td>\n",
       "    </tr>\n",
       "    <tr>\n",
       "      <th>6</th>\n",
       "      <td>GlossSee</td>\n",
       "      <td>markup</td>\n",
       "    </tr>\n",
       "  </tbody>\n",
       "</table>\n",
       "</div>"
      ],
      "text/plain": [
       "         key                                 value\n",
       "0         ID                                  SGML\n",
       "1     SortAs                                  SGML\n",
       "2  GlossTerm  Standard Generalized Markup Language\n",
       "3    Acronym                                  SGML\n",
       "4     Abbrev                         ISO 8879:1986\n",
       "5   GlossDef                                  para\n",
       "5   GlossDef                          GlossSeeAlso\n",
       "6   GlossSee                                markup"
      ]
     },
     "execution_count": 200,
     "metadata": {},
     "output_type": "execute_result"
    }
   ],
   "source": [
    "df1"
   ]
  },
  {
   "cell_type": "code",
   "execution_count": 28,
   "id": "a6d83ed3-f3d0-4b1e-9618-2e2eb4df8dea",
   "metadata": {},
   "outputs": [
    {
     "name": "stdout",
     "output_type": "stream",
     "text": [
      "Collecting jinja2Note: you may need to restart the kernel to use updated packages.\n",
      "\n",
      "  Downloading jinja2-3.1.4-py3-none-any.whl.metadata (2.6 kB)\n",
      "Collecting MarkupSafe>=2.0 (from jinja2)\n",
      "  Using cached MarkupSafe-2.1.5-cp312-cp312-win_amd64.whl.metadata (3.1 kB)\n",
      "Downloading jinja2-3.1.4-py3-none-any.whl (133 kB)\n",
      "Using cached MarkupSafe-2.1.5-cp312-cp312-win_amd64.whl (17 kB)\n",
      "Installing collected packages: MarkupSafe, jinja2\n",
      "Successfully installed MarkupSafe-2.1.5 jinja2-3.1.4\n"
     ]
    }
   ],
   "source": [
    "pip install jinja2"
   ]
  },
  {
   "cell_type": "code",
   "execution_count": 81,
   "id": "285d8d49-5ef3-446d-b92b-bc120a209f08",
   "metadata": {},
   "outputs": [
    {
     "data": {
      "text/html": [
       "<div>\n",
       "<style scoped>\n",
       "    .dataframe tbody tr th:only-of-type {\n",
       "        vertical-align: middle;\n",
       "    }\n",
       "\n",
       "    .dataframe tbody tr th {\n",
       "        vertical-align: top;\n",
       "    }\n",
       "\n",
       "    .dataframe thead th {\n",
       "        text-align: right;\n",
       "    }\n",
       "</style>\n",
       "<table border=\"1\" class=\"dataframe\">\n",
       "  <thead>\n",
       "    <tr style=\"text-align: right;\">\n",
       "      <th></th>\n",
       "      <th>title</th>\n",
       "      <th>GlossList</th>\n",
       "    </tr>\n",
       "  </thead>\n",
       "  <tbody>\n",
       "    <tr>\n",
       "      <th>GlossEntry</th>\n",
       "      <td>S</td>\n",
       "      <td>{'ID': 'SGML', 'SortAs': 'SGML', 'GlossTerm': ...</td>\n",
       "    </tr>\n",
       "  </tbody>\n",
       "</table>\n",
       "</div>"
      ],
      "text/plain": [
       "           title                                          GlossList\n",
       "GlossEntry     S  {'ID': 'SGML', 'SortAs': 'SGML', 'GlossTerm': ..."
      ]
     },
     "execution_count": 81,
     "metadata": {},
     "output_type": "execute_result"
    }
   ],
   "source": [
    "df_1"
   ]
  },
  {
   "cell_type": "code",
   "execution_count": 118,
   "id": "8d0e947b-5cfa-433f-9687-e6d0be3a7a87",
   "metadata": {},
   "outputs": [
    {
     "data": {
      "text/plain": [
       "dict_keys(['ID', 'SortAs', 'GlossTerm', 'Acronym', 'Abbrev', 'GlossDef', 'GlossSee'])"
      ]
     },
     "execution_count": 118,
     "metadata": {},
     "output_type": "execute_result"
    }
   ],
   "source": [
    "df_1.iloc[0, 1].keys()"
   ]
  },
  {
   "cell_type": "code",
   "execution_count": 110,
   "id": "e2f51356-feda-4f43-9dc0-84b06827b1e1",
   "metadata": {},
   "outputs": [
    {
     "data": {
      "text/plain": [
       "dict_items([('ID', 'SGML'), ('SortAs', 'SGML'), ('GlossTerm', 'Standard Generalized Markup Language'), ('Acronym', 'SGML'), ('Abbrev', 'ISO 8879:1986'), ('GlossDef', {'para': 'A meta-markup language, used to create markup languages such as DocBook.', 'GlossSeeAlso': ['GML', 'XML']}), ('GlossSee', 'markup')])"
      ]
     },
     "execution_count": 110,
     "metadata": {},
     "output_type": "execute_result"
    }
   ],
   "source": [
    "df_1.iloc[0, 1].items()"
   ]
  },
  {
   "cell_type": "code",
   "execution_count": 129,
   "id": "81adbaef-fe84-4004-9989-527099827fa1",
   "metadata": {},
   "outputs": [
    {
     "data": {
      "text/plain": [
       "dict_values(['SGML', 'SGML', 'Standard Generalized Markup Language', 'SGML', 'ISO 8879:1986', {'para': 'A meta-markup language, used to create markup languages such as DocBook.', 'GlossSeeAlso': ['GML', 'XML']}, 'markup'])"
      ]
     },
     "execution_count": 129,
     "metadata": {},
     "output_type": "execute_result"
    }
   ],
   "source": [
    "df_1.iloc[0, 1].values()"
   ]
  },
  {
   "cell_type": "code",
   "execution_count": 86,
   "id": "93ab2d38-5c5f-44c3-ab0d-4e1d34d4dfba",
   "metadata": {},
   "outputs": [
    {
     "data": {
      "text/plain": [
       "{'ID': 'SGML',\n",
       " 'SortAs': 'SGML',\n",
       " 'GlossTerm': 'Standard Generalized Markup Language',\n",
       " 'Acronym': 'SGML',\n",
       " 'Abbrev': 'ISO 8879:1986',\n",
       " 'GlossDef': {'para': 'A meta-markup language, used to create markup languages such as DocBook.',\n",
       "  'GlossSeeAlso': ['GML', 'XML']},\n",
       " 'GlossSee': 'markup'}"
      ]
     },
     "execution_count": 86,
     "metadata": {},
     "output_type": "execute_result"
    }
   ],
   "source": [
    "df_1.iloc[0, 1]"
   ]
  },
  {
   "cell_type": "code",
   "execution_count": 155,
   "id": "c4468b10-a33a-4c5e-9993-1a98f2bb1293",
   "metadata": {},
   "outputs": [
    {
     "data": {
      "text/html": [
       "<div>\n",
       "<style scoped>\n",
       "    .dataframe tbody tr th:only-of-type {\n",
       "        vertical-align: middle;\n",
       "    }\n",
       "\n",
       "    .dataframe tbody tr th {\n",
       "        vertical-align: top;\n",
       "    }\n",
       "\n",
       "    .dataframe thead th {\n",
       "        text-align: right;\n",
       "    }\n",
       "</style>\n",
       "<table border=\"1\" class=\"dataframe\">\n",
       "  <thead>\n",
       "    <tr style=\"text-align: right;\">\n",
       "      <th></th>\n",
       "      <th>ID</th>\n",
       "      <th>SortAs</th>\n",
       "      <th>GlossTerm</th>\n",
       "      <th>Acronym</th>\n",
       "      <th>Abbrev</th>\n",
       "      <th>GlossDef</th>\n",
       "      <th>GlossSee</th>\n",
       "    </tr>\n",
       "  </thead>\n",
       "  <tbody>\n",
       "    <tr>\n",
       "      <th>0</th>\n",
       "      <td>SGML</td>\n",
       "      <td>SGML</td>\n",
       "      <td>Standard Generalized Markup Language</td>\n",
       "      <td>SGML</td>\n",
       "      <td>ISO 8879:1986</td>\n",
       "      <td>A meta-markup language, used to create markup ...</td>\n",
       "      <td>markup</td>\n",
       "    </tr>\n",
       "    <tr>\n",
       "      <th>1</th>\n",
       "      <td>SGML</td>\n",
       "      <td>SGML</td>\n",
       "      <td>Standard Generalized Markup Language</td>\n",
       "      <td>SGML</td>\n",
       "      <td>ISO 8879:1986</td>\n",
       "      <td>GML</td>\n",
       "      <td>markup</td>\n",
       "    </tr>\n",
       "    <tr>\n",
       "      <th>2</th>\n",
       "      <td>SGML</td>\n",
       "      <td>SGML</td>\n",
       "      <td>Standard Generalized Markup Language</td>\n",
       "      <td>SGML</td>\n",
       "      <td>ISO 8879:1986</td>\n",
       "      <td>XML</td>\n",
       "      <td>markup</td>\n",
       "    </tr>\n",
       "  </tbody>\n",
       "</table>\n",
       "</div>"
      ],
      "text/plain": [
       "     ID SortAs                             GlossTerm Acronym         Abbrev  \\\n",
       "0  SGML   SGML  Standard Generalized Markup Language    SGML  ISO 8879:1986   \n",
       "1  SGML   SGML  Standard Generalized Markup Language    SGML  ISO 8879:1986   \n",
       "2  SGML   SGML  Standard Generalized Markup Language    SGML  ISO 8879:1986   \n",
       "\n",
       "                                            GlossDef GlossSee  \n",
       "0  A meta-markup language, used to create markup ...   markup  \n",
       "1                                                GML   markup  \n",
       "2                                                XML   markup  "
      ]
     },
     "execution_count": 155,
     "metadata": {},
     "output_type": "execute_result"
    }
   ],
   "source": [
    "n_df = pd.DataFrame(df_1.iloc[0, 1])\n",
    "newdf = n_df.explode('GlossDef', 'GlossSeeAlso')\n",
    "newdf"
   ]
  },
  {
   "cell_type": "code",
   "execution_count": 44,
   "id": "04772b0e-669e-423a-a7b2-161f97f73c5c",
   "metadata": {},
   "outputs": [
    {
     "data": {
      "text/html": [
       "<div>\n",
       "<style scoped>\n",
       "    .dataframe tbody tr th:only-of-type {\n",
       "        vertical-align: middle;\n",
       "    }\n",
       "\n",
       "    .dataframe tbody tr th {\n",
       "        vertical-align: top;\n",
       "    }\n",
       "\n",
       "    .dataframe thead th {\n",
       "        text-align: right;\n",
       "    }\n",
       "</style>\n",
       "<table border=\"1\" class=\"dataframe\">\n",
       "  <thead>\n",
       "    <tr style=\"text-align: right;\">\n",
       "      <th></th>\n",
       "      <th>glossary</th>\n",
       "    </tr>\n",
       "  </thead>\n",
       "  <tbody>\n",
       "    <tr>\n",
       "      <th>title</th>\n",
       "      <td>example glossary</td>\n",
       "    </tr>\n",
       "    <tr>\n",
       "      <th>GlossDiv</th>\n",
       "      <td>{'title': 'S', 'GlossList': {'GlossEntry': {'I...</td>\n",
       "    </tr>\n",
       "  </tbody>\n",
       "</table>\n",
       "</div>"
      ],
      "text/plain": [
       "                                                   glossary\n",
       "title                                      example glossary\n",
       "GlossDiv  {'title': 'S', 'GlossList': {'GlossEntry': {'I..."
      ]
     },
     "execution_count": 44,
     "metadata": {},
     "output_type": "execute_result"
    }
   ],
   "source": [
    "df"
   ]
  },
  {
   "cell_type": "code",
   "execution_count": 61,
   "id": "21184d1a-9766-4adb-aac9-86bf01740ec1",
   "metadata": {},
   "outputs": [
    {
     "data": {
      "text/plain": [
       "dict"
      ]
     },
     "execution_count": 61,
     "metadata": {},
     "output_type": "execute_result"
    }
   ],
   "source": [
    "type(df.iloc[1, 0])"
   ]
  },
  {
   "cell_type": "markdown",
   "id": "ab3f87ac-0220-4397-8816-b0205dc49898",
   "metadata": {},
   "source": [
    "BASIC OF JSON PARSING"
   ]
  },
  {
   "cell_type": "code",
   "execution_count": 54,
   "id": "960fec30-b775-48b9-ae9f-c8830a604650",
   "metadata": {},
   "outputs": [
    {
     "name": "stdout",
     "output_type": "stream",
     "text": [
      "{'glossary': {'title': 'example glossary', 'GlossDiv': {'title': 'S', 'GlossList': {'GlossEntry': {'ID': 'SGML', 'SortAs': 'SGML', 'GlossTerm': 'Standard Generalized Markup Language', 'Acronym': 'SGML', 'Abbrev': 'ISO 8879:1986', 'GlossDef': {'para': 'A meta-markup language, used to create markup languages such as DocBook.', 'GlossSeeAlso': ['GML', 'XML']}, 'GlossSee': 'markup'}}}}}\n"
     ]
    }
   ],
   "source": [
    "# to translate a string containing JSON data(aka JSON string) into a python value; here: _io.TextIOWrapper(aka file object) to dict.\n",
    "f = open(filename)\n",
    "data = json.load(f)\n",
    "print(data)"
   ]
  },
  {
   "cell_type": "code",
   "execution_count": 132,
   "id": "8e6b6d0c-db9c-4af1-8936-e7e5fd11bd8b",
   "metadata": {},
   "outputs": [
    {
     "data": {
      "text/plain": [
       "_io.TextIOWrapper"
      ]
     },
     "execution_count": 132,
     "metadata": {},
     "output_type": "execute_result"
    }
   ],
   "source": [
    "type(f)"
   ]
  },
  {
   "cell_type": "code",
   "execution_count": 134,
   "id": "add9a6f5-92bc-4dce-a5c0-02ed0cb17d61",
   "metadata": {},
   "outputs": [
    {
     "data": {
      "text/plain": [
       "dict"
      ]
     },
     "execution_count": 134,
     "metadata": {},
     "output_type": "execute_result"
    }
   ],
   "source": [
    "type(data)"
   ]
  },
  {
   "cell_type": "code",
   "execution_count": 3,
   "id": "dded95af-2ec9-4de9-adbf-5c6f42c1b2c2",
   "metadata": {},
   "outputs": [
    {
     "name": "stdout",
     "output_type": "stream",
     "text": [
      "{\"name\": \"JAMES RAY\", \"age\": \"28\", \"location\": \"SWD\", \"education\": \"IT\", \"type\": \"BLUE\"}\n"
     ]
    }
   ],
   "source": [
    "# translate a Python value into a string of JSON-formatted data\n",
    "import json\n",
    "dictionary = {\"name\": \"JAMES RAY\", \"age\":\"28\", \"location\":\"SWD\", \"education\":\"IT\", \"type\":\"BLUE\"}\n",
    "str1 = json.dumps(dictionary)\n",
    "print(str1)\n",
    "# type(json_str) : str"
   ]
  },
  {
   "cell_type": "code",
   "execution_count": 147,
   "id": "bd27cc12-d442-4d04-a8d0-6dded2ca6772",
   "metadata": {},
   "outputs": [
    {
     "name": "stdout",
     "output_type": "stream",
     "text": [
      "{'menu': {'id': 'file', 'value': 'File', 'popup': {'menuitem': [{'value': 'New', 'onclick': 'CreateDoc()'}, {'value': 'Open', 'onclick': 'OpenDoc()'}, {'value': 'Save', 'onclick': 'SaveDoc()'}]}}}\n"
     ]
    }
   ],
   "source": [
    "# to translate a JSON-string into python value\n",
    "# putting three quotes signifies a string to json.loads()\n",
    "json_str_str = '''   {\n",
    "    \"menu\": {\n",
    "        \"id\": \"file\",\n",
    "        \"value\": \"File\",\n",
    "        \"popup\": {\n",
    "            \"menuitem\": [\n",
    "                {\n",
    "                    \"value\": \"New\",\n",
    "                    \"onclick\": \"CreateDoc()\"\n",
    "                },\n",
    "                {\n",
    "                    \"value\": \"Open\",\n",
    "                    \"onclick\": \"OpenDoc()\"\n",
    "                },\n",
    "                {\n",
    "                    \"value\": \"Save\",\n",
    "                    \"onclick\": \"SaveDoc()\"\n",
    "                }\n",
    "            ]\n",
    "        }\n",
    "    }\n",
    "} '''\n",
    "data_data = json.loads(json_str_str)\n",
    "print(data_data)"
   ]
  },
  {
   "cell_type": "code",
   "execution_count": 151,
   "id": "925caa4f-bf2a-4f06-b01b-c74cf5af767c",
   "metadata": {},
   "outputs": [
    {
     "name": "stdout",
     "output_type": "stream",
     "text": [
      "{'Hello': 6, 'Hi': 5}\n"
     ]
    },
    {
     "data": {
      "text/plain": [
       "dict"
      ]
     },
     "execution_count": 151,
     "metadata": {},
     "output_type": "execute_result"
    }
   ],
   "source": [
    "# str = '''{\"('Hello',)\": 6, \"('Hi',)\": 5}'''\n",
    "str = '''{\"Hello\": 6, \"Hi\": 5}'''\n",
    "d = json.loads(str)\n",
    "print(d)\n",
    "type(d)"
   ]
  },
  {
   "cell_type": "code",
   "execution_count": null,
   "id": "afa95f90-cda9-4812-8ad7-1029bbed8719",
   "metadata": {},
   "outputs": [],
   "source": [
    "for name in list2:\n",
    "        for n in list3:\n",
    "            for val in x[n]:\n",
    "                if ( name == val):\n",
    "                    val = color\n",
    "    "
   ]
  }
 ],
 "metadata": {
  "kernelspec": {
   "display_name": "data_venv",
   "language": "python",
   "name": "data_venv"
  },
  "language_info": {
   "codemirror_mode": {
    "name": "ipython",
    "version": 3
   },
   "file_extension": ".py",
   "mimetype": "text/x-python",
   "name": "python",
   "nbconvert_exporter": "python",
   "pygments_lexer": "ipython3",
   "version": "3.12.2"
  }
 },
 "nbformat": 4,
 "nbformat_minor": 5
}
