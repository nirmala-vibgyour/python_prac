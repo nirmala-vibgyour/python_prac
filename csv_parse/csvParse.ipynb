{
 "cells": [
  {
   "cell_type": "code",
   "execution_count": 18,
   "id": "7f511ec4-ef10-4c52-9ea9-484672b625e1",
   "metadata": {},
   "outputs": [
    {
     "name": "stdout",
     "output_type": "stream",
     "text": [
      "['TIME_NANOSECONDS_TAI ', 'OMPS_Range_M[1] ', 'OMPS_Range_M[2] ', 'OMPS_Range_M[3] ', 'OMPS_Range_M[4] ', 'OMPS_DopplerSpeed_MpS[1] ', 'OMPS_DopplerSpeed_MpS[2] ', 'OMPS_DopplerSpeed_MpS[3] ', 'OMPS_DopplerSpeed_MpS[4]']\n",
      "TIME_NANOSECONDS_TAI \n"
     ]
    }
   ],
   "source": [
    "import csv\n",
    "\n",
    "# creates a file object\n",
    "file = open(\"ddl_rocket/Flight1_Catered_Dataset-20201013/Data/commercial_lidar.csv\")\n",
    "\n",
    "# creates a reader object\n",
    "reader = csv.reader(file)\n",
    "\n",
    "# print the file using reader object\n",
    "# for line in reader:\n",
    "#    print(line)\n",
    "\n",
    "# print data by storing it as a neseted list\n",
    "data = list(reader)\n",
    "\n",
    "# data at index 0 is header\n",
    "print(data[0])\n",
    "\n",
    "# getting the first element of the header.\n",
    "print(data[0][0])\n",
    "\n",
    "##################################using the writer object##############################\n",
    "\n",
    "# open a new file(file object created) and getting no blank lines in-between\n",
    "f = open(\"sample.csv\", \"w\", newline=\"\")\n",
    "\n",
    "# creating a writer object\n",
    "# adding delimiter::separator and line terminator\n",
    "writer = csv.writer(f, delimiter='\\t', lineterminator='\\n\\n')\n",
    "\n",
    "# writing to the file as list\n",
    "writer.writerow(['spam', 'eggs', 'bacon', 'ham'])\n",
    "writer.writerow(['Hello, world!', 'eggs', 'bacon', 'ham'])\n",
    "writer.writerow([1, 2, 3.141592, 4])\n",
    "\n",
    "# closing the file\n",
    "f.close()"
   ]
  },
  {
   "cell_type": "code",
   "execution_count": null,
   "id": "983ba948-8af1-4a3f-8daf-4edfa0883216",
   "metadata": {},
   "outputs": [],
   "source": []
  }
 ],
 "metadata": {
  "kernelspec": {
   "display_name": "csv_venv",
   "language": "python",
   "name": "csv_venv"
  },
  "language_info": {
   "codemirror_mode": {
    "name": "ipython",
    "version": 3
   },
   "file_extension": ".py",
   "mimetype": "text/x-python",
   "name": "python",
   "nbconvert_exporter": "python",
   "pygments_lexer": "ipython3",
   "version": "3.12.2"
  }
 },
 "nbformat": 4,
 "nbformat_minor": 5
}
