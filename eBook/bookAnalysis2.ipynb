{
 "cells": [
  {
   "cell_type": "code",
   "execution_count": 1,
   "id": "624db771-896b-47b7-a9b3-49f581a91076",
   "metadata": {},
   "outputs": [],
   "source": [
    "with open(\"miracle_in_the_andes.txt\", \"r\", encoding='utf-8') as file:\n",
    "    content = file.read()\n",
    "    #print(content)"
   ]
  },
  {
   "cell_type": "markdown",
   "id": "196841b0-08c2-4427-9188-3d4c42535af2",
   "metadata": {},
   "source": [
    "# The most used word non-articles"
   ]
  },
  {
   "cell_type": "code",
   "execution_count": 2,
   "id": "d3d0eee4-b6b7-4d9d-bb21-517c801cafa6",
   "metadata": {},
   "outputs": [
    {
     "name": "stdout",
     "output_type": "stream",
     "text": [
      "['chapter', 'before', 'it', 'was', 'friday']\n"
     ]
    }
   ],
   "source": [
    "import re\n",
    "pattern = re.compile(\"[a-zA-Z]+\")\n",
    "findings = re.findall(pattern, content.lower())\n",
    "print(findings[:5])"
   ]
  },
  {
   "cell_type": "code",
   "execution_count": 3,
   "id": "aa7e37dd-78cd-426e-a63c-9a64589ad8ee",
   "metadata": {},
   "outputs": [],
   "source": [
    "d = {}\n",
    "for word in findings:\n",
    "    if word in d.keys():\n",
    "        d[word] += 1\n",
    "    else:\n",
    "        d[word] = 1"
   ]
  },
  {
   "cell_type": "code",
   "execution_count": 4,
   "id": "7f8557dc-9e0f-48ca-846e-48cba6774e4d",
   "metadata": {},
   "outputs": [
    {
     "name": "stdout",
     "output_type": "stream",
     "text": [
      "[(5346, 'the'), (2795, 'and'), (2729, 'i'), (2400, 'to'), (2060, 'of')]\n"
     ]
    }
   ],
   "source": [
    "listWordCount = [(value, key) for (key, value) in d.items()]\n",
    "listSorted = sorted(listWordCount, reverse = True)\n",
    "print(listSorted[:5])"
   ]
  },
  {
   "cell_type": "code",
   "execution_count": 9,
   "id": "bd4e87bc-4a26-4947-9859-d57c308c6a70",
   "metadata": {},
   "outputs": [],
   "source": [
    "import nltk\n",
    "#nltk.download(\"stopwords\")\n",
    "\n",
    "from nltk.corpus import stopwords\n",
    "\n",
    "engStopWords = stopwords.words(\"english\")"
   ]
  },
  {
   "cell_type": "code",
   "execution_count": 15,
   "id": "29618a82-d435-4ba2-a02d-3f5e2be2213d",
   "metadata": {},
   "outputs": [],
   "source": [
    "filteredWords = []\n",
    "for count, word in listSorted:\n",
    "    if word not in engStopWords:\n",
    "        filteredWords.append((count, word))"
   ]
  },
  {
   "cell_type": "code",
   "execution_count": 17,
   "id": "7aadea4b-554a-4593-8578-ca8333741097",
   "metadata": {},
   "outputs": [
    {
     "data": {
      "text/plain": [
       "[(575, 'would'),\n",
       " (519, 'us'),\n",
       " (292, 'said'),\n",
       " (284, 'roberto'),\n",
       " (252, 'could'),\n",
       " (249, 'one'),\n",
       " (227, 'snow'),\n",
       " (183, 'mountain'),\n",
       " (182, 'time'),\n",
       " (165, 'like')]"
      ]
     },
     "execution_count": 17,
     "metadata": {},
     "output_type": "execute_result"
    }
   ],
   "source": [
    "filteredWords[:10]"
   ]
  },
  {
   "cell_type": "markdown",
   "id": "dda62df1-391f-4673-ab52-d8ec66295eeb",
   "metadata": {},
   "source": [
    "# Sentiment analysis: What is most positive and the most negative chapter?"
   ]
  },
  {
   "cell_type": "code",
   "execution_count": 24,
   "id": "ac12f954-0eca-496d-85c3-f5a1baa17046",
   "metadata": {},
   "outputs": [],
   "source": [
    "from nltk.sentiment import SentimentIntensityAnalyzer\n",
    "#nltk.download('vader_lexicon')"
   ]
  },
  {
   "cell_type": "code",
   "execution_count": 25,
   "id": "fdaf5228-a099-4e44-9216-afe66908b2ab",
   "metadata": {},
   "outputs": [],
   "source": [
    "analyzer = SentimentIntensityAnalyzer()"
   ]
  },
  {
   "cell_type": "markdown",
   "id": "93575201-7356-46ff-8b87-a408de123ed0",
   "metadata": {},
   "source": [
    "### An example"
   ]
  },
  {
   "cell_type": "code",
   "execution_count": 27,
   "id": "45294bbc-c793-4185-8dc7-013db32b1af6",
   "metadata": {},
   "outputs": [
    {
     "data": {
      "text/plain": [
       "{'neg': 0.0, 'neu': 0.552, 'pos': 0.448, 'compound': 0.8896}"
      ]
     },
     "execution_count": 27,
     "metadata": {},
     "output_type": "execute_result"
    }
   ],
   "source": [
    "scores = analyzer.polarity_scores(\"This place is so serene. I like coming here. It has lots of trees and beautiful flowers.\")\n",
    "scores"
   ]
  },
  {
   "cell_type": "code",
   "execution_count": 28,
   "id": "7a7d2c4f-31e7-4dc4-ab53-ca421764cebb",
   "metadata": {},
   "outputs": [
    {
     "data": {
      "text/plain": [
       "{'neg': 0.116, 'neu': 0.76, 'pos': 0.125, 'compound': 1.0}"
      ]
     },
     "execution_count": 28,
     "metadata": {},
     "output_type": "execute_result"
    }
   ],
   "source": [
    "analyzer.polarity_scores(content)"
   ]
  },
  {
   "cell_type": "markdown",
   "id": "e07a1503-57e7-4cd0-b322-d8860f6a7715",
   "metadata": {},
   "source": [
    "### Sentiment analysis of each chapter"
   ]
  },
  {
   "cell_type": "code",
   "execution_count": 33,
   "id": "6795c5bf-dc70-44b6-bcad-cc56f5796b0b",
   "metadata": {},
   "outputs": [],
   "source": [
    "import re\n",
    "pattern = re.compile(\"Chapter [0-9]+\")\n",
    "chapters = re.split(pattern, content)\n",
    "chapters = chapters[1:]"
   ]
  },
  {
   "cell_type": "code",
   "execution_count": 34,
   "id": "99dda597-5c5e-4df3-beba-279b4fca056a",
   "metadata": {},
   "outputs": [
    {
     "name": "stdout",
     "output_type": "stream",
     "text": [
      "1 {'neg': 0.061, 'neu': 0.779, 'pos': 0.16, 'compound': 1.0}\n",
      "2 {'neg': 0.12, 'neu': 0.726, 'pos': 0.154, 'compound': 0.9991}\n",
      "3 {'neg': 0.145, 'neu': 0.751, 'pos': 0.105, 'compound': -0.9999}\n",
      "4 {'neg': 0.141, 'neu': 0.721, 'pos': 0.138, 'compound': -0.9963}\n",
      "5 {'neg': 0.118, 'neu': 0.742, 'pos': 0.141, 'compound': 0.9997}\n",
      "6 {'neg': 0.124, 'neu': 0.761, 'pos': 0.115, 'compound': -0.9979}\n",
      "7 {'neg': 0.136, 'neu': 0.761, 'pos': 0.103, 'compound': -0.9999}\n",
      "8 {'neg': 0.12, 'neu': 0.786, 'pos': 0.094, 'compound': -0.9998}\n",
      "9 {'neg': 0.097, 'neu': 0.824, 'pos': 0.079, 'compound': -0.9996}\n",
      "10 {'neg': 0.086, 'neu': 0.733, 'pos': 0.181, 'compound': 1.0}\n"
     ]
    }
   ],
   "source": [
    "for num, chapter in enumerate(chapters):\n",
    "    scores = analyzer.polarity_scores(chapter)\n",
    "    print(num + 1, scores)"
   ]
  },
  {
   "cell_type": "code",
   "execution_count": null,
   "id": "0df537ea-191d-4558-a63e-966d344c0e99",
   "metadata": {},
   "outputs": [],
   "source": []
  }
 ],
 "metadata": {
  "kernelspec": {
   "display_name": "Python 3 (ipykernel)",
   "language": "python",
   "name": "python3"
  },
  "language_info": {
   "codemirror_mode": {
    "name": "ipython",
    "version": 3
   },
   "file_extension": ".py",
   "mimetype": "text/x-python",
   "name": "python",
   "nbconvert_exporter": "python",
   "pygments_lexer": "ipython3",
   "version": "3.12.5"
  }
 },
 "nbformat": 4,
 "nbformat_minor": 5
}
