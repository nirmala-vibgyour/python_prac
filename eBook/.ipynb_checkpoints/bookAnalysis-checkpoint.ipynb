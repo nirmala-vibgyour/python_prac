{
 "cells": [
  {
   "cell_type": "code",
   "execution_count": 3,
   "id": "9eaccdbe-90e0-4ff5-946c-6168ec03f207",
   "metadata": {},
   "outputs": [],
   "source": [
    "with open(\"miracle_in_the_andes.txt\", \"r\", encoding='utf-8') as file:\n",
    "    content = file.read()\n",
    "    # print(content)"
   ]
  },
  {
   "cell_type": "code",
   "execution_count": 43,
   "id": "92bfc54a-3472-45f9-be1e-f1ad21fba189",
   "metadata": {
    "scrolled": true
   },
   "outputs": [
    {
     "name": "stdout",
     "output_type": "stream",
     "text": [
      "67\n",
      "0\n"
     ]
    }
   ],
   "source": [
    "import re\n",
    "pattern = re.compile(\"Chapter [0-9]+\")\n",
    "findings = re.findall(pattern, content)\n",
    "len(findings)\n",
    "# sentence that contain word \"love\"\n",
    "# Reminder: no spaces in regex expression\n",
    "pattern1 = re.compile(\"[A-Z]{1}[^.]*[^a-zA-Z]+love[^a-zA-Z]+[^.]*.\")\n",
    "findings1 = re.findall(pattern1, content)\n",
    "print(len(findings1))\n",
    "# for word in findings1:\n",
    "    # print(word)\n",
    "\n",
    "# What are the most common words?\n",
    "pattern2 = re.compile(\"[a-zA-Z]+\")\n",
    "findings2 = re.findall(pattern, content.lower())\n",
    "print(len(findings2))"
   ]
  },
  {
   "cell_type": "code",
   "execution_count": null,
   "id": "949b96b6-8c4e-4225-a218-8ae4e00b66a4",
   "metadata": {},
   "outputs": [],
   "source": [
    "(\"[A-Z]{1}[^.]* [^a-zA-Z]+love[^a-zA-Z]+ [^.]*.\")"
   ]
  }
 ],
 "metadata": {
  "kernelspec": {
   "display_name": "Python 3 (ipykernel)",
   "language": "python",
   "name": "python3"
  },
  "language_info": {
   "codemirror_mode": {
    "name": "ipython",
    "version": 3
   },
   "file_extension": ".py",
   "mimetype": "text/x-python",
   "name": "python",
   "nbconvert_exporter": "python",
   "pygments_lexer": "ipython3",
   "version": "3.12.5"
  }
 },
 "nbformat": 4,
 "nbformat_minor": 5
}
