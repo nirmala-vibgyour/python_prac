{
 "cells": [
  {
   "cell_type": "code",
   "execution_count": 2,
   "id": "9eaccdbe-90e0-4ff5-946c-6168ec03f207",
   "metadata": {},
   "outputs": [],
   "source": [
    "with open(\"miracle_in_the_andes.txt\", \"r\", encoding='utf-8') as file:\n",
    "    content = file.read()"
   ]
  },
  {
   "cell_type": "markdown",
   "id": "512998ff-a5de-4bf6-a919-5a2409b6de7e",
   "metadata": {},
   "source": [
    "# Number of chapters"
   ]
  },
  {
   "cell_type": "code",
   "execution_count": 4,
   "id": "92bfc54a-3472-45f9-be1e-f1ad21fba189",
   "metadata": {
    "scrolled": true
   },
   "outputs": [
    {
     "data": {
      "text/plain": [
       "['Chapter 1',\n",
       " 'Chapter 2',\n",
       " 'Chapter 3',\n",
       " 'Chapter 4',\n",
       " 'Chapter 5',\n",
       " 'Chapter 6',\n",
       " 'Chapter 7',\n",
       " 'Chapter 8',\n",
       " 'Chapter 9',\n",
       " 'Chapter 10']"
      ]
     },
     "execution_count": 4,
     "metadata": {},
     "output_type": "execute_result"
    }
   ],
   "source": [
    "import re\n",
    "pattern = re.compile(\"Chapter [0-9]+\")\n",
    "findings = re.findall(pattern, content)\n",
    "len(findings)\n",
    "findings"
   ]
  },
  {
   "cell_type": "markdown",
   "id": "c7e426b0-7f37-4211-99e6-c17edafce731",
   "metadata": {},
   "source": [
    "# Sentence that contain word \"love\""
   ]
  },
  {
   "cell_type": "code",
   "execution_count": 6,
   "id": "2644af41-4fc7-453d-b3d3-b98d25bac199",
   "metadata": {},
   "outputs": [
    {
     "data": {
      "text/plain": [
       "['As a young man, of course, I could not put these things into words, but I knew, and my teammates knew, that there was something special about the game, and under the guidance of the Christian Brothers we developed a passionate love for the sport that shaped our friendships and our lives.',\n",
       " 'Guido and I grew up together, playing soccer and sharing a love of motorcycles, cars, and auto racing.',\n",
       " 'Under the guidance of the Christian Brothers, both of us grew to love the game of rugby with a consuming passion.',\n",
       " 'That rowdiness came to an abrupt end for Guido in 1969, when he met and fell in love with the beautiful daughter of a Chilean diplomat.',\n",
       " 'I believe he had a great hunger for the love and comforts of a family that was happy and whole.']"
      ]
     },
     "execution_count": 6,
     "metadata": {},
     "output_type": "execute_result"
    }
   ],
   "source": [
    "# Reminder: no spaces in regex expression\n",
    "pattern = re.compile(\"[A-Z]{1}[^.]*[^a-zA-Z]+love[^a-zA-Z]+[^.]*.\")\n",
    "findings = re.findall(pattern, content)\n",
    "len(findings)\n",
    "findings[:5]"
   ]
  },
  {
   "cell_type": "markdown",
   "id": "7d90e3b4-7479-49a8-b3e4-c581c7ae2434",
   "metadata": {},
   "source": [
    "# What are the most common words?"
   ]
  },
  {
   "cell_type": "code",
   "execution_count": 8,
   "id": "61043857-dedc-4676-980a-08937280e767",
   "metadata": {},
   "outputs": [
    {
     "data": {
      "text/plain": [
       "['chapter', 'before', 'it', 'was', 'friday']"
      ]
     },
     "execution_count": 8,
     "metadata": {},
     "output_type": "execute_result"
    }
   ],
   "source": [
    "pattern = re.compile(\"[a-zA-Z]+\")\n",
    "findings = re.findall(pattern, content.lower())\n",
    "len(findings)\n",
    "\n",
    "d = {}\n",
    "for word in findings:\n",
    "    if word in d.keys():\n",
    "        d[word] += 1\n",
    "    else:\n",
    "        d[word] = 1\n",
    "\n",
    "listWordCount = [(value, key) for (key, value) in d.items()]\n",
    "sorted(listWordCount, reverse = True)\n",
    "findings[:5]"
   ]
  },
  {
   "cell_type": "markdown",
   "id": "d4bb6edb-1c11-4b18-9bec-97d263ce4790",
   "metadata": {},
   "source": [
    "# Paragraph containing \"love\" word"
   ]
  },
  {
   "cell_type": "code",
   "execution_count": 9,
   "id": "234cac60-993c-447f-b79f-e178fd5a1510",
   "metadata": {},
   "outputs": [
    {
     "data": {
      "text/plain": [
       "['To me, this is the essence of rugby. No other sport gives you such an intense sense of selflessness and unified purpose. I believe this is why rugby players all over the world feel such a passion for the game and such a feeling of brotherhood. As a young man, of course, I could not put these things into words, but I knew, and my teammates knew, that there was something special about the game, and under the guidance of the Christian Brothers we developed a passionate love for the sport that shaped our friendships and our lives. For eight years we played our hearts out for the Christian Brothers—a brotherhood of young boys with Latin names, playing a game with deep Anglo roots under Uruguay’s sunny skies, and proudly wearing the bright green shamrock on our uniforms. The game became so much a part of our lives, in fact, that when we graduated from Stella Maris at the age of sixteen, many of us could not bear the thought that our playing days were over. Our salvation came in the form of the Old Christians Club, a private rugby team formed in 1965 by previous alumni of the Stella Maris rugby program to give Stella Maris ruggers a chance to continue playing the game after our school years ended.',\n",
       " 'There were others—Alexis Hounie, Gastón Costemalle, Daniel Shaw—all of them great players and all of them my friends. But my oldest friend was Guido Magri. He and I had met on my first day at the Stella Maris School—I was eight years old and Guido was one year older—and we had been inseparable ever since. Guido and I grew up together, playing soccer and sharing a love of motorcycles, cars, and auto racing. When I was fifteen we both had mopeds that we had modified in silly ways—removing the mufflers, turn signals, and fenders—and we would ride them to Las Delicias, a famous ice cream parlor in our neighborhood, where we would drool over the girls from the nearby School Sagrado Corazón, hoping to impress them with our souped-up scooters. Guido was a dependable friend, with a good sense of humor and an easy laugh. He was also an outstanding scrum half, as quick and smart as a fox, with good hands and great courage. Under the guidance of the Christian Brothers, both of us grew to love the game of rugby with a consuming passion. As seasons passed we worked hard to improve our skills, and by the time I was fifteen we had each earned a spot on the Stella Maris First XV, the team’s starting lineup. After graduation, both of us went on to join the Old Christians and spent several happy seasons pursuing the high-octane social life of young rugby players. That rowdiness came to an abrupt end for Guido in 1969, when he met and fell in love with the beautiful daughter of a Chilean diplomat. She was now his fiancée, and he was happy to behave himself for her sake.']"
      ]
     },
     "execution_count": 9,
     "metadata": {},
     "output_type": "execute_result"
    }
   ],
   "source": [
    "pattern = re.compile(\"[^\\n]+love[^\\n]+\")\n",
    "findings = re.findall(pattern, content)\n",
    "findings[:2]"
   ]
  },
  {
   "cell_type": "markdown",
   "id": "c0c0a6f3-52e5-4d61-8d0b-aaca33bfa5b5",
   "metadata": {},
   "source": [
    "# Chapter titles"
   ]
  },
  {
   "cell_type": "code",
   "execution_count": 10,
   "id": "d285aef1-7ec8-435c-bfd1-02444817a1b2",
   "metadata": {},
   "outputs": [
    {
     "data": {
      "text/plain": [
       "['Before',\n",
       " 'Everything Precious',\n",
       " 'A Promise',\n",
       " 'Breathe Once More',\n",
       " 'Abandoned',\n",
       " 'Tomb',\n",
       " 'East',\n",
       " 'The Opposite of Death',\n",
       " 'I See a Man',\n",
       " 'After']"
      ]
     },
     "execution_count": 10,
     "metadata": {},
     "output_type": "execute_result"
    }
   ],
   "source": [
    "pattern = re.compile(\"\\n([A-Za-z ]+)\\n\")\n",
    "#findings =[item.strip('\\n') for item in re.findall(pattern, content)]\n",
    "findings = re.findall(pattern, content)\n",
    "findings"
   ]
  },
  {
   "cell_type": "markdown",
   "id": "e177281e-6ad6-433f-9b5a-a2810ea4a897",
   "metadata": {},
   "source": [
    "# Function that find the occurence of any word"
   ]
  },
  {
   "cell_type": "code",
   "execution_count": 158,
   "id": "9075c423-b42c-44c3-937b-34156a511574",
   "metadata": {},
   "outputs": [
    {
     "name": "stdout",
     "output_type": "stream",
     "text": [
      "3\n"
     ]
    }
   ],
   "source": [
    "def numOfCount(word):\n",
    "    for item in listWordCount:\n",
    "        if word in item[1]:\n",
    "            return item[0]\n",
    "print(numOfCount(\"hate\"))"
   ]
  }
 ],
 "metadata": {
  "kernelspec": {
   "display_name": "Python 3 (ipykernel)",
   "language": "python",
   "name": "python3"
  },
  "language_info": {
   "codemirror_mode": {
    "name": "ipython",
    "version": 3
   },
   "file_extension": ".py",
   "mimetype": "text/x-python",
   "name": "python",
   "nbconvert_exporter": "python",
   "pygments_lexer": "ipython3",
   "version": "3.12.5"
  }
 },
 "nbformat": 4,
 "nbformat_minor": 5
}
